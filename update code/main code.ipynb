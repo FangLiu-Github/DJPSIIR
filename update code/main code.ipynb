{
 "cells": [
  {
   "cell_type": "code",
   "execution_count": 3,
   "metadata": {
    "vscode": {
     "languageId": "r"
    }
   },
   "outputs": [
    {
     "name": "stderr",
     "output_type": "stream",
     "text": [
      "Registered S3 method overwritten by 'tidycmprsk':\n",
      "  method                    from     \n",
      "  global_pvalue_fun.tidycrr gtsummary\n",
      "\n",
      "── \u001b[1mAttaching core tidyverse packages\u001b[22m ──────────────────────── tidyverse 2.0.0 ──\n",
      "\u001b[32m✔\u001b[39m \u001b[34mdplyr    \u001b[39m 1.1.4     \u001b[32m✔\u001b[39m \u001b[34mreadr    \u001b[39m 2.1.5\n",
      "\u001b[32m✔\u001b[39m \u001b[34mforcats  \u001b[39m 1.0.0     \u001b[32m✔\u001b[39m \u001b[34mstringr  \u001b[39m 1.5.1\n",
      "\u001b[32m✔\u001b[39m \u001b[34mggplot2  \u001b[39m 3.5.1     \u001b[32m✔\u001b[39m \u001b[34mtibble   \u001b[39m 3.2.1\n",
      "\u001b[32m✔\u001b[39m \u001b[34mlubridate\u001b[39m 1.9.3     \u001b[32m✔\u001b[39m \u001b[34mtidyr    \u001b[39m 1.3.1\n",
      "\u001b[32m✔\u001b[39m \u001b[34mpurrr    \u001b[39m 1.0.2     \n",
      "── \u001b[1mConflicts\u001b[22m ────────────────────────────────────────── tidyverse_conflicts() ──\n",
      "\u001b[31m✖\u001b[39m \u001b[34mdplyr\u001b[39m::\u001b[32mfilter()\u001b[39m masks \u001b[34mstats\u001b[39m::filter()\n",
      "\u001b[31m✖\u001b[39m \u001b[34mdplyr\u001b[39m::\u001b[32mlag()\u001b[39m    masks \u001b[34mstats\u001b[39m::lag()\n",
      "\u001b[36mℹ\u001b[39m Use the conflicted package (\u001b[3m\u001b[34m<http://conflicted.r-lib.org/>\u001b[39m\u001b[23m) to force all conflicts to become errors\n",
      "Loading required package: survival\n",
      "\n",
      "Loading required package: nlme\n",
      "\n",
      "\n",
      "Attaching package: 'nlme'\n",
      "\n",
      "\n",
      "The following object is masked from 'package:dplyr':\n",
      "\n",
      "    collapse\n",
      "\n",
      "\n",
      "Loading required package: GLMMadaptive\n",
      "\n",
      "Loading required package: splines\n",
      "\n",
      "Registered S3 methods overwritten by 'dlookr':\n",
      "  method          from  \n",
      "  plot.transform  scales\n",
      "  print.transform scales\n",
      "\n",
      "\n",
      "Attaching package: 'dlookr'\n",
      "\n",
      "\n",
      "The following object is masked from 'package:tidyr':\n",
      "\n",
      "    extract\n",
      "\n",
      "\n",
      "The following object is masked from 'package:base':\n",
      "\n",
      "    transform\n",
      "\n",
      "\n",
      "here() starts at C:/work/documents/HIV/IIR/github/code\n",
      "\n",
      "Loading required package: Matrix\n",
      "\n",
      "\n",
      "Attaching package: 'Matrix'\n",
      "\n",
      "\n",
      "The following objects are masked from 'package:tidyr':\n",
      "\n",
      "    expand, pack, unpack\n",
      "\n",
      "\n",
      "Loaded glmnet 4.1-8\n",
      "\n",
      "\n",
      " randomForestSRC 3.2.3 \n",
      " \n",
      " Type rfsrc.news() to see new features, changes, and bug fixes. \n",
      " \n",
      "\n",
      "\n",
      "\n",
      "Attaching package: 'randomForestSRC'\n",
      "\n",
      "\n",
      "The following object is masked from 'package:purrr':\n",
      "\n",
      "    partial\n",
      "\n",
      "\n",
      "randomForest 4.7-1.1\n",
      "\n",
      "Type rfNews() to see new features/changes/bug fixes.\n",
      "\n",
      "\n",
      "Attaching package: 'randomForest'\n",
      "\n",
      "\n",
      "The following object is masked from 'package:dplyr':\n",
      "\n",
      "    combine\n",
      "\n",
      "\n",
      "The following object is masked from 'package:ggplot2':\n",
      "\n",
      "    margin\n",
      "\n",
      "\n",
      "Loaded gbm 2.1.9\n",
      "\n",
      "This version of gbm is no longer under development. Consider transitioning to gbm3, https://github.com/gbm-developers/gbm3\n",
      "\n",
      "\n",
      "Attaching package: 'mice'\n",
      "\n",
      "\n",
      "The following object is masked from 'package:stats':\n",
      "\n",
      "    filter\n",
      "\n",
      "\n",
      "The following objects are masked from 'package:base':\n",
      "\n",
      "    cbind, rbind\n",
      "\n",
      "\n",
      "Loading required package: colorspace\n",
      "\n",
      "Loading required package: grid\n",
      "\n",
      "VIM is ready to use.\n",
      "\n",
      "\n",
      "Suggestions and bug-reports can be submitted at: https://github.com/statistikat/VIM/issues\n",
      "\n",
      "\n",
      "Attaching package: 'VIM'\n",
      "\n",
      "\n",
      "The following object is masked from 'package:datasets':\n",
      "\n",
      "    sleep\n",
      "\n",
      "\n",
      "Loading required package: lattice\n",
      "\n",
      "\n",
      "Attaching package: 'caret'\n",
      "\n",
      "\n",
      "The following object is masked from 'package:survival':\n",
      "\n",
      "    cluster\n",
      "\n",
      "\n",
      "The following object is masked from 'package:purrr':\n",
      "\n",
      "    lift\n",
      "\n",
      "\n",
      "Loading required package: stats4\n",
      "\n",
      "\n",
      "Attaching package: 'VGAM'\n",
      "\n",
      "\n",
      "The following object is masked from 'package:caret':\n",
      "\n",
      "    predictors\n",
      "\n",
      "\n",
      "The following object is masked from 'package:VIM':\n",
      "\n",
      "    wine\n",
      "\n",
      "\n",
      "Loading required package: carData\n",
      "\n",
      "\n",
      "Attaching package: 'car'\n",
      "\n",
      "\n",
      "The following object is masked from 'package:VGAM':\n",
      "\n",
      "    logit\n",
      "\n",
      "\n",
      "The following object is masked from 'package:dplyr':\n",
      "\n",
      "    recode\n",
      "\n",
      "\n",
      "The following object is masked from 'package:purrr':\n",
      "\n",
      "    some\n",
      "\n",
      "\n",
      "The following object is masked from 'package:autoReg':\n",
      "\n",
      "    residualPlot\n",
      "\n",
      "\n",
      "This is mgcv 1.9-1. For overview type 'help(\"mgcv-package\")'.\n",
      "\n",
      "\n",
      "Attaching package: 'mgcv'\n",
      "\n",
      "\n",
      "The following object is masked from 'package:VGAM':\n",
      "\n",
      "    s\n",
      "\n",
      "\n",
      "Loading required package: zoo\n",
      "\n",
      "\n",
      "Attaching package: 'zoo'\n",
      "\n",
      "\n",
      "The following objects are masked from 'package:base':\n",
      "\n",
      "    as.Date, as.Date.numeric\n",
      "\n",
      "\n",
      "\n",
      "Attaching package: 'lmtest'\n",
      "\n",
      "\n",
      "The following object is masked from 'package:VGAM':\n",
      "\n",
      "    lrtest\n",
      "\n",
      "\n",
      "\n",
      "Attaching package: 'flextable'\n",
      "\n",
      "\n",
      "The following object is masked from 'package:gtsummary':\n",
      "\n",
      "    continuous_summary\n",
      "\n",
      "\n",
      "The following objects are masked from 'package:ggpubr':\n",
      "\n",
      "    border, font, rotate\n",
      "\n",
      "\n",
      "The following object is masked from 'package:purrr':\n",
      "\n",
      "    compose\n",
      "\n",
      "\n"
     ]
    }
   ],
   "source": [
    "# Loading Packages\n",
    "library(chest)\n",
    "library(autoReg)\n",
    "library(tidyverse)\n",
    "library(JMbayes2)\n",
    "library(ggpubr)\n",
    "library(dlookr)\n",
    "library(visdat)\n",
    "library(compareGroups)\n",
    "library(gtsummary)\n",
    "library(here)\n",
    "library(openxlsx)\n",
    "library(broom)\n",
    "library(glmnet)\n",
    "library(randomForestSRC)\n",
    "library(randomForest)\n",
    "library(gbm)\n",
    "library(survival)\n",
    "library(mice)\n",
    "library(VIM)\n",
    "library(naniar)\n",
    "library(forcats)\n",
    "library(caret)\n",
    "library(VGAM)\n",
    "library(timeROC)\n",
    "library(car)\n",
    "library(mgcv)\n",
    "library(lmtest)\n",
    "library(ggplot2)\n",
    "library(flextable)"
   ]
  },
  {
   "cell_type": "markdown",
   "metadata": {},
   "source": [
    "# code for figure 2"
   ]
  },
  {
   "cell_type": "code",
   "execution_count": null,
   "metadata": {
    "vscode": {
     "languageId": "r"
    }
   },
   "outputs": [],
   "source": [
    "## xixi cohort ##\n",
    "\n",
    "# Loading Data\n",
    "load(\"C:/path/data9.Rdata\")\n",
    "# Data Preparation\n",
    "df_final_surv$IIR_3revi <- as.numeric(df_final_surv$IIR_3revi)\n",
    "df_final_surv$time1 <- as.numeric(df_final_surv$time1) \n",
    "\n",
    "breaks <- c(-Inf, 30, 60, 90, Inf)\n",
    "df_final_long$B16_group <- cut(df_final_long$B16, breaks = breaks, labels = FALSE, include.lowest = TRUE)\n",
    "df_final_long$B16_group <- addNA(df_final_long$B16_group)\n",
    "df_final_long$B16_group <- as.integer(df_final_long$B16_group)\n",
    "df_final_long <- df_final_long %>% \n",
    "   select(-B16)"
   ]
  },
  {
   "cell_type": "code",
   "execution_count": 11,
   "metadata": {
    "vscode": {
     "languageId": "r"
    }
   },
   "outputs": [],
   "source": [
    "# Fitting Models\n",
    "CoxFit3 <- coxph(Surv(time1, IIR_3revi) ~ B9+B19_group+AGE_10, data = df_final_surv)\n",
    "lmeFit1 <- lme(F2 ~ ns(follow.up.years, 2, B = c(0, 6.7))+B9+B8+B12_group+B18_group+B10_group+AGE_10+B16_group, \n",
    "                data = df_final_long, random = ~ ns(follow.up.years, 2, B = c(0, 6.7)) | NID,\n",
    "                control = lmeControl(opt = \"optim\"))\n",
    "lmeFit2 <- lme(CD4CD8 ~ ns(follow.up.years, 2, B = c(0, 6.4))+B2+AGE_10+B25+B12_group+B16_group+B9+B8+B10_group, \n",
    "                data = df_final_long, random = ~ ns(follow.up.years, 2, B = c(0, 6.4)) | NID,\n",
    "                control = lmeControl(opt = \"optim\"))\n",
    "jmFitcox3.12 <- jm(CoxFit3, list(lmeFit1, lmeFit2), time_var = \"follow.up.years\")"
   ]
  },
  {
   "cell_type": "code",
   "execution_count": 12,
   "metadata": {
    "vscode": {
     "languageId": "r"
    }
   },
   "outputs": [
    {
     "name": "stdout",
     "output_type": "stream",
     "text": [
      "\n",
      "\tTime-dependent AUC for the Joint Model jmFitcox3.12\n",
      "\n",
      "Estimated AUC: 0.8932\n",
      "At time: 5\n",
      "Using information up to time: 1 (3331 subjects still at risk)\n",
      "\n",
      "\n",
      "\tTime-dependent AUC for the Joint Model jmFitcox3.12\n",
      "\n",
      "Estimated AUC: 0.9079\n",
      "At time: 5\n",
      "Using information up to time: 2 (3156 subjects still at risk)\n",
      "\n",
      "\n",
      "\tTime-dependent AUC for the Joint Model jmFitcox3.12\n",
      "\n",
      "Estimated AUC: 0.9159\n",
      "At time: 5\n",
      "Using information up to time: 3 (2910 subjects still at risk)\n",
      "\n",
      "\n",
      "\tTime-dependent AUC for the Joint Model jmFitcox3.12\n",
      "\n",
      "Estimated AUC: 0.9314\n",
      "At time: 5\n",
      "Using information up to time: 4 (2612 subjects still at risk)\n",
      "\n"
     ]
    }
   ],
   "source": [
    "# AUROC Calculation\n",
    "# tvROC,jmFitcox3.12,Thoriz = 5\n",
    "jmFitcox3.12_roc15 <- tvROC(jmFitcox3.12, newdata = df_final_long, Tstart = 1, Thoriz = 5)\n",
    "jmFitcox3.12_roc25 <- tvROC(jmFitcox3.12, newdata = df_final_long, Tstart = 2, Thoriz = 5)\n",
    "jmFitcox3.12_roc35 <- tvROC(jmFitcox3.12, newdata = df_final_long, Tstart = 3, Thoriz = 5)\n",
    "jmFitcox3.12_roc45 <- tvROC(jmFitcox3.12, newdata = df_final_long, Tstart = 4, Thoriz = 5)\n",
    "\n",
    "print(tvAUC(jmFitcox3.12_roc15))\n",
    "print(tvAUC(jmFitcox3.12_roc25))\n",
    "print(tvAUC(jmFitcox3.12_roc35))\n",
    "print(tvAUC(jmFitcox3.12_roc45))"
   ]
  },
  {
   "cell_type": "code",
   "execution_count": null,
   "metadata": {
    "vscode": {
     "languageId": "r"
    }
   },
   "outputs": [],
   "source": [
    "# tvROC,jmFitcox3.12,Thoriz = 6\n",
    "jmFitcox3.12_roc16 <- tvROC(jmFitcox3.12, newdata = df_final_long, Tstart = 1, Thoriz = 6)\n",
    "jmFitcox3.12_roc26 <- tvROC(jmFitcox3.12, newdata = df_final_long, Tstart = 2, Thoriz = 6)\n",
    "jmFitcox3.12_roc36 <- tvROC(jmFitcox3.12, newdata = df_final_long, Tstart = 3, Thoriz = 6)\n",
    "jmFitcox3.12_roc46 <- tvROC(jmFitcox3.12, newdata = df_final_long, Tstart = 4, Thoriz = 6)\n",
    "\n",
    "print(tvAUC(jmFitcox3.12_roc16))\n",
    "print(tvAUC(jmFitcox3.12_roc26))\n",
    "print(tvAUC(jmFitcox3.12_roc36))\n",
    "print(tvAUC(jmFitcox3.12_roc46))"
   ]
  },
  {
   "cell_type": "code",
   "execution_count": null,
   "metadata": {
    "vscode": {
     "languageId": "r"
    }
   },
   "outputs": [],
   "source": [
    "# tvROC,jmFitcox3.12,Thoriz = 7\n",
    "jmFitcox3.12_roc17 <- tvROC(jmFitcox3.12, newdata = df_final_long, Tstart = 1, Thoriz = 7)\n",
    "jmFitcox3.12_roc27 <- tvROC(jmFitcox3.12, newdata = df_final_long, Tstart = 2, Thoriz = 7)\n",
    "jmFitcox3.12_roc37 <- tvROC(jmFitcox3.12, newdata = df_final_long, Tstart = 3, Thoriz = 7)\n",
    "jmFitcox3.12_roc47 <- tvROC(jmFitcox3.12, newdata = df_final_long, Tstart = 4, Thoriz = 7)\n",
    "\n",
    "print(tvAUC(jmFitcox3.12_roc17))\n",
    "print(tvAUC(jmFitcox3.12_roc27))\n",
    "print(tvAUC(jmFitcox3.12_roc37))\n",
    "print(tvAUC(jmFitcox3.12_roc47))"
   ]
  },
  {
   "cell_type": "code",
   "execution_count": null,
   "metadata": {
    "vscode": {
     "languageId": "r"
    }
   },
   "outputs": [],
   "source": [
    "# Calibration Plot\n",
    "# cal，jmFitcox3.12,Thoriz = 5\n",
    "jmFitcox3.12_cp15 <- calibration_plot(jmFitcox3.12, newdata = df_final_long, Tstart = 1, Thoriz = 5)\n",
    "jmFitcox3.12_cp25 <- calibration_plot(jmFitcox3.12, newdata = df_final_long, Tstart = 2, Thoriz = 5)\n",
    "jmFitcox3.12_cp35 <- calibration_plot(jmFitcox3.12, newdata = df_final_long, Tstart = 3, Thoriz = 5)\n",
    "jmFitcox3.12_cp45 <- calibration_plot(jmFitcox3.12, newdata = df_final_long, Tstart = 4, Thoriz = 5)\n",
    "\n",
    "# cal，jmFitcox3.12,Thoriz = 6\n",
    "jmFitcox3.12_cp16 <- calibration_plot(jmFitcox3.12, newdata = df_final_long, Tstart = 1, Thoriz = 6)\n",
    "jmFitcox3.12_cp26 <- calibration_plot(jmFitcox3.12, newdata = df_final_long, Tstart = 2, Thoriz = 6)\n",
    "jmFitcox3.12_cp36 <- calibration_plot(jmFitcox3.12, newdata = df_final_long, Tstart = 3, Thoriz = 6)\n",
    "jmFitcox3.12_cp46 <- calibration_plot(jmFitcox3.12, newdata = df_final_long, Tstart = 4, Thoriz = 6)\n",
    "\n",
    "# cal，jmFitcox3.12,Thoriz = 7\n",
    "jmFitcox3.12_cp17 <- calibration_plot(jmFitcox3.12, newdata = df_final_long, Tstart = 1, Thoriz = 7)\n",
    "jmFitcox3.12_cp27 <- calibration_plot(jmFitcox3.12, newdata = df_final_long, Tstart = 2, Thoriz = 7)\n",
    "jmFitcox3.12_cp37 <- calibration_plot(jmFitcox3.12, newdata = df_final_long, Tstart = 3, Thoriz = 7)\n",
    "jmFitcox3.12_cp47 <- calibration_plot(jmFitcox3.12, newdata = df_final_long, Tstart = 4, Thoriz = 7)"
   ]
  },
  {
   "cell_type": "markdown",
   "metadata": {},
   "source": [
    "# code for figure 3"
   ]
  },
  {
   "cell_type": "code",
   "execution_count": null,
   "metadata": {
    "vscode": {
     "languageId": "r"
    }
   },
   "outputs": [],
   "source": [
    "## ditan cohort ##\n",
    "# Loading Data\n",
    "load(\"ditan.data1.Rdata\")\n",
    "# Data Preparation\n",
    "ditan_final_surv$IIR_3revi <- as.numeric(ditan_final_surv$IIR_3revi)\n",
    "ditan_final_surv$time1.new <- as.numeric(ditan_final_surv$time1.new)"
   ]
  },
  {
   "cell_type": "code",
   "execution_count": null,
   "metadata": {
    "vscode": {
     "languageId": "r"
    }
   },
   "outputs": [],
   "source": [
    "# Fitting Models\n",
    "CoxFit_ditan <- coxph(Surv(time1.new, IIR_3revi) ~ B9+B19_group+AGE_10, data = ditan_final_surv)\n",
    "lmeFit1_ditan <- lme(F2 ~ ns(follow.up.years, 2, B = c(0, 6.7))+B9+B8+B12_group+B18_group+B10_group+AGE_10+B16_group, \n",
    "                data = ditan_final_long, random = ~ ns(follow.up.years, 2, B = c(0, 6.7)) | NID,\n",
    "                control = lmeControl(opt = \"optim\"))\n",
    "lmeFit2_ditan <- lme(CD4CD8 ~ ns(follow.up.years, 2, B = c(0, 6.4))+B2+AGE_10+B25+B12_group+B16_group+B9+B8+B10_group, \n",
    "                data = ditan_final_long, random = ~ ns(follow.up.years, 2, B = c(0, 6.4)) | NID,\n",
    "                control = lmeControl(opt = \"optim\"))\n",
    "jmFitcox3.12_ditan <- jm(CoxFit_ditan, list(lmeFit1_ditan, lmeFit2_ditan), time_var = \"follow.up.years\")"
   ]
  },
  {
   "cell_type": "code",
   "execution_count": null,
   "metadata": {
    "vscode": {
     "languageId": "r"
    }
   },
   "outputs": [],
   "source": [
    "# AUROC Calculation\n",
    "# tvROC,jmFitcox3.12_ditan,Thoriz = 5\n",
    "jmFitcox3.12_ditan_roc15 <- tvROC(jmFitcox3.12_ditan, newdata = ditan_final_long, Tstart = 1, Thoriz = 5)\n",
    "jmFitcox3.12_ditan_roc25 <- tvROC(jmFitcox3.12_ditan, newdata = ditan_final_long, Tstart = 2, Thoriz = 5)\n",
    "jmFitcox3.12_ditan_roc35 <- tvROC(jmFitcox3.12_ditan, newdata = ditan_final_long, Tstart = 3, Thoriz = 5)\n",
    "jmFitcox3.12_ditan_roc45 <- tvROC(jmFitcox3.12_ditan, newdata = ditan_final_long, Tstart = 4, Thoriz = 5)\n",
    "\n",
    "print(tvAUC(jmFitcox3.12_ditan_roc15))\n",
    "print(tvAUC(jmFitcox3.12_ditan_roc25))\n",
    "print(tvAUC(jmFitcox3.12_ditan_roc35))\n",
    "print(tvAUC(jmFitcox3.12_ditan_roc45))"
   ]
  },
  {
   "cell_type": "code",
   "execution_count": null,
   "metadata": {
    "vscode": {
     "languageId": "r"
    }
   },
   "outputs": [],
   "source": [
    "# tvROC,jmFitcox3.12_ditan,Thoriz = 6\n",
    "jmFitcox3.12_ditan_roc16 <- tvROC(jmFitcox3.12_ditan, newdata = ditan_final_long, Tstart = 1, Thoriz = 6)\n",
    "jmFitcox3.12_ditan_roc26 <- tvROC(jmFitcox3.12_ditan, newdata = ditan_final_long, Tstart = 2, Thoriz = 6)\n",
    "jmFitcox3.12_ditan_roc36 <- tvROC(jmFitcox3.12_ditan, newdata = ditan_final_long, Tstart = 3, Thoriz = 6)\n",
    "jmFitcox3.12_ditan_roc46 <- tvROC(jmFitcox3.12_ditan, newdata = ditan_final_long, Tstart = 4, Thoriz = 6)\n",
    "\n",
    "print(tvAUC(jmFitcox3.12_ditan_roc16))\n",
    "print(tvAUC(jmFitcox3.12_ditan_roc26))\n",
    "print(tvAUC(jmFitcox3.12_ditan_roc36))\n",
    "print(tvAUC(jmFitcox3.12_ditan_roc46))"
   ]
  },
  {
   "cell_type": "code",
   "execution_count": null,
   "metadata": {
    "vscode": {
     "languageId": "r"
    }
   },
   "outputs": [],
   "source": [
    "# tvROC,jmFitcox3.12_ditan,Thoriz = 7\n",
    "jmFitcox3.12_ditan_roc17 <- tvROC(jmFitcox3.12_ditan, newdata = ditan_final_long, Tstart = 1, Thoriz = 7)\n",
    "jmFitcox3.12_ditan_roc27 <- tvROC(jmFitcox3.12_ditan, newdata = ditan_final_long, Tstart = 2, Thoriz = 7)\n",
    "jmFitcox3.12_ditan_roc37 <- tvROC(jmFitcox3.12_ditan, newdata = ditan_final_long, Tstart = 3, Thoriz = 7)\n",
    "jmFitcox3.12_ditan_roc47 <- tvROC(jmFitcox3.12_ditan, newdata = ditan_final_long, Tstart = 4, Thoriz = 7)\n",
    "\n",
    "print(tvAUC(jmFitcox3.12_ditan_roc17))\n",
    "print(tvAUC(jmFitcox3.12_ditan_roc27))\n",
    "print(tvAUC(jmFitcox3.12_ditan_roc37))\n",
    "print(tvAUC(jmFitcox3.12_ditan_roc47))"
   ]
  },
  {
   "cell_type": "code",
   "execution_count": null,
   "metadata": {
    "vscode": {
     "languageId": "r"
    }
   },
   "outputs": [],
   "source": [
    "# Calibration Plot\n",
    "# cal，jmFitcox3.12_ditan,Thoriz = 5\n",
    "jmFitcox3.12_ditan_cp15 <- calibration_plot(jmFitcox3.12_ditan, newdata = ditan_final_long, Tstart = 1, Thoriz = 5)\n",
    "jmFitcox3.12_ditan_cp25 <- calibration_plot(jmFitcox3.12_ditan, newdata = ditan_final_long, Tstart = 2, Thoriz = 5)\n",
    "jmFitcox3.12_ditan_cp35 <- calibration_plot(jmFitcox3.12_ditan, newdata = ditan_final_long, Tstart = 3, Thoriz = 5)\n",
    "jmFitcox3.12_ditan_cp45 <- calibration_plot(jmFitcox3.12_ditan, newdata = ditan_final_long, Tstart = 4, Thoriz = 5)\n",
    "\n",
    "# cal，jmFitcox3.12_ditan,Thoriz = 6\n",
    "jmFitcox3.12_ditan_cp16 <- calibration_plot(jmFitcox3.12_ditan, newdata = ditan_final_long, Tstart = 1, Thoriz = 6)\n",
    "jmFitcox3.12_ditan_cp26 <- calibration_plot(jmFitcox3.12_ditan, newdata = ditan_final_long, Tstart = 2, Thoriz = 6)\n",
    "jmFitcox3.12_ditan_cp36 <- calibration_plot(jmFitcox3.12_ditan, newdata = ditan_final_long, Tstart = 3, Thoriz = 6)\n",
    "jmFitcox3.12_ditan_cp46 <- calibration_plot(jmFitcox3.12_ditan, newdata = ditan_final_long, Tstart = 4, Thoriz = 6)\n",
    "\n",
    "# cal，jmFitcox3.12_ditan,Thoriz = 7\n",
    "jmFitcox3.12_ditan_cp17 <- calibration_plot(jmFitcox3.12_ditan, newdata = ditan_final_long, Tstart = 1, Thoriz = 7)\n",
    "jmFitcox3.12_ditan_cp27 <- calibration_plot(jmFitcox3.12_ditan, newdata = ditan_final_long, Tstart = 2, Thoriz = 7)\n",
    "jmFitcox3.12_ditan_cp37 <- calibration_plot(jmFitcox3.12_ditan, newdata = ditan_final_long, Tstart = 3, Thoriz = 7)\n",
    "jmFitcox3.12_ditan_cp47 <- calibration_plot(jmFitcox3.12_ditan, newdata = ditan_final_long, Tstart = 4, Thoriz = 7)"
   ]
  },
  {
   "cell_type": "code",
   "execution_count": null,
   "metadata": {
    "vscode": {
     "languageId": "r"
    }
   },
   "outputs": [],
   "source": [
    "## youan cohort ##\n",
    "# Loading Data\n",
    "load(\"youan.data1.Rdata\")\n",
    "# Data Preparation\n",
    "youan_final_surv$IIR_3revi <- as.numeric(youan_final_surv$IIR_3revi)\n",
    "youan_final_surv$time1.new <- as.numeric(youan_final_surv$time1.new)"
   ]
  },
  {
   "cell_type": "code",
   "execution_count": null,
   "metadata": {
    "vscode": {
     "languageId": "r"
    }
   },
   "outputs": [],
   "source": [
    "# Fitting Models\n",
    "CoxFit_youan <- coxph(Surv(time1.new, IIR_3revi) ~ B9+B19_group+AGE_10, data = youan_final_surv)\n",
    "lmeFit1_youan <- lme(F2 ~ ns(follow.up.years, 2, B = c(0, 6.7))+B9+B8+B12_group+B18_group+B10_group+AGE_10+B16_group, \n",
    "                data = youan_final_long, random = ~ ns(follow.up.years, 2, B = c(0, 6.7)) | NID,\n",
    "                control = lmeControl(opt = \"optim\"))\n",
    "lmeFit2_youan <- lme(CD4CD8 ~ ns(follow.up.years, 2, B = c(0, 6.4))+B2+AGE_10+B25+B12_group+B16_group+B9+B8+B10_group, \n",
    "                data = youan_final_long, random = ~ ns(follow.up.years, 2, B = c(0, 6.4)) | NID,\n",
    "                control = lmeControl(opt = \"optim\"))\n",
    "jmFitcox3.12_youan <- jm(CoxFit_youan, list(lmeFit1_youan, lmeFit2_youan), time_var = \"follow.up.years\")\n"
   ]
  },
  {
   "cell_type": "code",
   "execution_count": null,
   "metadata": {
    "vscode": {
     "languageId": "r"
    }
   },
   "outputs": [],
   "source": [
    "# AUROC Calculation\n",
    "youan_final_long <- youan_final_long %>%\n",
    "  arrange(NID, follow.up.years)\n",
    "# tvROC,jmFitcox3.12_youan,Thoriz = 5\n",
    "jmFitcox3.12_youan_roc15 <- tvROC(jmFitcox3.12_youan, newdata = youan_final_long, Tstart = 1, Thoriz = 5)\n",
    "jmFitcox3.12_youan_roc25 <- tvROC(jmFitcox3.12_youan, newdata = youan_final_long, Tstart = 2, Thoriz = 5)\n",
    "jmFitcox3.12_youan_roc35 <- tvROC(jmFitcox3.12_youan, newdata = youan_final_long, Tstart = 3, Thoriz = 5)\n",
    "jmFitcox3.12_youan_roc45 <- tvROC(jmFitcox3.12_youan, newdata = youan_final_long, Tstart = 4, Thoriz = 5)\n",
    "\n",
    "print(tvAUC(jmFitcox3.12_youan_roc15))\n",
    "print(tvAUC(jmFitcox3.12_youan_roc25))\n",
    "print(tvAUC(jmFitcox3.12_youan_roc35))\n",
    "print(tvAUC(jmFitcox3.12_youan_roc45))"
   ]
  },
  {
   "cell_type": "code",
   "execution_count": null,
   "metadata": {
    "vscode": {
     "languageId": "r"
    }
   },
   "outputs": [],
   "source": [
    "# tvROC,jmFitcox3.12_youan,Thoriz = 6\n",
    "jmFitcox3.12_youan_roc16 <- tvROC(jmFitcox3.12_youan, newdata = youan_final_long, Tstart = 1, Thoriz = 6)\n",
    "jmFitcox3.12_youan_roc26 <- tvROC(jmFitcox3.12_youan, newdata = youan_final_long, Tstart = 2, Thoriz = 6)\n",
    "jmFitcox3.12_youan_roc36 <- tvROC(jmFitcox3.12_youan, newdata = youan_final_long, Tstart = 3, Thoriz = 6)\n",
    "jmFitcox3.12_youan_roc46 <- tvROC(jmFitcox3.12_youan, newdata = youan_final_long, Tstart = 4, Thoriz = 6)\n",
    "\n",
    "print(tvAUC(jmFitcox3.12_youan_roc16))\n",
    "print(tvAUC(jmFitcox3.12_youan_roc26))\n",
    "print(tvAUC(jmFitcox3.12_youan_roc36))\n",
    "print(tvAUC(jmFitcox3.12_youan_roc46))"
   ]
  },
  {
   "cell_type": "code",
   "execution_count": null,
   "metadata": {
    "vscode": {
     "languageId": "r"
    }
   },
   "outputs": [],
   "source": [
    "# tvROC,jmFitcox3.12_youan,Thoriz = 7\n",
    "jmFitcox3.12_youan_roc17 <- tvROC(jmFitcox3.12_youan, newdata = youan_final_long, Tstart = 1, Thoriz = 7)\n",
    "jmFitcox3.12_youan_roc27 <- tvROC(jmFitcox3.12_youan, newdata = youan_final_long, Tstart = 2, Thoriz = 7)\n",
    "jmFitcox3.12_youan_roc37 <- tvROC(jmFitcox3.12_youan, newdata = youan_final_long, Tstart = 3, Thoriz = 7)\n",
    "jmFitcox3.12_youan_roc47 <- tvROC(jmFitcox3.12_youan, newdata = youan_final_long, Tstart = 4, Thoriz = 7)\n",
    "\n",
    "print(tvAUC(jmFitcox3.12_youan_roc17))\n",
    "print(tvAUC(jmFitcox3.12_youan_roc27))\n",
    "print(tvAUC(jmFitcox3.12_youan_roc37))\n",
    "print(tvAUC(jmFitcox3.12_youan_roc47))"
   ]
  },
  {
   "cell_type": "code",
   "execution_count": null,
   "metadata": {
    "vscode": {
     "languageId": "r"
    }
   },
   "outputs": [],
   "source": [
    "# Calibration Plot\n",
    "# cal，jmFitcox3.12_youan,Thoriz = 5\n",
    "jmFitcox3.12_youan_cp15 <- calibration_plot(jmFitcox3.12_youan, newdata = youan_final_long, Tstart = 1, Thoriz = 5)\n",
    "jmFitcox3.12_youan_cp25 <- calibration_plot(jmFitcox3.12_youan, newdata = youan_final_long, Tstart = 2, Thoriz = 5)\n",
    "jmFitcox3.12_youan_cp35 <- calibration_plot(jmFitcox3.12_youan, newdata = youan_final_long, Tstart = 3, Thoriz = 5)\n",
    "jmFitcox3.12_youan_cp45 <- calibration_plot(jmFitcox3.12_youan, newdata = youan_final_long, Tstart = 4, Thoriz = 5)\n",
    "\n",
    "# cal，jmFitcox3.12_youan,Thoriz = 6\n",
    "jmFitcox3.12_youan_cp16 <- calibration_plot(jmFitcox3.12_youan, newdata = youan_final_long, Tstart = 1, Thoriz = 6)\n",
    "jmFitcox3.12_youan_cp26 <- calibration_plot(jmFitcox3.12_youan, newdata = youan_final_long, Tstart = 2, Thoriz = 6)\n",
    "jmFitcox3.12_youan_cp36 <- calibration_plot(jmFitcox3.12_youan, newdata = youan_final_long, Tstart = 3, Thoriz = 6)\n",
    "jmFitcox3.12_youan_cp46 <- calibration_plot(jmFitcox3.12_youan, newdata = youan_final_long, Tstart = 4, Thoriz = 6)\n",
    "\n",
    "# cal，jmFitcox3.12_youan,Thoriz = 7\n",
    "jmFitcox3.12_youan_cp17 <- calibration_plot(jmFitcox3.12_youan, newdata = youan_final_long, Tstart = 1, Thoriz = 7)\n",
    "jmFitcox3.12_youan_cp27 <- calibration_plot(jmFitcox3.12_youan, newdata = youan_final_long, Tstart = 2, Thoriz = 7)\n",
    "jmFitcox3.12_youan_cp37 <- calibration_plot(jmFitcox3.12_youan, newdata = youan_final_long, Tstart = 3, Thoriz = 7)\n",
    "jmFitcox3.12_youan_cp47 <- calibration_plot(jmFitcox3.12_youan, newdata = youan_final_long, Tstart = 4, Thoriz = 7)"
   ]
  },
  {
   "cell_type": "markdown",
   "metadata": {},
   "source": [
    "# code for figure 4"
   ]
  },
  {
   "cell_type": "code",
   "execution_count": null,
   "metadata": {
    "vscode": {
     "languageId": "r"
    }
   },
   "outputs": [],
   "source": [
    "## DCA Plot ##\n",
    "# xixi cohort\n",
    "roc17 <- jmFitcox3.12_roc17\n",
    "roc27 <- jmFitcox3.12_roc27\n",
    "roc37 <- jmFitcox3.12_roc37\n",
    "roc47 <- jmFitcox3.12_roc47\n",
    "\n",
    "results_df <- data.frame(\n",
    "  Threshold = c(rep(\"roc17\", length(roc17$TP)), rep(\"roc27\", length(roc27$TP)), \n",
    "                rep(\"roc37\", length(roc37$TP)), rep(\"roc47\", length(roc47$TP))),\n",
    "  TP = c(roc17$TP, roc27$TP, roc37$TP, roc47$TP), \n",
    "  FP = c(roc17$FP, roc27$FP, roc37$FP, roc47$FP),\n",
    "  nTP = c(roc17$nTP, roc27$nTP, roc37$nTP, roc47$nTP),\n",
    "  nFN = c(roc17$nFN, roc27$nFN, roc37$nFN, roc47$nFN),\n",
    "  nFP = c(roc17$nFP, roc27$nFP, roc37$nFP, roc47$nFP),\n",
    "  nTN = c(roc17$nTN, roc27$nTN, roc37$nTN, roc47$nTN),\n",
    "  thrs = c(roc17$thrs, roc27$thrs, roc37$thrs, roc47$thrs),\n",
    "  Youden = c(roc17$Youden, roc27$Youden, roc37$Youden, roc47$Youden),\n",
    "  Tstart = c(roc17$Tstart, roc27$Tstart, roc37$Tstart, roc47$Tstart),\n",
    "  Thoriz = c(roc17$Thoriz, roc27$Thoriz, roc37$Thoriz, roc47$Thoriz),\n",
    "  nr = c(roc17$nr, roc27$nr, roc37$nr, roc47$nr),\n",
    "  classObject = c(roc17$classObject, roc27$classObject, roc37$classObject, roc47$classObject),\n",
    "  nameObject = c(roc17$nameObject, roc27$nameObject, roc37$nameObject, roc47$nameObject)\n",
    ")\n",
    "\n",
    "write.csv(results_df, file = \n",
    "          \"C:/path/jmFitcox3.12_roc_results7.csv\", row.names = FALSE)"
   ]
  },
  {
   "cell_type": "code",
   "execution_count": null,
   "metadata": {
    "vscode": {
     "languageId": "r"
    }
   },
   "outputs": [],
   "source": [
    "# Loading Results and Plotting DCA\n",
    "results_df <- read.csv(\"C:/path/jmFitcox3.12_roc_results7.csv\")\n",
    "roc17_Tstart1 <- subset(results_df, Threshold == \"roc17\" & Tstart == 1)\n",
    "roc27_Tstart2 <- subset(results_df, Threshold == \"roc27\" & Tstart == 2)\n",
    "roc37_Tstart3 <- subset(results_df, Threshold == \"roc37\" & Tstart == 3)\n",
    "roc47_Tstart4 <- subset(results_df, Threshold == \"roc47\" & Tstart == 4)\n",
    "\n",
    "plot_decision_curve <- function(\n",
    "  data_list, save_path,\n",
    "  font_family = \"sans\", title_size = 16, axis_title_size = 14, \n",
    "  axis_text_size = 12, legend_title_size = 14, legend_text_size = 12\n",
    ") {\n",
    "  library(ggplot2)\n",
    "  library(dplyr)\n",
    "  \n",
    "  all_data <- data.frame()\n",
    "  for (i in 1:length(data_list)) {\n",
    "    data <- data_list[[i]]\n",
    "    dataset_name <- names(data_list)[i]\n",
    "    if (dataset_name == \"roc17_Tstart1\") {\n",
    "      dataset_name <- \"1 year\"\n",
    "    } else if (dataset_name == \"roc27_Tstart2\") {\n",
    "      dataset_name <- \"2 years\"\n",
    "    } else if (dataset_name == \"roc37_Tstart3\") {\n",
    "      dataset_name <- \"3 years\"\n",
    "    } else if (dataset_name == \"roc47_Tstart4\") {\n",
    "      dataset_name <- \"4 years\"\n",
    "    }\n",
    "    threshold <- data$thrs\n",
    "    TP <- data$TP\n",
    "    FP <- data$FP\n",
    "    net_benefit <- sapply(1:length(threshold), function(i) {\n",
    "      TP[i] - FP[i] * (threshold[i] / (1 - threshold[i]))\n",
    "    })\n",
    "    \n",
    "    valid_indices <- which(net_benefit >= 0)\n",
    "    threshold <- threshold[valid_indices]\n",
    "    net_benefit <- net_benefit[valid_indices]\n",
    "    \n",
    "    all_intervention <- threshold * (1 - threshold)\n",
    "    no_intervention <- rep(0, length(threshold))\n",
    "    \n",
    "    temp_df <- data.frame(\n",
    "      threshold = threshold,\n",
    "      net_benefit = net_benefit,\n",
    "      all_intervention = all_intervention,\n",
    "      no_intervention = no_intervention,\n",
    "      dataset = dataset_name\n",
    "    )\n",
    "    all_data <- rbind(all_data, temp_df)\n",
    "  }\n",
    "\n",
    "  best_thresholds <- all_data %>%\n",
    "    group_by(dataset) %>%\n",
    "    filter(net_benefit == max(net_benefit, na.rm = TRUE)) %>%\n",
    "    slice(1) %>% \n",
    "    ungroup() %>%\n",
    "    select(dataset, threshold, net_benefit)\n",
    "  \n",
    "  message(\"Optimal Thresholds and Their Net Gains for Each Dataset：\")\n",
    "  print(best_thresholds)\n",
    "  \n",
    "  p <- ggplot(all_data, aes(x = threshold, y = net_benefit)) +\n",
    "    geom_line(size = 1, aes(color = \"Net Benefit\")) +\n",
    "    geom_line(aes(y = all_intervention, color = \"All Intervention\"),\n",
    "              linetype = \"dashed\", size = 1) +\n",
    "    geom_line(aes(y = no_intervention, color = \"No Intervention\"),\n",
    "              linetype = \"dashed\", size = 1) +\n",
    "    facet_wrap(~ dataset, scales = \"free_y\") +\n",
    "    labs(\n",
    "      title = \"Decision Curve Analysis\",\n",
    "      x = \"Threshold Probability\",\n",
    "      y = \"Net Benefit\",\n",
    "      color = \"Legend\"\n",
    "    ) +\n",
    "    theme_minimal(base_family = font_family) +\n",
    "    theme(\n",
    "      plot.title = element_text(hjust = 0.5, size = title_size, face = \"bold\"),\n",
    "      axis.title = element_text(size = axis_title_size),\n",
    "      axis.text = element_text(size = axis_text_size),\n",
    "      legend.title = element_text(size = legend_title_size),\n",
    "      legend.text = element_text(size = legend_text_size)\n",
    "    ) +\n",
    "    scale_color_manual(\n",
    "      values = c(\n",
    "        \"Net Benefit\" = \"#6666eb\",\n",
    "        \"All Intervention\" = \"#ee5252\",\n",
    "        \"No Intervention\" = \"#76ab76\"\n",
    "      )\n",
    "    ) +\n",
    "    geom_vline(data = best_thresholds, aes(xintercept = threshold),\n",
    "               linetype = \"dotdash\", color = \"black\", size = 0.7) +\n",
    "    geom_point(data = best_thresholds, aes(x = threshold, y = net_benefit),\n",
    "               color = \"#F6C500\", size = 3.5, shape = 21, stroke = 1.2) +\n",
    "    geom_text(\n",
    "      data = best_thresholds,\n",
    "      aes(\n",
    "        x = threshold,\n",
    "        y = net_benefit,\n",
    "        label = paste0(\"(\", round(threshold, 2), \", \", round(net_benefit, 2), \")\")\n",
    "      ),\n",
    "      vjust = 2.2, hjust = 0.35, size = 4, color = \"black\", fontface = \"bold\"\n",
    "    )\n",
    "  \n",
    "  ggsave(filename = save_path, plot = p, width = 12, height = 8, dpi = 600)\n",
    "  print(p)\n",
    "  \n",
    "  invisible(best_thresholds)\n",
    "}\n",
    "\n",
    "data_list <- list(roc17_Tstart1 = roc17_Tstart1, roc27_Tstart2 = roc27_Tstart2, \n",
    "                  roc37_Tstart3 = roc37_Tstart3, roc47_Tstart4 = roc47_Tstart4)\n",
    "\n",
    "save_path <- \"C:/path/input/xixi_DCA7.pdf\"\n",
    "\n",
    "plot_decision_curve(data_list, save_path, font_family = \"sans\", \n",
    "                    title_size = 16, axis_title_size = 14, axis_text_size = 12, \n",
    "                    legend_title_size = 14, legend_text_size = 12)"
   ]
  },
  {
   "cell_type": "code",
   "execution_count": null,
   "metadata": {
    "vscode": {
     "languageId": "r"
    }
   },
   "outputs": [],
   "source": [
    "# ditan cohort\n",
    "roc17 <- jmFitcox3.12_ditan_roc17\n",
    "roc27 <- jmFitcox3.12_ditan_roc27\n",
    "roc37 <- jmFitcox3.12_ditan_roc37\n",
    "roc47 <- jmFitcox3.12_ditan_roc47\n",
    "\n",
    "results_df <- data.frame(\n",
    "  Threshold = c(rep(\"roc17\", length(roc17$TP)), rep(\"roc27\", length(roc27$TP)), \n",
    "                rep(\"roc37\", length(roc37$TP)), rep(\"roc47\", length(roc47$TP))),\n",
    "  TP = c(roc17$TP, roc27$TP, roc37$TP, roc47$TP), \n",
    "  FP = c(roc17$FP, roc27$FP, roc37$FP, roc47$FP),\n",
    "  nTP = c(roc17$nTP, roc27$nTP, roc37$nTP, roc47$nTP),\n",
    "  nFN = c(roc17$nFN, roc27$nFN, roc37$nFN, roc47$nFN),\n",
    "  nFP = c(roc17$nFP, roc27$nFP, roc37$nFP, roc47$nFP),\n",
    "  nTN = c(roc17$nTN, roc27$nTN, roc37$nTN, roc47$nTN),\n",
    "  thrs = c(roc17$thrs, roc27$thrs, roc37$thrs, roc47$thrs),\n",
    "  Youden = c(roc17$Youden, roc27$Youden, roc37$Youden, roc47$Youden),\n",
    "  Tstart = c(roc17$Tstart, roc27$Tstart, roc37$Tstart, roc47$Tstart),\n",
    "  Thoriz = c(roc17$Thoriz, roc27$Thoriz, roc37$Thoriz, roc47$Thoriz),\n",
    "  nr = c(roc17$nr, roc27$nr, roc37$nr, roc47$nr),\n",
    "  classObject = c(roc17$classObject, roc27$classObject, roc37$classObject, roc47$classObject),\n",
    "  nameObject = c(roc17$nameObject, roc27$nameObject, roc37$nameObject, roc47$nameObject)\n",
    ")\n",
    "\n",
    "write.csv(results_df, file = \n",
    "          \"C:/path/jmFitcox3.12_roc_ditan_results7.csv\", row.names = FALSE)\n"
   ]
  },
  {
   "cell_type": "code",
   "execution_count": null,
   "metadata": {
    "vscode": {
     "languageId": "r"
    }
   },
   "outputs": [],
   "source": [
    "# Loading Results and Plotting DCA for Ditan Cohort\n",
    "results_df <- read.csv(\"C:/path/jmFitcox3.12_roc_ditan_results7.csv\")\n",
    "roc17_Tstart1 <- subset(results_df, Threshold == \"roc17\" & Tstart == 1)\n",
    "roc27_Tstart2 <- subset(results_df, Threshold == \"roc27\" & Tstart == 2)\n",
    "roc37_Tstart3 <- subset(results_df, Threshold == \"roc37\" & Tstart == 3)\n",
    "roc47_Tstart4 <- subset(results_df, Threshold == \"roc47\" & Tstart == 4)\n",
    "\n",
    "plot_decision_curve <- function(\n",
    "  data_list, save_path,\n",
    "  font_family = \"sans\", title_size = 16, axis_title_size = 14, \n",
    "  axis_text_size = 12, legend_title_size = 14, legend_text_size = 12\n",
    ") {\n",
    "  library(ggplot2)\n",
    "  library(dplyr)\n",
    "  \n",
    "  all_data <- data.frame()\n",
    "  for (i in 1:length(data_list)) {\n",
    "    data <- data_list[[i]]\n",
    "    dataset_name <- names(data_list)[i]\n",
    "    if (dataset_name == \"roc17_Tstart1\") {\n",
    "      dataset_name <- \"1 year\"\n",
    "    } else if (dataset_name == \"roc27_Tstart2\") {\n",
    "      dataset_name <- \"2 years\"\n",
    "    } else if (dataset_name == \"roc37_Tstart3\") {\n",
    "      dataset_name <- \"3 years\"\n",
    "    } else if (dataset_name == \"roc47_Tstart4\") {\n",
    "      dataset_name <- \"4 years\"\n",
    "    }\n",
    "    threshold <- data$thrs\n",
    "    TP <- data$TP\n",
    "    FP <- data$FP\n",
    "    net_benefit <- sapply(1:length(threshold), function(i) {\n",
    "      TP[i] - FP[i] * (threshold[i] / (1 - threshold[i]))\n",
    "    })\n",
    "    \n",
    "    valid_indices <- which(net_benefit >= 0)\n",
    "    threshold <- threshold[valid_indices]\n",
    "    net_benefit <- net_benefit[valid_indices]\n",
    "    \n",
    "    all_intervention <- threshold * (1 - threshold)\n",
    "    no_intervention <- rep(0, length(threshold))\n",
    "    \n",
    "    temp_df <- data.frame(\n",
    "      threshold = threshold,\n",
    "      net_benefit = net_benefit,\n",
    "      all_intervention = all_intervention,\n",
    "      no_intervention = no_intervention,\n",
    "      dataset = dataset_name\n",
    "    )\n",
    "    all_data <- rbind(all_data, temp_df)\n",
    "  }\n",
    "\n",
    "  best_thresholds <- all_data %>%\n",
    "    group_by(dataset) %>%\n",
    "    filter(net_benefit == max(net_benefit, na.rm = TRUE)) %>%\n",
    "    slice(1) %>% \n",
    "    ungroup() %>%\n",
    "    select(dataset, threshold, net_benefit)\n",
    "  \n",
    "  message(\"Optimal Thresholds and Their Net Gains for Each Dataset：\")\n",
    "  print(best_thresholds)\n",
    "  \n",
    "  p <- ggplot(all_data, aes(x = threshold, y = net_benefit)) +\n",
    "    geom_line(size = 1, aes(color = \"Net Benefit\")) +\n",
    "    geom_line(aes(y = all_intervention, color = \"All Intervention\"),\n",
    "              linetype = \"dashed\", size = 1) +\n",
    "    geom_line(aes(y = no_intervention, color = \"No Intervention\"),\n",
    "              linetype = \"dashed\", size = 1) +\n",
    "    facet_wrap(~ dataset, scales = \"free_y\") +\n",
    "    labs(\n",
    "      title = \"Decision Curve Analysis\",\n",
    "      x = \"Threshold Probability\",\n",
    "      y = \"Net Benefit\",\n",
    "      color = \"Legend\"\n",
    "    ) +\n",
    "    theme_minimal(base_family = font_family) +\n",
    "    theme(\n",
    "      plot.title = element_text(hjust = 0.5, size = title_size, face = \"bold\"),\n",
    "      axis.title = element_text(size = axis_title_size),\n",
    "      axis.text = element_text(size = axis_text_size),\n",
    "      legend.title = element_text(size = legend_title_size),\n",
    "      legend.text = element_text(size = legend_text_size)\n",
    "    ) +\n",
    "    scale_color_manual(\n",
    "      values = c(\n",
    "        \"Net Benefit\" = \"#6666eb\",\n",
    "        \"All Intervention\" = \"#ee5252\",\n",
    "        \"No Intervention\" = \"#76ab76\"\n",
    "      )\n",
    "    ) +\n",
    "    geom_vline(data = best_thresholds, aes(xintercept = threshold),\n",
    "               linetype = \"dotdash\", color = \"black\", size = 0.7) +\n",
    "    geom_point(data = best_thresholds, aes(x = threshold, y = net_benefit),\n",
    "               color = \"#F6C500\", size = 3.5, shape = 21, stroke = 1.2) +\n",
    "    geom_text(\n",
    "      data = best_thresholds,\n",
    "      aes(\n",
    "        x = threshold,\n",
    "        y = net_benefit,\n",
    "        label = paste0(\"(\", round(threshold, 2), \", \", round(net_benefit, 2), \")\")\n",
    "      ),\n",
    "      vjust = 2.2, hjust = 0.35, size = 4, color = \"black\", fontface = \"bold\"\n",
    "    )\n",
    "  \n",
    "  ggsave(filename = save_path, plot = p, width = 12, height = 8, dpi = 600)\n",
    "  print(p)\n",
    "  \n",
    "  invisible(best_thresholds)\n",
    "}\n",
    "\n",
    "data_list <- list(roc17_Tstart1 = roc17_Tstart1, roc27_Tstart2 = roc27_Tstart2, \n",
    "                  roc37_Tstart3 = roc37_Tstart3, roc47_Tstart4 = roc47_Tstart4)\n",
    "\n",
    "save_path <- \"C:/path/ditan_DCA7.pdf\"\n",
    "\n",
    "plot_decision_curve(data_list, save_path, font_family = \"sans\", \n",
    "                    title_size = 16, axis_title_size = 14, axis_text_size = 12, \n",
    "                    legend_title_size = 14, legend_text_size = 12)"
   ]
  },
  {
   "cell_type": "code",
   "execution_count": null,
   "metadata": {
    "vscode": {
     "languageId": "r"
    }
   },
   "outputs": [],
   "source": [
    "# youan cohort\n",
    "roc17 <- jmFitcox3.12_youan_roc17\n",
    "roc27 <- jmFitcox3.12_youan_roc27\n",
    "roc37 <- jmFitcox3.12_youan_roc37\n",
    "roc47 <- jmFitcox3.12_youan_roc47\n",
    "\n",
    "results_df <- data.frame(\n",
    "  Threshold = c(rep(\"roc17\", length(roc17$TP)), rep(\"roc27\", length(roc27$TP)), \n",
    "                rep(\"roc37\", length(roc37$TP)), rep(\"roc47\", length(roc47$TP))),\n",
    "  TP = c(roc17$TP, roc27$TP, roc37$TP, roc47$TP), \n",
    "  FP = c(roc17$FP, roc27$FP, roc37$FP, roc47$FP),\n",
    "  nTP = c(roc17$nTP, roc27$nTP, roc37$nTP, roc47$nTP),\n",
    "  nFN = c(roc17$nFN, roc27$nFN, roc37$nFN, roc47$nFN),\n",
    "  nFP = c(roc17$nFP, roc27$nFP, roc37$nFP, roc47$nFP),\n",
    "  nTN = c(roc17$nTN, roc27$nTN, roc37$nTN, roc47$nTN),\n",
    "  thrs = c(roc17$thrs, roc27$thrs, roc37$thrs, roc47$thrs),\n",
    "  Youden = c(roc17$Youden, roc27$Youden, roc37$Youden, roc47$Youden),\n",
    "  Tstart = c(roc17$Tstart, roc27$Tstart, roc37$Tstart, roc47$Tstart),\n",
    "  Thoriz = c(roc17$Thoriz, roc27$Thoriz, roc37$Thoriz, roc47$Thoriz),\n",
    "  nr = c(roc17$nr, roc27$nr, roc37$nr, roc47$nr),\n",
    "  classObject = c(roc17$classObject, roc27$classObject, roc37$classObject, roc47$classObject),\n",
    "  nameObject = c(roc17$nameObject, roc27$nameObject, roc37$nameObject, roc47$nameObject)\n",
    ")\n",
    "\n",
    "write.csv(results_df, file = \n",
    "          \"C:/path/jmFitcox3.12_roc_youan_results7.csv\", row.names = FALSE)"
   ]
  },
  {
   "cell_type": "code",
   "execution_count": null,
   "metadata": {
    "vscode": {
     "languageId": "r"
    }
   },
   "outputs": [],
   "source": [
    "# Loading Results and Plotting DCA for Youan Cohort\n",
    "results_df <- read.csv(\"C:/path/jmFitcox3.12_roc_youan_results7.csv\")\n",
    "roc17_Tstart1 <- subset(results_df, Threshold == \"roc17\" & Tstart == 1)\n",
    "roc27_Tstart2 <- subset(results_df, Threshold == \"roc27\" & Tstart == 2)\n",
    "roc37_Tstart3 <- subset(results_df, Threshold == \"roc37\" & Tstart == 3)\n",
    "roc47_Tstart4 <- subset(results_df, Threshold == \"roc47\" & Tstart == 4)\n",
    "\n",
    "plot_decision_curve <- function(\n",
    "  data_list, save_path,\n",
    "  font_family = \"sans\", title_size = 16, axis_title_size = 14, \n",
    "  axis_text_size = 12, legend_title_size = 14, legend_text_size = 12\n",
    ") {\n",
    "  library(ggplot2)\n",
    "  library(dplyr)\n",
    "  \n",
    "  all_data <- data.frame()\n",
    "  for (i in 1:length(data_list)) {\n",
    "    data <- data_list[[i]]\n",
    "    dataset_name <- names(data_list)[i]\n",
    "    if (dataset_name == \"roc17_Tstart1\") {\n",
    "      dataset_name <- \"1 year\"\n",
    "    } else if (dataset_name == \"roc27_Tstart2\") {\n",
    "      dataset_name <- \"2 years\"\n",
    "    } else if (dataset_name == \"roc37_Tstart3\") {\n",
    "      dataset_name <- \"3 years\"\n",
    "    } else if (dataset_name == \"roc47_Tstart4\") {\n",
    "      dataset_name <- \"4 years\"\n",
    "    }\n",
    "    threshold <- data$thrs\n",
    "    TP <- data$TP\n",
    "    FP <- data$FP\n",
    "    net_benefit <- sapply(1:length(threshold), function(i) {\n",
    "      TP[i] - FP[i] * (threshold[i] / (1 - threshold[i]))\n",
    "    })\n",
    "    \n",
    "    valid_indices <- which(net_benefit >= 0)\n",
    "    threshold <- threshold[valid_indices]\n",
    "    net_benefit <- net_benefit[valid_indices]\n",
    "    \n",
    "    all_intervention <- threshold * (1 - threshold)\n",
    "    no_intervention <- rep(0, length(threshold))\n",
    "    \n",
    "    temp_df <- data.frame(\n",
    "      threshold = threshold,\n",
    "      net_benefit = net_benefit,\n",
    "      all_intervention = all_intervention,\n",
    "      no_intervention = no_intervention,\n",
    "      dataset = dataset_name\n",
    "    )\n",
    "    all_data <- rbind(all_data, temp_df)\n",
    "  }\n",
    "\n",
    "  best_thresholds <- all_data %>%\n",
    "    group_by(dataset) %>%\n",
    "    filter(net_benefit == max(net_benefit, na.rm = TRUE)) %>%\n",
    "    slice(1) %>% \n",
    "    ungroup() %>%\n",
    "    select(dataset, threshold, net_benefit)\n",
    "  \n",
    "  message(\"Optimal Thresholds and Their Net Gains for Each Dataset：\")\n",
    "  print(best_thresholds)\n",
    "  \n",
    "  p <- ggplot(all_data, aes(x = threshold, y = net_benefit)) +\n",
    "    geom_line(size = 1, aes(color = \"Net Benefit\")) +\n",
    "    geom_line(aes(y = all_intervention, color = \"All Intervention\"),\n",
    "              linetype = \"dashed\", size = 1) +\n",
    "    geom_line(aes(y = no_intervention, color = \"No Intervention\"),\n",
    "              linetype = \"dashed\", size = 1) +\n",
    "    facet_wrap(~ dataset, scales = \"free_y\") +\n",
    "    labs(\n",
    "      title = \"Decision Curve Analysis\",\n",
    "      x = \"Threshold Probability\",\n",
    "      y = \"Net Benefit\",\n",
    "      color = \"Legend\"\n",
    "    ) +\n",
    "    theme_minimal(base_family = font_family) +\n",
    "    theme(\n",
    "      plot.title = element_text(hjust = 0.5, size = title_size, face = \"bold\"),\n",
    "      axis.title = element_text(size = axis_title_size),\n",
    "      axis.text = element_text(size = axis_text_size),\n",
    "      legend.title = element_text(size = legend_title_size),\n",
    "      legend.text = element_text(size = legend_text_size)\n",
    "    ) +\n",
    "    scale_color_manual(\n",
    "      values = c(\n",
    "        \"Net Benefit\" = \"#6666eb\",\n",
    "        \"All Intervention\" = \"#ee5252\",\n",
    "        \"No Intervention\" = \"#76ab76\"\n",
    "      )\n",
    "    ) +\n",
    "    geom_vline(data = best_thresholds, aes(xintercept = threshold),\n",
    "               linetype = \"dotdash\", color = \"black\", size = 0.7) +\n",
    "    geom_point(data = best_thresholds, aes(x = threshold, y = net_benefit),\n",
    "               color = \"#F6C500\", size = 3.5, shape = 21, stroke = 1.2) +\n",
    "    geom_text(\n",
    "      data = best_thresholds,\n",
    "      aes(\n",
    "        x = threshold,\n",
    "        y = net_benefit,\n",
    "        label = paste0(\"(\", round(threshold, 2), \", \", round(net_benefit, 2), \")\")\n",
    "      ),\n",
    "      vjust = 2.2, hjust = 0.35, size = 4, color = \"black\", fontface = \"bold\"\n",
    "    )\n",
    "  \n",
    "  ggsave(filename = save_path, plot = p, width = 12, height = 8, dpi = 600)\n",
    "  print(p)\n",
    "  \n",
    "  invisible(best_thresholds)\n",
    "}\n",
    "\n",
    "data_list <- list(roc17_Tstart1 = roc17_Tstart1, roc27_Tstart2 = roc27_Tstart2, \n",
    "                  roc37_Tstart3 = roc37_Tstart3, roc47_Tstart4 = roc47_Tstart4)\n",
    "\n",
    "save_path <- \"C:/path/youan_DCA7.pdf\"\n",
    "\n",
    "plot_decision_curve(data_list, save_path, font_family = \"sans\", \n",
    "                    title_size = 16, axis_title_size = 14, axis_text_size = 12, \n",
    "                    legend_title_size = 14, legend_text_size = 12)"
   ]
  },
  {
   "cell_type": "code",
   "execution_count": 1,
   "metadata": {
    "vscode": {
     "languageId": "r"
    }
   },
   "outputs": [
    {
     "name": "stderr",
     "output_type": "stream",
     "text": [
      "Loading required package: pROC\n",
      "\n",
      "Type 'citation(\"pROC\")' for a citation.\n",
      "\n",
      "\n",
      "Attaching package: 'pROC'\n",
      "\n",
      "\n",
      "The following objects are masked from 'package:stats':\n",
      "\n",
      "    cov, smooth, var\n",
      "\n",
      "\n",
      "Setting levels: control = 0, case = 1\n",
      "\n"
     ]
    },
    {
     "name": "stdout",
     "output_type": "stream",
     "text": [
      "5-year AUC = 0.7431 best cutoff = 0.198 \n"
     ]
    },
    {
     "name": "stderr",
     "output_type": "stream",
     "text": [
      "Setting levels: control = 0, case = 1\n",
      "\n"
     ]
    },
    {
     "name": "stdout",
     "output_type": "stream",
     "text": [
      "6-year AUC = 0.6429 best cutoff = 0.0716 \n"
     ]
    },
    {
     "name": "stderr",
     "output_type": "stream",
     "text": [
      "Setting levels: control = 0, case = 1\n",
      "\n"
     ]
    },
    {
     "name": "stdout",
     "output_type": "stream",
     "text": [
      "7-year AUC = 0.6173 best cutoff = 0.1348 \n"
     ]
    }
   ],
   "source": [
    "# Calculate AUROC and Optimal Cutoff for the Expert Model\n",
    "if(!require(pROC)) install.packages(\"pROC\")\n",
    "library(pROC)\n",
    "\n",
    "process_data <- function(file_path, dataset_name) {\n",
    "  df <- read.csv(file_path, fileEncoding = \"GB18030\", stringsAsFactors = FALSE)\n",
    "  df$TotalScore <- as.numeric(df$TotalScore)\n",
    "  \n",
    "  roc_obj <- roc(df$IIR_3revi, df$TotalScore, direction = \"<\")\n",
    "  auc_val <- auc(roc_obj)\n",
    "  roc_coords <- coords(roc_obj, \"best\", best.method = \"youden\",\n",
    "                       ret = c(\"threshold\", \"sensitivity\", \"specificity\", \"youden\"))\n",
    "  \n",
    "  cat(dataset_name, \n",
    "      \"AUC =\", round(auc_val, 4), \n",
    "      \"best cutoff =\", round(roc_coords[[\"threshold\"]], 4), \"\\n\")\n",
    "  \n",
    "  return(data.frame(\n",
    "    Dataset = dataset_name,\n",
    "    AUC = round(as.numeric(auc_val), 4),\n",
    "    Best_Cutoff = round(as.numeric(roc_coords[[\"threshold\"]]), 4)\n",
    "  ))\n",
    "}\n",
    "\n",
    "result_5 <- process_data(\n",
    "  \"C:/path/youan_5year.csv\", # The dataset youan_5year can be replaced by xixi_5year or ditan_5year as appropriate\n",
    "  \"5-year\"\n",
    ")\n",
    "result_6 <- process_data(\n",
    "  \"C:/path/youan_6year.csv\", # The dataset youan_6year can be replaced by xixi_6year or ditan_6year as appropriate\n",
    "  \"6-year\"\n",
    ")\n",
    "result_7 <- process_data(\n",
    "  \"C:/path/youan_7year.csv\", # The dataset youan_7year can be replaced by xixi_7year or ditan_7year as appropriate\n",
    "  \"7-year\"\n",
    ")\n",
    "\n",
    "all_results <- rbind(result_5, result_6, result_7)\n",
    "write.csv(\n",
    "  all_results, \n",
    "  \"C:/path/expert_model_results_youan.csv\", # youan can be changed to xixi or ditan as appropriate\n",
    "  row.names = FALSE\n",
    ")"
   ]
  },
  {
   "cell_type": "code",
   "execution_count": 2,
   "metadata": {
    "vscode": {
     "languageId": "r"
    }
   },
   "outputs": [
    {
     "name": "stderr",
     "output_type": "stream",
     "text": [
      "\n",
      "Attaching package: 'dplyr'\n",
      "\n",
      "\n",
      "The following objects are masked from 'package:stats':\n",
      "\n",
      "    filter, lag\n",
      "\n",
      "\n",
      "The following objects are masked from 'package:base':\n",
      "\n",
      "    intersect, setdiff, setequal, union\n",
      "\n",
      "\n"
     ]
    },
    {
     "name": "stdout",
     "output_type": "stream",
     "text": [
      "                            Dataset TP_num TP_ratio FP_num FP_ratio Accuracy\n",
      "C:/path/xixi_5year.csv   xixi_5year      7   0.0295      3   0.0127   0.7679\n",
      "C:/path/xixi_6year.csv   xixi_6year      5   0.0193      3   0.0116   0.8996\n",
      "C:/path/xixi_7year.csv   xixi_7year     21   0.0365    222   0.3854   0.5885\n",
      "C:/path/ditan_5year.csv ditan_5year    166   0.2252    257   0.3487   0.6079\n",
      "C:/path/ditan_6year.csv ditan_6year     53   0.1886    123   0.4377   0.5267\n",
      "C:/path/ditan_7year.csv ditan_7year     81   0.0307    944   0.3578   0.6152\n",
      "C:/path/youan_5year.csv youan_5year    180   0.1780    201   0.1988   0.7033\n",
      "C:/path/youan_6year.csv youan_6year    103   0.1388    338   0.4555   0.5013\n",
      "C:/path/youan_7year.csv youan_7year    141   0.0330   1855   0.4342   0.5482\n"
     ]
    }
   ],
   "source": [
    "# TP, FP, Accuracy for Expert Model Predictions\n",
    "\n",
    "file_paths <- c(\n",
    "  \"C:/path/xixi_5year.csv\",\n",
    "  \"C:/path/xixi_6year.csv\",\n",
    "  \"C:/path/xixi_7year.csv\",\n",
    "  \"C:/path/ditan_5year.csv\",\n",
    "  \"C:/path/ditan_6year.csv\",\n",
    "  \"C:/path/ditan_7year.csv\",\n",
    "  \"C:/path/youan_5year.csv\",\n",
    "  \"C:/path/youan_6year.csv\",\n",
    "  \"C:/path/youan_7year.csv\"\n",
    ")\n",
    "cutoffs <- c(\n",
    "  0.4349,   # best cutoff\n",
    "  0.4266,   # best cutoff\n",
    "  0.1822,   # best cutoff\n",
    "  0.0948,   # best cutoff\n",
    "  0.0716,   # best cutoff\n",
    "  0.1580,   # best cutoff\n",
    "  0.1980,   # best cutoff\n",
    "  0.0716,   # best cutoff\n",
    "  0.1348   # best cutoff\n",
    ")\n",
    "dataset_names <- c(\"xixi_5year\", \"xixi_6year\", \"xixi_7year\", \"ditan_5year\", \"ditan_6year\", \"ditan_7year\", \n",
    "                   \"youan_5year\", \"youan_6year\", \"youan_7year\") \n",
    "\n",
    "library(dplyr)\n",
    "\n",
    "get_model_stats <- function(file_path, cutoff, dataset_name) {\n",
    "  df <- read.csv(file_path, stringsAsFactors = FALSE, fileEncoding=\"GB18030\")\n",
    "  df$TotalScore <- as.numeric(df$TotalScore)\n",
    "  df$IIR_3revi <- as.integer(df$IIR_3revi)\n",
    "  \n",
    "  df$Pred <- ifelse(df$TotalScore > cutoff, 1, 0)\n",
    "  \n",
    "  TP_num <- sum(df$Pred == 1 & df$IIR_3revi == 1)\n",
    "  TP_ratio <- TP_num / nrow(df)\n",
    "  \n",
    "  FP_num <- sum(df$Pred == 1 & df$IIR_3revi == 0)\n",
    "  FP_ratio <- FP_num / nrow(df)\n",
    "  \n",
    "  Accuracy <- sum(df$Pred == df$IIR_3revi) / nrow(df)\n",
    "  \n",
    "  \n",
    "  data.frame(\n",
    "    Dataset = dataset_name,\n",
    "    TP_num = TP_num,\n",
    "    TP_ratio = round(TP_ratio, 4),\n",
    "    FP_num = FP_num,\n",
    "    FP_ratio = round(FP_ratio, 4),\n",
    "    Accuracy = round(Accuracy, 4)\n",
    "  )\n",
    "}\n",
    "\n",
    "all_results <- do.call(rbind, mapply(get_model_stats, file_paths, cutoffs, dataset_names, SIMPLIFY = FALSE))\n",
    "print(all_results)\n",
    "write.csv(all_results, \"C:/path/model_performance_summary.csv\", row.names = FALSE)"
   ]
  },
  {
   "cell_type": "code",
   "execution_count": 7,
   "metadata": {
    "vscode": {
     "languageId": "r"
    }
   },
   "outputs": [],
   "source": [
    "# Data Transformation to Long Format for Heatmap\n",
    "library(tidyr)\n",
    "df <- read.csv(\"C:/path/your_wide_data.csv\", stringsAsFactors = FALSE)\n",
    "df_long <- df %>%\n",
    "  pivot_longer(\n",
    "    cols = c(\"TP\", \"FP\", \"Accuracy\"),\n",
    "    names_to = \"Metric\",\n",
    "    values_to = \"Value\"\n",
    "  )\n",
    "write.csv(df_long, \"C:/path/long_format_result.csv\", row.names = FALSE)"
   ]
  },
  {
   "cell_type": "code",
   "execution_count": 8,
   "metadata": {
    "vscode": {
     "languageId": "r"
    }
   },
   "outputs": [
    {
     "data": {
      "image/png": "[encoded data removed]",
      "text/plain": [
       "plot without title"
      ]
     },
     "metadata": {
      "image/png": {
       "height": 420,
       "width": 420
      }
     },
     "output_type": "display_data"
    }
   ],
   "source": [
    "# Heatmap Plotting\n",
    "library(ggplot2)\n",
    "library(dplyr)\n",
    "library(grid)\n",
    "\n",
    "theme_paper <- theme_minimal(base_size = 16, base_family = \"sans\") +\n",
    "  theme(\n",
    "    plot.title = element_text(size=18, face=\"bold\", hjust=0.5),\n",
    "    axis.title = element_text(size=16, face=\"bold\"),\n",
    "    axis.text = element_text(size=15, color=\"black\"),\n",
    "    legend.title = element_text(size=15, face=\"bold\"),\n",
    "    legend.text = element_text(size=15),\n",
    "    panel.grid.major = element_line(color = \"#ffffff\"),\n",
    "    panel.grid.minor = element_blank(),\n",
    "    axis.ticks = element_line(linewidth=0.7),\n",
    "    axis.ticks.length = unit(0.2, \"cm\")\n",
    "  )\n",
    "theme_both_line <- theme_paper +\n",
    "  theme(\n",
    "    panel.border = element_rect(color = \"black\", fill = NA, linewidth = 0.7)\n",
    "  )\n",
    "\n",
    "df_long <- read.csv(\"C:/path/long_format_result.csv\", stringsAsFactors = FALSE)\n",
    "\n",
    "df_plot <- df_long %>%\n",
    "  filter(Prediction.year %in% c(\"5\", \"6\", \"7\") | Prediction.year %in% 5:7) %>%\n",
    "  mutate(\n",
    "    Prediction.year = as.factor(Prediction.year),\n",
    "    Value_label = sprintf(\"%.3f\", Value)\n",
    "  )\n",
    "\n",
    "df_plot <- df_plot %>%\n",
    "  mutate(\n",
    "    Dataset = factor(Dataset, levels = c(\"Xixi\", \"Ditan\", \"Youan\")),\n",
    "    Metric = factor(Metric, levels = c(\"TP\", \"FP\", \"Accuracy\"))\n",
    "  )\n",
    "\n",
    "p <- ggplot(df_plot, aes(\n",
    "    x = Prediction.year,\n",
    "    y = Model,\n",
    "    fill = Value)\n",
    "  ) +\n",
    "  geom_tile(color = \"white\", linewidth = 0.5) +\n",
    "  geom_text(aes(label = Value_label), color = \"black\", size = 5) +\n",
    "  facet_grid(Metric ~ Dataset) +\n",
    "  scale_fill_gradient(low = \"#F0F9E8\", high = \"#0868AC\", name = \"Value\") +\n",
    "  labs(\n",
    "    title = \"Model Performance Heatmap Over Prediction Years\",\n",
    "    x = \"Prediction Year\",\n",
    "    y = \"Model\"\n",
    "  ) +\n",
    "  theme_both_line\n",
    "\n",
    "print(p)\n",
    "# Save the heatmap as a PDF file\n",
    "ggsave(\"C:/path/model_performance_heatmap.pdf\",\n",
    "       plot = p, width = 14, height = 10, dpi = 600, units = \"in\", family = \"sans\") "
   ]
  },
  {
   "cell_type": "code",
   "execution_count": 9,
   "metadata": {
    "vscode": {
     "languageId": "r"
    }
   },
   "outputs": [
    {
     "data": {
      "image/png": "[encoded data removed]",
      "text/plain": [
       "plot without title"
      ]
     },
     "metadata": {
      "image/png": {
       "height": 420,
       "width": 420
      }
     },
     "output_type": "display_data"
    }
   ],
   "source": [
    "# Bar Plot for Model Performance\n",
    "library(ggplot2)\n",
    "library(dplyr)\n",
    "library(grid)\n",
    "library(tidyr)\n",
    "\n",
    "theme_paper <- theme_minimal(base_size = 16, base_family = \"sans\") +\n",
    "  theme(\n",
    "    plot.title = element_text(size=18, face=\"bold\", hjust=0.5),\n",
    "    axis.title = element_text(size=16, face=\"bold\"),\n",
    "    axis.text = element_text(size=15, color=\"black\"),\n",
    "    legend.title = element_text(size=15, face=\"bold\"),\n",
    "    legend.text = element_text(size=15),\n",
    "    panel.grid.major = element_line(color = \"#ffffff\"),\n",
    "    panel.grid.minor = element_blank(),\n",
    "    axis.ticks = element_line(linewidth=0.7),\n",
    "    axis.ticks.length = unit(0.2, \"cm\")\n",
    "  )\n",
    "theme_both_line <- theme_paper +\n",
    "  theme(\n",
    "    panel.border = element_rect(color = \"black\", fill = NA, linewidth = 0.7)\n",
    "  )\n",
    "\n",
    "df_long <- read.csv(\"C:/path/long_format_result.csv\", stringsAsFactors = FALSE)\n",
    "\n",
    "Model_order <- c(\"EDPM\", \"DJPSIIR-4 years\", \"DJPSIIR-3 years\", \"DJPSIIR-2 years\", \"DJPSIIR-1 year\")\n",
    "\n",
    "df_bar <- df_long %>%\n",
    "  filter(Dataset == \"Mean\", Prediction.year == \"Overall\") %>%\n",
    "  mutate(\n",
    "    Metric = factor(Metric, levels = c(\"TP\", \"FP\", \"Accuracy\")),\n",
    "    Model = factor(Model, levels = Model_order)\n",
    "  )\n",
    "\n",
    "bar_width <- 0.5 \n",
    "label_fontsize <- 4 \n",
    "y_axis_limits <- c(0, 1.1)  \n",
    "y_axis_breaks <- seq(0, 1, by=0.2)  \n",
    "\n",
    "p_bar <- ggplot(df_bar, aes(x = Model, y = Value, fill = Model)) +\n",
    "  geom_bar(stat = \"identity\", width = bar_width, color = \"black\") +\n",
    "  geom_text(aes(label = sprintf(\"%.3f\", Value)), \n",
    "            vjust = -0.6, size = label_fontsize) +\n",
    "  facet_wrap(~ Metric, nrow = 1, scales = \"free_y\") +\n",
    "  scale_fill_brewer(palette = \"Set2\") +\n",
    "  labs(\n",
    "    title = \"Model Overall Performance\",\n",
    "    x = \"Model\",\n",
    "    y = \"Value\"\n",
    "  ) +\n",
    "  scale_y_continuous(limits = y_axis_limits, breaks = y_axis_breaks) +\n",
    "  theme_both_line +\n",
    "  theme(\n",
    "    legend.position = \"none\",\n",
    "    axis.text.x = element_text(angle = 45, hjust = 1)\n",
    "  )\n",
    "\n",
    "print(p_bar)\n",
    "\n",
    "ggsave(\n",
    "  \"C:/path/model_performance_bar.pdf\",\n",
    "  plot = p_bar, width = 14, height = 6, dpi = 600\n",
    ")"
   ]
  },
  {
   "cell_type": "code",
   "execution_count": 19,
   "metadata": {
    "vscode": {
     "languageId": "r"
    }
   },
   "outputs": [
    {
     "data": {
      "image/png": "[encoded data removed]",
      "text/plain": [
       "plot without title"
      ]
     },
     "metadata": {
      "image/png": {
       "height": 420,
       "width": 420
      }
     },
     "output_type": "display_data"
    }
   ],
   "source": [
    "# AUROC Bar Plot for Three Hospitals\n",
    "library(ggplot2)\n",
    "\n",
    "df <- data.frame(\n",
    "  Hospital = rep(c(\"Xixi\", \"Ditan\", \"You'an\"), each = 3),\n",
    "  Year = factor(rep(c(\"5-year\", \"6-year\", \"7-year\"), times = 3), \n",
    "                levels = c(\"5-year\", \"6-year\", \"7-year\"), ordered = TRUE),\n",
    "  AUC = c(0.5302, 0.5404, 0.5329,\n",
    "          0.7502, 0.6844, 0.5721,\n",
    "          0.7431, 0.6429, 0.6173)\n",
    ")\n",
    "df$Hospital <- factor(df$Hospital, levels = c(\"Xixi\", \"Ditan\", \"You'an\"), ordered = TRUE)\n",
    "\n",
    "theme_paper <- theme_minimal(base_size = 16, base_family = \"sans\") +\n",
    "  theme(\n",
    "    plot.title = element_text(size=18, face=\"bold\", hjust=0.5),\n",
    "    axis.title = element_text(size=16, face=\"bold\"),\n",
    "    axis.text = element_text(size=15, color=\"black\"),\n",
    "    legend.title = element_text(size=15, face=\"bold\"),\n",
    "    legend.text = element_text(size=15),\n",
    "    panel.grid.major = element_line(color = \"#ffffff\"),\n",
    "    panel.grid.minor = element_blank(),\n",
    "    axis.ticks = element_line(linewidth=0.7),\n",
    "    axis.ticks.length = unit(0.2, \"cm\")\n",
    "  )\n",
    "theme_both_line <- theme_paper +\n",
    "  theme(\n",
    "    strip.text.x = element_text(face = \"bold\", size = 16),\n",
    "    panel.border = element_rect(color = \"black\", fill = NA, linewidth = 0.7),\n",
    "    strip.placement = \"outside\"\n",
    "  )\n",
    "\n",
    "p <- ggplot(df, aes(x = Year, y = AUC, fill = Year)) +\n",
    "  geom_bar(stat = \"identity\", width = 0.6, color = \"black\") +\n",
    "  geom_text(\n",
    "    aes(label = sprintf(\"%.3f\", AUC)), \n",
    "    vjust = -0.6, size = 5, fontface = \"bold\"\n",
    "  ) +\n",
    "  facet_grid(. ~ Hospital, switch = \"x\") +\n",
    "  scale_fill_manual(\n",
    "    values = c(\"5-year\" = \"#08c136\", \"6-year\" = \"#f65050\", \"7-year\" = \"#4456f6\")\n",
    "  ) +\n",
    "  theme_both_line +\n",
    "  labs(\n",
    "    x = NULL,\n",
    "    y = \"AUROC\",\n",
    "    title = NULL\n",
    "  ) +\n",
    "  coord_cartesian(ylim = c(0.5, 0.8)) +\n",
    "  theme(\n",
    "    legend.position = \"none\",\n",
    "    strip.background = element_blank(),\n",
    "    panel.spacing = unit(0.7, \"lines\"),\n",
    "    axis.text.x = element_text(angle = 0, hjust = 0.5, vjust = 1)\n",
    "  )\n",
    "\n",
    "print(p)\n",
    "\n",
    "ggsave(\"C:/path/dotplot_auc_faceted.pdf\",\n",
    "       p, dpi = 600, width = 8, height = 4, units = \"in\")"
   ]
  },
  {
   "cell_type": "code",
   "execution_count": 10,
   "metadata": {
    "vscode": {
     "languageId": "r"
    }
   },
   "outputs": [],
   "source": [
    "## head to head experiment ##\n",
    "# data loading and merging\n",
    "library(readxl)\n",
    "library(dplyr)\n",
    "\n",
    "expert_files <- c(\n",
    "  \"C:/path/Q1.xlsx\",\n",
    "  \"C:/path/Q2.xlsx\",\n",
    "  \"C:/path/Q3.xlsx\",\n",
    "  \"C:/path/Q4.xlsx\",\n",
    "  \"C:/path/Q5.xlsx\",\n",
    "  \"C:/path/Q6.xlsx\",\n",
    "  \"C:/path/Q7.xlsx\",\n",
    "  \"C:/path/Q8.xlsx\",\n",
    "  \"C:/path/Q9.xlsx\"\n",
    ")\n",
    "\n",
    "all_expert_data <- list()\n",
    "\n",
    "for(i in seq_along(expert_files)){\n",
    "  dat <- read_excel(expert_files[i])\n",
    "  dat$NID <- as.character(dat$NID)\n",
    "  expert <- gsub(\"-.*\", \"\", expert_files[i])\n",
    "  colnames(dat)[colnames(dat)==\"5_IIR\"] <- paste0(expert, \"_5\")\n",
    "  colnames(dat)[colnames(dat)==\"6_IIR\"] <- paste0(expert, \"_6\")\n",
    "  colnames(dat)[colnames(dat)==\"7_IIR\"] <- paste0(expert, \"_7\")\n",
    "  dat <- dat[, c(\"NID\", paste0(expert, \"_5\"), paste0(expert, \"_6\"), paste0(expert, \"_7\"))]\n",
    "  all_expert_data[[i]] <- dat\n",
    "}\n",
    "\n",
    "merged_dat <- Reduce(function(x, y) full_join(x, y, by = \"NID\"), all_expert_data)\n",
    "\n",
    "cols_5 <- grep(\"_5$\", colnames(merged_dat), value=TRUE)\n",
    "cols_6 <- grep(\"_6$\", colnames(merged_dat), value=TRUE)\n",
    "cols_7 <- grep(\"_7$\", colnames(merged_dat), value=TRUE)\n",
    "\n",
    "merged_dat$Group5_YearProportion <- rowMeans(merged_dat[, cols_5], na.rm=TRUE)\n",
    "merged_dat$Group5_YearAssessment     <- as.integer(merged_dat$Group5_YearProportion >= 0.5)\n",
    "\n",
    "merged_dat$Group6_YearProportion <- rowMeans(merged_dat[, cols_6], na.rm=TRUE)\n",
    "merged_dat$Group6_YearAssessment     <- as.integer(merged_dat$Group6_YearProportion >= 0.5)\n",
    "\n",
    "merged_dat$Group7_YearProportion <- rowMeans(merged_dat[, cols_7], na.rm=TRUE)\n",
    "merged_dat$Group7_YearAssessment     <- as.integer(merged_dat$Group7_YearProportion >= 0.5)"
   ]
  },
  {
   "cell_type": "code",
   "execution_count": 11,
   "metadata": {
    "vscode": {
     "languageId": "r"
    }
   },
   "outputs": [
    {
     "name": "stdout",
     "output_type": "stream",
     "text": [
      "package 'irr' successfully unpacked and MD5 sums checked\n",
      "\n",
      "The downloaded binary packages are in\n",
      "\tC:\\Users\\LF\\AppData\\Local\\Temp\\RtmpG8sv9K\\downloaded_packages\n"
     ]
    },
    {
     "name": "stderr",
     "output_type": "stream",
     "text": [
      "Loading required package: lpSolve\n",
      "\n"
     ]
    },
    {
     "name": "stdout",
     "output_type": "stream",
     "text": [
      "5-Year IIR Expert Consensus（Fleiss' Kappa）:\n",
      " Fleiss' Kappa for m Raters\n",
      "\n",
      " Subjects = 119 \n",
      "   Raters = 9 \n",
      "    Kappa = 0.379 \n",
      "\n",
      "        z = 24.8 \n",
      "  p-value = 0 \n",
      "6-Year IIR Expert Consensus（Fleiss' Kappa）:\n",
      " Fleiss' Kappa for m Raters\n",
      "\n",
      " Subjects = 119 \n",
      "   Raters = 9 \n",
      "    Kappa = 0.367 \n",
      "\n",
      "        z = 24 \n",
      "  p-value = 0 \n",
      "7-Year IIR Expert Consensus（Fleiss' Kappa）:\n",
      " Fleiss' Kappa for m Raters\n",
      "\n",
      " Subjects = 118 \n",
      "   Raters = 9 \n",
      "    Kappa = 0.355 \n",
      "\n",
      "        z = 23.1 \n",
      "  p-value = 0 \n"
     ]
    }
   ],
   "source": [
    "# Fleiss' Kappa Calculation\n",
    "install.packages(\"irr\")\n",
    "library(irr)\n",
    "\n",
    "df_5 <- merged_dat[, cols_5]\n",
    "df_6 <- merged_dat[, cols_6]\n",
    "df_7 <- merged_dat[, cols_7]\n",
    "\n",
    "cat(\"5-Year IIR Expert Consensus（Fleiss' Kappa）:\\n\")\n",
    "print(kappam.fleiss(df_5))\n",
    "cat(\"6-Year IIR Expert Consensus（Fleiss' Kappa）:\\n\")\n",
    "print(kappam.fleiss(df_6))\n",
    "cat(\"7-Year IIR Expert Consensus（Fleiss' Kappa）:\\n\")\n",
    "print(kappam.fleiss(df_7))\n",
    "\n",
    "write.csv(merged_dat, \n",
    "          \"C:/path/Expert_Consistency.csv\", \n",
    "          row.names=FALSE)"
   ]
  },
  {
   "cell_type": "code",
   "execution_count": 12,
   "metadata": {
    "vscode": {
     "languageId": "r"
    }
   },
   "outputs": [
    {
     "name": "stderr",
     "output_type": "stream",
     "text": [
      "\u001b[1mRows: \u001b[22m\u001b[34m120\u001b[39m \u001b[1mColumns: \u001b[22m\u001b[34m34\u001b[39m\n",
      "\u001b[36m──\u001b[39m \u001b[1mColumn specification\u001b[22m \u001b[36m────────────────────────────────────────────────────────\u001b[39m\n",
      "\u001b[1mDelimiter:\u001b[22m \",\"\n",
      "\u001b[31mchr\u001b[39m  (1): NID\n",
      "\u001b[32mdbl\u001b[39m (33): C:/path/Q1.xlsx_5, C:/path/Q1.xlsx_6, C:/path/Q1.xlsx_7, C:/path/Q...\n",
      "\n",
      "\u001b[36mℹ\u001b[39m Use `spec()` to retrieve the full column specification for this data.\n",
      "\u001b[36mℹ\u001b[39m Specify the column types or set `show_col_types = FALSE` to quiet this message.\n"
     ]
    },
    {
     "data": {
      "text/html": [
       "<table class=\"dataframe\">\n",
       "<caption>A tibble: 6 × 5</caption>\n",
       "<thead>\n",
       "\t<tr><th scope=col>NID</th><th scope=col>year</th><th scope=col>true_label</th><th scope=col>predicted_label</th><th scope=col>Group_Assessment</th></tr>\n",
       "\t<tr><th scope=col>&lt;chr&gt;</th><th scope=col>&lt;chr&gt;</th><th scope=col>&lt;dbl&gt;</th><th scope=col>&lt;dbl&gt;</th><th scope=col>&lt;dbl&gt;</th></tr>\n",
       "</thead>\n",
       "<tbody>\n",
       "\t<tr><td>NID1040590154246204943</td><td>5</td><td>0</td><td>0</td><td>1</td></tr>\n",
       "\t<tr><td>NID1040590154246204943</td><td>6</td><td>0</td><td>0</td><td>1</td></tr>\n",
       "\t<tr><td>NID1040590154246204943</td><td>7</td><td>0</td><td>0</td><td>1</td></tr>\n",
       "\t<tr><td>NID1322037847048685506</td><td>5</td><td>0</td><td>0</td><td>0</td></tr>\n",
       "\t<tr><td>NID1322037847048685506</td><td>6</td><td>0</td><td>1</td><td>0</td></tr>\n",
       "\t<tr><td>NID1322037847048685506</td><td>7</td><td>0</td><td>1</td><td>0</td></tr>\n",
       "</tbody>\n",
       "</table>\n"
      ],
      "text/latex": [
       "A tibble: 6 × 5\n",
       "\\begin{tabular}{lllll}\n",
       " NID & year & true\\_label & predicted\\_label & Group\\_Assessment\\\\\n",
       " <chr> & <chr> & <dbl> & <dbl> & <dbl>\\\\\n",
       "\\hline\n",
       "\t NID1040590154246204943 & 5 & 0 & 0 & 1\\\\\n",
       "\t NID1040590154246204943 & 6 & 0 & 0 & 1\\\\\n",
       "\t NID1040590154246204943 & 7 & 0 & 0 & 1\\\\\n",
       "\t NID1322037847048685506 & 5 & 0 & 0 & 0\\\\\n",
       "\t NID1322037847048685506 & 6 & 0 & 1 & 0\\\\\n",
       "\t NID1322037847048685506 & 7 & 0 & 1 & 0\\\\\n",
       "\\end{tabular}\n"
      ],
      "text/markdown": [
       "\n",
       "A tibble: 6 × 5\n",
       "\n",
       "| NID &lt;chr&gt; | year &lt;chr&gt; | true_label &lt;dbl&gt; | predicted_label &lt;dbl&gt; | Group_Assessment &lt;dbl&gt; |\n",
       "|---|---|---|---|---|\n",
       "| NID1040590154246204943 | 5 | 0 | 0 | 1 |\n",
       "| NID1040590154246204943 | 6 | 0 | 0 | 1 |\n",
       "| NID1040590154246204943 | 7 | 0 | 0 | 1 |\n",
       "| NID1322037847048685506 | 5 | 0 | 0 | 0 |\n",
       "| NID1322037847048685506 | 6 | 0 | 1 | 0 |\n",
       "| NID1322037847048685506 | 7 | 0 | 1 | 0 |\n",
       "\n"
      ],
      "text/plain": [
       "  NID                    year true_label predicted_label Group_Assessment\n",
       "1 NID1040590154246204943 5    0          0               1               \n",
       "2 NID1040590154246204943 6    0          0               1               \n",
       "3 NID1040590154246204943 7    0          0               1               \n",
       "4 NID1322037847048685506 5    0          0               0               \n",
       "5 NID1322037847048685506 6    0          1               0               \n",
       "6 NID1322037847048685506 7    0          1               0               "
      ]
     },
     "metadata": {},
     "output_type": "display_data"
    }
   ],
   "source": [
    "library(readxl)\n",
    "library(dplyr)\n",
    "library(tidyr)\n",
    "library(readr)\n",
    "\n",
    "model_df <- read_excel(\"C:/path/DJPSIIR_120.xlsx\")\n",
    "\n",
    "model_df <- model_df %>%\n",
    "  mutate(NID = as.character(NID),\n",
    "         year = as.character(follow.up.years)) %>%\n",
    "  select(NID, year, true_label = IIR_3revi, predicted_label = `Predicted label 50%`)\n",
    "\n",
    "expert_df <- read_csv(\"C:/path/Expert_Consistency.csv\")\n",
    "\n",
    "expert_df$NID <- as.character(expert_df$NID)\n",
    "\n",
    "expert_long <- expert_df %>%\n",
    "  select(NID, Group5_YearAssessment, Group6_YearAssessment, Group7_YearAssessment) %>%\n",
    "  pivot_longer(\n",
    "    cols = starts_with(\"Group\"),\n",
    "    names_to = \"year\",\n",
    "    values_to = \"Group_Assessment\"\n",
    "  ) %>%\n",
    "  mutate(\n",
    "    year = gsub(\"Group([567])_YearAssessment\", \"\\\\1\", year) \n",
    "  )\n",
    "\n",
    "merged_df <- left_join(model_df, expert_long, by = c(\"NID\", \"year\"))\n",
    "\n",
    "head(merged_df)\n",
    "\n",
    "write.csv(merged_df, \n",
    "          \"C:/path/merged_df.csv\", \n",
    "          row.names=FALSE)"
   ]
  },
  {
   "cell_type": "code",
   "execution_count": null,
   "metadata": {
    "vscode": {
     "languageId": "r"
    }
   },
   "outputs": [
    {
     "name": "stdout",
     "output_type": "stream",
     "text": [
      "De-duplicated patient-year count: 360 \n"
     ]
    },
    {
     "name": "stdout",
     "output_type": "stream",
     "text": [
      "Unique NID count: 120 \n"
     ]
    },
    {
     "name": "stderr",
     "output_type": "stream",
     "text": [
      "Warning message in grid.Call(C_textBounds, as.graphicsAnnot(x$label), x$x, x$y, :\n",
      "\"font family 'Arial' not found in PostScript font database\"\n",
      "Warning message in grid.Call(C_textBounds, as.graphicsAnnot(x$label), x$x, x$y, :\n",
      "\"font family 'Arial' not found in PostScript font database\"\n",
      "Warning message in grid.Call(C_textBounds, as.graphicsAnnot(x$label), x$x, x$y, :\n",
      "\"font family 'Arial' not found in PostScript font database\"\n",
      "Warning message in grid.Call(C_textBounds, as.graphicsAnnot(x$label), x$x, x$y, :\n",
      "\"font family 'Arial' not found in PostScript font database\"\n",
      "Warning message in grid.Call(C_textBounds, as.graphicsAnnot(x$label), x$x, x$y, :\n",
      "\"font family 'Arial' not found in PostScript font database\"\n",
      "Warning message in grid.Call(C_textBounds, as.graphicsAnnot(x$label), x$x, x$y, :\n",
      "\"font family 'Arial' not found in PostScript font database\"\n",
      "Warning message in grid.Call(C_textBounds, as.graphicsAnnot(x$label), x$x, x$y, :\n",
      "\"font family 'Arial' not found in PostScript font database\"\n",
      "Warning message in grid.Call(C_textBounds, as.graphicsAnnot(x$label), x$x, x$y, :\n",
      "\"font family 'Arial' not found in PostScript font database\"\n",
      "Warning message in grid.Call(C_textBounds, as.graphicsAnnot(x$label), x$x, x$y, :\n",
      "\"font family 'Arial' not found in PostScript font database\"\n",
      "Warning message in grid.Call(C_textBounds, as.graphicsAnnot(x$label), x$x, x$y, :\n",
      "\"font family 'Arial' not found in PostScript font database\"\n",
      "Warning message in grid.Call(C_textBounds, as.graphicsAnnot(x$label), x$x, x$y, :\n",
      "\"font family 'Arial' not found in PostScript font database\"\n",
      "Warning message in grid.Call(C_textBounds, as.graphicsAnnot(x$label), x$x, x$y, :\n",
      "\"font family 'Arial' not found in PostScript font database\"\n",
      "Warning message in grid.Call(C_textBounds, as.graphicsAnnot(x$label), x$x, x$y, :\n",
      "\"font family 'Arial' not found in PostScript font database\"\n",
      "Warning message in grid.Call(C_textBounds, as.graphicsAnnot(x$label), x$x, x$y, :\n",
      "\"font family 'Arial' not found in PostScript font database\"\n",
      "Warning message in grid.Call(C_textBounds, as.graphicsAnnot(x$label), x$x, x$y, :\n",
      "\"font family 'Arial' not found in PostScript font database\"\n",
      "Warning message in grid.Call(C_textBounds, as.graphicsAnnot(x$label), x$x, x$y, :\n",
      "\"font family 'Arial' not found in PostScript font database\"\n",
      "Warning message in grid.Call(C_textBounds, as.graphicsAnnot(x$label), x$x, x$y, :\n",
      "\"font family 'Arial' not found in PostScript font database\"\n",
      "Warning message in grid.Call(C_textBounds, as.graphicsAnnot(x$label), x$x, x$y, :\n",
      "\"font family 'Arial' not found in PostScript font database\"\n",
      "Warning message in grid.Call(C_textBounds, as.graphicsAnnot(x$label), x$x, x$y, :\n",
      "\"font family 'Arial' not found in PostScript font database\"\n",
      "Warning message in grid.Call(C_textBounds, as.graphicsAnnot(x$label), x$x, x$y, :\n",
      "\"font family 'Arial' not found in PostScript font database\"\n",
      "Warning message in grid.Call(C_textBounds, as.graphicsAnnot(x$label), x$x, x$y, :\n",
      "\"font family 'Arial' not found in PostScript font database\"\n",
      "Warning message in grid.Call(C_textBounds, as.graphicsAnnot(x$label), x$x, x$y, :\n",
      "\"font family 'Arial' not found in PostScript font database\"\n",
      "Warning message in grid.Call(C_textBounds, as.graphicsAnnot(x$label), x$x, x$y, :\n",
      "\"font family 'Arial' not found in PostScript font database\"\n",
      "Warning message in grid.Call(C_textBounds, as.graphicsAnnot(x$label), x$x, x$y, :\n",
      "\"font family 'Arial' not found in PostScript font database\"\n",
      "Warning message in grid.Call(C_textBounds, as.graphicsAnnot(x$label), x$x, x$y, :\n",
      "\"font family 'Arial' not found in PostScript font database\"\n",
      "Warning message in grid.Call(C_textBounds, as.graphicsAnnot(x$label), x$x, x$y, :\n",
      "\"font family 'Arial' not found in PostScript font database\"\n",
      "Warning message in grid.Call(C_textBounds, as.graphicsAnnot(x$label), x$x, x$y, :\n",
      "\"font family 'Arial' not found in PostScript font database\"\n",
      "Warning message in grid.Call(C_textBounds, as.graphicsAnnot(x$label), x$x, x$y, :\n",
      "\"font family 'Arial' not found in PostScript font database\"\n",
      "Warning message in grid.Call(C_textBounds, as.graphicsAnnot(x$label), x$x, x$y, :\n",
      "\"font family 'Arial' not found in PostScript font database\"\n",
      "Warning message in grid.Call(C_textBounds, as.graphicsAnnot(x$label), x$x, x$y, :\n",
      "\"font family 'Arial' not found in PostScript font database\"\n",
      "Warning message in grid.Call(C_textBounds, as.graphicsAnnot(x$label), x$x, x$y, :\n",
      "\"font family 'Arial' not found, will use 'sans' instead\"\n",
      "Warning message in grid.Call(C_textBounds, as.graphicsAnnot(x$label), x$x, x$y, :\n",
      "\"font family 'Arial' not found, will use 'sans' instead\"\n",
      "Warning message in grid.Call(C_textBounds, as.graphicsAnnot(x$label), x$x, x$y, :\n",
      "\"font family 'Arial' not found, will use 'sans' instead\"\n",
      "Warning message in grid.Call(C_textBounds, as.graphicsAnnot(x$label), x$x, x$y, :\n",
      "\"font family 'Arial' not found, will use 'sans' instead\"\n",
      "Warning message in grid.Call(C_textBounds, as.graphicsAnnot(x$label), x$x, x$y, :\n",
      "\"font family 'Arial' not found, will use 'sans' instead\"\n",
      "Warning message in grid.Call(C_textBounds, as.graphicsAnnot(x$label), x$x, x$y, :\n",
      "\"font family 'Arial' not found, will use 'sans' instead\"\n",
      "Warning message in grid.Call(C_textBounds, as.graphicsAnnot(x$label), x$x, x$y, :\n",
      "\"font family 'Arial' not found, will use 'sans' instead\"\n",
      "Warning message in grid.Call.graphics(C_text, as.graphicsAnnot(x$label), x$x, x$y, :\n",
      "\"font family 'Arial' not found, will use 'sans' instead\"\n",
      "Warning message in grid.Call.graphics(C_text, as.graphicsAnnot(x$label), x$x, x$y, :\n",
      "\"font family 'Arial' not found, will use 'sans' instead\"\n",
      "Warning message in grid.Call.graphics(C_text, as.graphicsAnnot(x$label), x$x, x$y, :\n",
      "\"font family 'Arial' not found, will use 'sans' instead\"\n",
      "Warning message in grid.Call.graphics(C_text, as.graphicsAnnot(x$label), x$x, x$y, :\n",
      "\"font family 'Arial' not found, will use 'sans' instead\"\n",
      "Warning message in grid.Call.graphics(C_text, as.graphicsAnnot(x$label), x$x, x$y, :\n",
      "\"font family 'Arial' not found, will use 'sans' instead\"\n",
      "Warning message in grid.Call.graphics(C_text, as.graphicsAnnot(x$label), x$x, x$y, :\n",
      "\"font family 'Arial' not found, will use 'sans' instead\"\n",
      "Warning message in grid.Call.graphics(C_text, as.graphicsAnnot(x$label), x$x, x$y, :\n",
      "\"font family 'Arial' not found, will use 'sans' instead\"\n",
      "Warning message in grid.Call.graphics(C_text, as.graphicsAnnot(x$label), x$x, x$y, :\n",
      "\"font family 'Arial' not found, will use 'sans' instead\"\n",
      "Warning message in grid.Call.graphics(C_text, as.graphicsAnnot(x$label), x$x, x$y, :\n",
      "\"font family 'Arial' not found, will use 'sans' instead\"\n",
      "Warning message in grid.Call.graphics(C_text, as.graphicsAnnot(x$label), x$x, x$y, :\n",
      "\"font family 'Arial' not found, will use 'sans' instead\"\n",
      "Warning message in grid.Call.graphics(C_text, as.graphicsAnnot(x$label), x$x, x$y, :\n",
      "\"font family 'Arial' not found, will use 'sans' instead\"\n",
      "Warning message in grid.Call.graphics(C_text, as.graphicsAnnot(x$label), x$x, x$y, :\n",
      "\"font family 'Arial' not found, will use 'sans' instead\"\n",
      "Warning message in grid.Call.graphics(C_text, as.graphicsAnnot(x$label), x$x, x$y, :\n",
      "\"font family 'Arial' not found, will use 'sans' instead\"\n",
      "Warning message in grid.Call.graphics(C_text, as.graphicsAnnot(x$label), x$x, x$y, :\n",
      "\"font family 'Arial' not found, will use 'sans' instead\"\n",
      "Warning message in grid.Call.graphics(C_text, as.graphicsAnnot(x$label), x$x, x$y, :\n",
      "\"font family 'Arial' not found, will use 'sans' instead\"\n",
      "Warning message in grid.Call.graphics(C_text, as.graphicsAnnot(x$label), x$x, x$y, :\n",
      "\"font family 'Arial' not found, will use 'sans' instead\"\n",
      "Warning message in grid.Call.graphics(C_text, as.graphicsAnnot(x$label), x$x, x$y, :\n",
      "\"font family 'Arial' not found, will use 'sans' instead\"\n",
      "Warning message in grid.Call.graphics(C_text, as.graphicsAnnot(x$label), x$x, x$y, :\n",
      "\"font family 'Arial' not found, will use 'sans' instead\"\n",
      "Warning message in grid.Call.graphics(C_text, as.graphicsAnnot(x$label), x$x, x$y, :\n",
      "\"font family 'Arial' not found, will use 'sans' instead\"\n",
      "Warning message in grid.Call.graphics(C_text, as.graphicsAnnot(x$label), x$x, x$y, :\n",
      "\"font family 'Arial' not found, will use 'sans' instead\"\n",
      "Warning message in grid.Call.graphics(C_text, as.graphicsAnnot(x$label), x$x, x$y, :\n",
      "\"font family 'Arial' not found, will use 'sans' instead\"\n",
      "Warning message in grid.Call.graphics(C_text, as.graphicsAnnot(x$label), x$x, x$y, :\n",
      "\"font family 'Arial' not found, will use 'sans' instead\"\n",
      "Warning message in grid.Call.graphics(C_text, as.graphicsAnnot(x$label), x$x, x$y, :\n",
      "\"font family 'Arial' not found, will use 'sans' instead\"\n",
      "Warning message in grid.Call.graphics(C_text, as.graphicsAnnot(x$label), x$x, x$y, :\n",
      "\"font family 'Arial' not found, will use 'sans' instead\"\n",
      "Warning message in grid.Call.graphics(C_text, as.graphicsAnnot(x$label), x$x, x$y, :\n",
      "\"font family 'Arial' not found, will use 'sans' instead\"\n",
      "Warning message in grid.Call.graphics(C_text, as.graphicsAnnot(x$label), x$x, x$y, :\n",
      "\"font family 'Arial' not found, will use 'sans' instead\"\n",
      "Warning message in grid.Call.graphics(C_text, as.graphicsAnnot(x$label), x$x, x$y, :\n",
      "\"font family 'Arial' not found, will use 'sans' instead\"\n",
      "Warning message in grid.Call(C_textBounds, as.graphicsAnnot(x$label), x$x, x$y, :\n",
      "\"font family 'Arial' not found, will use 'sans' instead\"\n",
      "Warning message in grid.Call(C_textBounds, as.graphicsAnnot(x$label), x$x, x$y, :\n",
      "\"font family 'Arial' not found, will use 'sans' instead\"\n",
      "Warning message in grid.Call(C_textBounds, as.graphicsAnnot(x$label), x$x, x$y, :\n",
      "\"font family 'Arial' not found, will use 'sans' instead\"\n",
      "Warning message in grid.Call(C_textBounds, as.graphicsAnnot(x$label), x$x, x$y, :\n",
      "\"font family 'Arial' not found, will use 'sans' instead\"\n",
      "Warning message in grid.Call(C_textBounds, as.graphicsAnnot(x$label), x$x, x$y, :\n",
      "\"font family 'Arial' not found, will use 'sans' instead\"\n",
      "Warning message in grid.Call(C_textBounds, as.graphicsAnnot(x$label), x$x, x$y, :\n",
      "\"font family 'Arial' not found, will use 'sans' instead\"\n",
      "Warning message in grid.Call(C_textBounds, as.graphicsAnnot(x$label), x$x, x$y, :\n",
      "\"font family 'Arial' not found, will use 'sans' instead\"\n",
      "Warning message in grid.Call.graphics(C_text, as.graphicsAnnot(x$label), x$x, x$y, :\n",
      "\"font family 'Arial' not found, will use 'sans' instead\"\n",
      "Warning message in grid.Call.graphics(C_text, as.graphicsAnnot(x$label), x$x, x$y, :\n",
      "\"font family 'Arial' not found, will use 'sans' instead\"\n",
      "Warning message in grid.Call.graphics(C_text, as.graphicsAnnot(x$label), x$x, x$y, :\n",
      "\"font family 'Arial' not found, will use 'sans' instead\"\n",
      "Warning message in grid.Call.graphics(C_text, as.graphicsAnnot(x$label), x$x, x$y, :\n",
      "\"font family 'Arial' not found, will use 'sans' instead\"\n",
      "Warning message in grid.Call.graphics(C_text, as.graphicsAnnot(x$label), x$x, x$y, :\n",
      "\"font family 'Arial' not found, will use 'sans' instead\"\n",
      "Warning message in grid.Call.graphics(C_text, as.graphicsAnnot(x$label), x$x, x$y, :\n",
      "\"font family 'Arial' not found, will use 'sans' instead\"\n",
      "Warning message in grid.Call.graphics(C_text, as.graphicsAnnot(x$label), x$x, x$y, :\n",
      "\"font family 'Arial' not found, will use 'sans' instead\"\n",
      "Warning message in grid.Call.graphics(C_text, as.graphicsAnnot(x$label), x$x, x$y, :\n",
      "\"font family 'Arial' not found, will use 'sans' instead\"\n",
      "Warning message in grid.Call.graphics(C_text, as.graphicsAnnot(x$label), x$x, x$y, :\n",
      "\"font family 'Arial' not found, will use 'sans' instead\"\n",
      "Warning message in grid.Call.graphics(C_text, as.graphicsAnnot(x$label), x$x, x$y, :\n",
      "\"font family 'Arial' not found, will use 'sans' instead\"\n",
      "Warning message in grid.Call.graphics(C_text, as.graphicsAnnot(x$label), x$x, x$y, :\n",
      "\"font family 'Arial' not found, will use 'sans' instead\"\n",
      "Warning message in grid.Call.graphics(C_text, as.graphicsAnnot(x$label), x$x, x$y, :\n",
      "\"font family 'Arial' not found, will use 'sans' instead\"\n",
      "Warning message in grid.Call.graphics(C_text, as.graphicsAnnot(x$label), x$x, x$y, :\n",
      "\"font family 'Arial' not found, will use 'sans' instead\"\n",
      "Warning message in grid.Call.graphics(C_text, as.graphicsAnnot(x$label), x$x, x$y, :\n",
      "\"font family 'Arial' not found, will use 'sans' instead\"\n",
      "Warning message in grid.Call.graphics(C_text, as.graphicsAnnot(x$label), x$x, x$y, :\n",
      "\"font family 'Arial' not found, will use 'sans' instead\"\n",
      "Warning message in grid.Call.graphics(C_text, as.graphicsAnnot(x$label), x$x, x$y, :\n",
      "\"font family 'Arial' not found, will use 'sans' instead\"\n",
      "Warning message in grid.Call.graphics(C_text, as.graphicsAnnot(x$label), x$x, x$y, :\n",
      "\"font family 'Arial' not found, will use 'sans' instead\"\n",
      "Warning message in grid.Call.graphics(C_text, as.graphicsAnnot(x$label), x$x, x$y, :\n",
      "\"font family 'Arial' not found, will use 'sans' instead\"\n",
      "Warning message in grid.Call.graphics(C_text, as.graphicsAnnot(x$label), x$x, x$y, :\n",
      "\"font family 'Arial' not found, will use 'sans' instead\"\n",
      "Warning message in grid.Call.graphics(C_text, as.graphicsAnnot(x$label), x$x, x$y, :\n",
      "\"font family 'Arial' not found, will use 'sans' instead\"\n",
      "Warning message in grid.Call.graphics(C_text, as.graphicsAnnot(x$label), x$x, x$y, :\n",
      "\"font family 'Arial' not found, will use 'sans' instead\"\n",
      "Warning message in grid.Call.graphics(C_text, as.graphicsAnnot(x$label), x$x, x$y, :\n",
      "\"font family 'Arial' not found, will use 'sans' instead\"\n",
      "Warning message in grid.Call.graphics(C_text, as.graphicsAnnot(x$label), x$x, x$y, :\n",
      "\"font family 'Arial' not found, will use 'sans' instead\"\n",
      "Warning message in grid.Call.graphics(C_text, as.graphicsAnnot(x$label), x$x, x$y, :\n",
      "\"font family 'Arial' not found, will use 'sans' instead\"\n",
      "Warning message in grid.Call.graphics(C_text, as.graphicsAnnot(x$label), x$x, x$y, :\n",
      "\"font family 'Arial' not found, will use 'sans' instead\"\n",
      "Warning message in grid.Call.graphics(C_text, as.graphicsAnnot(x$label), x$x, x$y, :\n",
      "\"font family 'Arial' not found, will use 'sans' instead\"\n",
      "Warning message in grid.Call.graphics(C_text, as.graphicsAnnot(x$label), x$x, x$y, :\n",
      "\"font family 'Arial' not found, will use 'sans' instead\"\n",
      "Warning message in grid.Call(C_textBounds, as.graphicsAnnot(x$label), x$x, x$y, :\n",
      "\"font family 'Arial' not found, will use 'sans' instead\"\n",
      "Warning message in grid.Call(C_textBounds, as.graphicsAnnot(x$label), x$x, x$y, :\n",
      "\"font family 'Arial' not found, will use 'sans' instead\"\n",
      "Warning message in grid.Call(C_textBounds, as.graphicsAnnot(x$label), x$x, x$y, :\n",
      "\"font family 'Arial' not found, will use 'sans' instead\"\n",
      "Warning message in grid.Call(C_textBounds, as.graphicsAnnot(x$label), x$x, x$y, :\n",
      "\"font family 'Arial' not found, will use 'sans' instead\"\n",
      "Warning message in grid.Call(C_textBounds, as.graphicsAnnot(x$label), x$x, x$y, :\n",
      "\"font family 'Arial' not found, will use 'sans' instead\"\n",
      "Warning message in grid.Call(C_textBounds, as.graphicsAnnot(x$label), x$x, x$y, :\n",
      "\"font family 'Arial' not found, will use 'sans' instead\"\n",
      "Warning message in grid.Call(C_textBounds, as.graphicsAnnot(x$label), x$x, x$y, :\n",
      "\"font family 'Arial' not found, will use 'sans' instead\"\n",
      "Warning message in grid.Call.graphics(C_text, as.graphicsAnnot(x$label), x$x, x$y, :\n",
      "\"font family 'Arial' not found, will use 'sans' instead\"\n",
      "Warning message in grid.Call.graphics(C_text, as.graphicsAnnot(x$label), x$x, x$y, :\n",
      "\"font family 'Arial' not found, will use 'sans' instead\"\n",
      "Warning message in grid.Call.graphics(C_text, as.graphicsAnnot(x$label), x$x, x$y, :\n",
      "\"font family 'Arial' not found, will use 'sans' instead\"\n",
      "Warning message in grid.Call.graphics(C_text, as.graphicsAnnot(x$label), x$x, x$y, :\n",
      "\"font family 'Arial' not found, will use 'sans' instead\"\n",
      "Warning message in grid.Call.graphics(C_text, as.graphicsAnnot(x$label), x$x, x$y, :\n",
      "\"font family 'Arial' not found, will use 'sans' instead\"\n",
      "Warning message in grid.Call.graphics(C_text, as.graphicsAnnot(x$label), x$x, x$y, :\n",
      "\"font family 'Arial' not found, will use 'sans' instead\"\n",
      "Warning message in grid.Call.graphics(C_text, as.graphicsAnnot(x$label), x$x, x$y, :\n",
      "\"font family 'Arial' not found, will use 'sans' instead\"\n",
      "Warning message in grid.Call.graphics(C_text, as.graphicsAnnot(x$label), x$x, x$y, :\n",
      "\"font family 'Arial' not found, will use 'sans' instead\"\n",
      "Warning message in grid.Call.graphics(C_text, as.graphicsAnnot(x$label), x$x, x$y, :\n",
      "\"font family 'Arial' not found, will use 'sans' instead\"\n",
      "Warning message in grid.Call.graphics(C_text, as.graphicsAnnot(x$label), x$x, x$y, :\n",
      "\"font family 'Arial' not found, will use 'sans' instead\"\n",
      "Warning message in grid.Call.graphics(C_text, as.graphicsAnnot(x$label), x$x, x$y, :\n",
      "\"font family 'Arial' not found, will use 'sans' instead\"\n",
      "Warning message in grid.Call.graphics(C_text, as.graphicsAnnot(x$label), x$x, x$y, :\n",
      "\"font family 'Arial' not found, will use 'sans' instead\"\n",
      "Warning message in grid.Call.graphics(C_text, as.graphicsAnnot(x$label), x$x, x$y, :\n",
      "\"font family 'Arial' not found, will use 'sans' instead\"\n",
      "Warning message in grid.Call.graphics(C_text, as.graphicsAnnot(x$label), x$x, x$y, :\n",
      "\"font family 'Arial' not found, will use 'sans' instead\"\n",
      "Warning message in grid.Call.graphics(C_text, as.graphicsAnnot(x$label), x$x, x$y, :\n",
      "\"font family 'Arial' not found, will use 'sans' instead\"\n",
      "Warning message in grid.Call.graphics(C_text, as.graphicsAnnot(x$label), x$x, x$y, :\n",
      "\"font family 'Arial' not found, will use 'sans' instead\"\n",
      "Warning message in grid.Call.graphics(C_text, as.graphicsAnnot(x$label), x$x, x$y, :\n",
      "\"font family 'Arial' not found, will use 'sans' instead\"\n",
      "Warning message in grid.Call.graphics(C_text, as.graphicsAnnot(x$label), x$x, x$y, :\n",
      "\"font family 'Arial' not found, will use 'sans' instead\"\n",
      "Warning message in grid.Call.graphics(C_text, as.graphicsAnnot(x$label), x$x, x$y, :\n",
      "\"font family 'Arial' not found, will use 'sans' instead\"\n",
      "Warning message in grid.Call.graphics(C_text, as.graphicsAnnot(x$label), x$x, x$y, :\n",
      "\"font family 'Arial' not found, will use 'sans' instead\"\n",
      "Warning message in grid.Call.graphics(C_text, as.graphicsAnnot(x$label), x$x, x$y, :\n",
      "\"font family 'Arial' not found, will use 'sans' instead\"\n",
      "Warning message in grid.Call.graphics(C_text, as.graphicsAnnot(x$label), x$x, x$y, :\n",
      "\"font family 'Arial' not found, will use 'sans' instead\"\n",
      "Warning message in grid.Call.graphics(C_text, as.graphicsAnnot(x$label), x$x, x$y, :\n",
      "\"font family 'Arial' not found, will use 'sans' instead\"\n",
      "Warning message in grid.Call.graphics(C_text, as.graphicsAnnot(x$label), x$x, x$y, :\n",
      "\"font family 'Arial' not found, will use 'sans' instead\"\n",
      "Warning message in grid.Call.graphics(C_text, as.graphicsAnnot(x$label), x$x, x$y, :\n",
      "\"font family 'Arial' not found, will use 'sans' instead\"\n",
      "Warning message in grid.Call.graphics(C_text, as.graphicsAnnot(x$label), x$x, x$y, :\n",
      "\"font family 'Arial' not found, will use 'sans' instead\"\n",
      "Warning message in grid.Call.graphics(C_text, as.graphicsAnnot(x$label), x$x, x$y, :\n",
      "\"font family 'Arial' not found, will use 'sans' instead\"\n",
      "Warning message in grid.Call(C_textBounds, as.graphicsAnnot(x$label), x$x, x$y, :\n",
      "\"font family 'Arial' not found, will use 'sans' instead\"\n",
      "Warning message in grid.Call(C_textBounds, as.graphicsAnnot(x$label), x$x, x$y, :\n",
      "\"font family 'Arial' not found, will use 'sans' instead\"\n",
      "Warning message in grid.Call(C_textBounds, as.graphicsAnnot(x$label), x$x, x$y, :\n",
      "\"font family 'Arial' not found, will use 'sans' instead\"\n",
      "Warning message in grid.Call(C_textBounds, as.graphicsAnnot(x$label), x$x, x$y, :\n",
      "\"font family 'Arial' not found, will use 'sans' instead\"\n",
      "Warning message in grid.Call(C_textBounds, as.graphicsAnnot(x$label), x$x, x$y, :\n",
      "\"font family 'Arial' not found, will use 'sans' instead\"\n",
      "Warning message in grid.Call(C_textBounds, as.graphicsAnnot(x$label), x$x, x$y, :\n",
      "\"font family 'Arial' not found, will use 'sans' instead\"\n",
      "Warning message in grid.Call(C_textBounds, as.graphicsAnnot(x$label), x$x, x$y, :\n",
      "\"font family 'Arial' not found, will use 'sans' instead\"\n",
      "Warning message in grid.Call.graphics(C_text, as.graphicsAnnot(x$label), x$x, x$y, :\n",
      "\"font family 'Arial' not found, will use 'sans' instead\"\n",
      "Warning message in grid.Call.graphics(C_text, as.graphicsAnnot(x$label), x$x, x$y, :\n",
      "\"font family 'Arial' not found, will use 'sans' instead\"\n",
      "Warning message in grid.Call.graphics(C_text, as.graphicsAnnot(x$label), x$x, x$y, :\n",
      "\"font family 'Arial' not found, will use 'sans' instead\"\n",
      "Warning message in grid.Call.graphics(C_text, as.graphicsAnnot(x$label), x$x, x$y, :\n",
      "\"font family 'Arial' not found, will use 'sans' instead\"\n",
      "Warning message in grid.Call.graphics(C_text, as.graphicsAnnot(x$label), x$x, x$y, :\n",
      "\"font family 'Arial' not found, will use 'sans' instead\"\n",
      "Warning message in grid.Call.graphics(C_text, as.graphicsAnnot(x$label), x$x, x$y, :\n",
      "\"font family 'Arial' not found, will use 'sans' instead\"\n",
      "Warning message in grid.Call.graphics(C_text, as.graphicsAnnot(x$label), x$x, x$y, :\n",
      "\"font family 'Arial' not found, will use 'sans' instead\"\n",
      "Warning message in grid.Call.graphics(C_text, as.graphicsAnnot(x$label), x$x, x$y, :\n",
      "\"font family 'Arial' not found, will use 'sans' instead\"\n",
      "Warning message in grid.Call.graphics(C_text, as.graphicsAnnot(x$label), x$x, x$y, :\n",
      "\"font family 'Arial' not found, will use 'sans' instead\"\n",
      "Warning message in grid.Call.graphics(C_text, as.graphicsAnnot(x$label), x$x, x$y, :\n",
      "\"font family 'Arial' not found, will use 'sans' instead\"\n",
      "Warning message in grid.Call.graphics(C_text, as.graphicsAnnot(x$label), x$x, x$y, :\n",
      "\"font family 'Arial' not found, will use 'sans' instead\"\n",
      "Warning message in grid.Call.graphics(C_text, as.graphicsAnnot(x$label), x$x, x$y, :\n",
      "\"font family 'Arial' not found, will use 'sans' instead\"\n",
      "Warning message in grid.Call.graphics(C_text, as.graphicsAnnot(x$label), x$x, x$y, :\n",
      "\"font family 'Arial' not found, will use 'sans' instead\"\n",
      "Warning message in grid.Call.graphics(C_text, as.graphicsAnnot(x$label), x$x, x$y, :\n",
      "\"font family 'Arial' not found, will use 'sans' instead\"\n",
      "Warning message in grid.Call.graphics(C_text, as.graphicsAnnot(x$label), x$x, x$y, :\n",
      "\"font family 'Arial' not found, will use 'sans' instead\"\n",
      "Warning message in grid.Call.graphics(C_text, as.graphicsAnnot(x$label), x$x, x$y, :\n",
      "\"font family 'Arial' not found, will use 'sans' instead\"\n",
      "Warning message in grid.Call.graphics(C_text, as.graphicsAnnot(x$label), x$x, x$y, :\n",
      "\"font family 'Arial' not found, will use 'sans' instead\"\n",
      "Warning message in grid.Call.graphics(C_text, as.graphicsAnnot(x$label), x$x, x$y, :\n",
      "\"font family 'Arial' not found, will use 'sans' instead\"\n",
      "Warning message in grid.Call.graphics(C_text, as.graphicsAnnot(x$label), x$x, x$y, :\n",
      "\"font family 'Arial' not found, will use 'sans' instead\"\n",
      "Warning message in grid.Call.graphics(C_text, as.graphicsAnnot(x$label), x$x, x$y, :\n",
      "\"font family 'Arial' not found, will use 'sans' instead\"\n",
      "Warning message in grid.Call.graphics(C_text, as.graphicsAnnot(x$label), x$x, x$y, :\n",
      "\"font family 'Arial' not found, will use 'sans' instead\"\n",
      "Warning message in grid.Call.graphics(C_text, as.graphicsAnnot(x$label), x$x, x$y, :\n",
      "\"font family 'Arial' not found, will use 'sans' instead\"\n",
      "Warning message in grid.Call.graphics(C_text, as.graphicsAnnot(x$label), x$x, x$y, :\n",
      "\"font family 'Arial' not found, will use 'sans' instead\"\n",
      "Warning message in grid.Call.graphics(C_text, as.graphicsAnnot(x$label), x$x, x$y, :\n",
      "\"font family 'Arial' not found, will use 'sans' instead\"\n",
      "Warning message in grid.Call.graphics(C_text, as.graphicsAnnot(x$label), x$x, x$y, :\n",
      "\"font family 'Arial' not found, will use 'sans' instead\"\n",
      "Warning message in grid.Call.graphics(C_text, as.graphicsAnnot(x$label), x$x, x$y, :\n",
      "\"font family 'Arial' not found, will use 'sans' instead\"\n",
      "Warning message in grid.Call.graphics(C_text, as.graphicsAnnot(x$label), x$x, x$y, :\n",
      "\"font family 'Arial' not found, will use 'sans' instead\"\n",
      "Warning message in grid.Call(C_textBounds, as.graphicsAnnot(x$label), x$x, x$y, :\n",
      "\"font family 'Arial' not found, will use 'sans' instead\"\n",
      "Warning message in grid.Call(C_textBounds, as.graphicsAnnot(x$label), x$x, x$y, :\n",
      "\"font family 'Arial' not found, will use 'sans' instead\"\n",
      "Warning message in grid.Call(C_textBounds, as.graphicsAnnot(x$label), x$x, x$y, :\n",
      "\"font family 'Arial' not found, will use 'sans' instead\"\n",
      "Warning message in grid.Call(C_textBounds, as.graphicsAnnot(x$label), x$x, x$y, :\n",
      "\"font family 'Arial' not found, will use 'sans' instead\"\n",
      "Warning message in grid.Call(C_textBounds, as.graphicsAnnot(x$label), x$x, x$y, :\n",
      "\"font family 'Arial' not found, will use 'sans' instead\"\n",
      "Warning message in grid.Call(C_textBounds, as.graphicsAnnot(x$label), x$x, x$y, :\n",
      "\"font family 'Arial' not found, will use 'sans' instead\"\n",
      "Warning message in grid.Call(C_textBounds, as.graphicsAnnot(x$label), x$x, x$y, :\n",
      "\"font family 'Arial' not found, will use 'sans' instead\"\n",
      "Warning message in grid.Call.graphics(C_text, as.graphicsAnnot(x$label), x$x, x$y, :\n",
      "\"font family 'Arial' not found, will use 'sans' instead\"\n",
      "Warning message in grid.Call.graphics(C_text, as.graphicsAnnot(x$label), x$x, x$y, :\n",
      "\"font family 'Arial' not found, will use 'sans' instead\"\n",
      "Warning message in grid.Call.graphics(C_text, as.graphicsAnnot(x$label), x$x, x$y, :\n",
      "\"font family 'Arial' not found, will use 'sans' instead\"\n",
      "Warning message in grid.Call.graphics(C_text, as.graphicsAnnot(x$label), x$x, x$y, :\n",
      "\"font family 'Arial' not found, will use 'sans' instead\"\n",
      "Warning message in grid.Call.graphics(C_text, as.graphicsAnnot(x$label), x$x, x$y, :\n",
      "\"font family 'Arial' not found, will use 'sans' instead\"\n",
      "Warning message in grid.Call.graphics(C_text, as.graphicsAnnot(x$label), x$x, x$y, :\n",
      "\"font family 'Arial' not found, will use 'sans' instead\"\n",
      "Warning message in grid.Call.graphics(C_text, as.graphicsAnnot(x$label), x$x, x$y, :\n",
      "\"font family 'Arial' not found, will use 'sans' instead\"\n",
      "Warning message in grid.Call.graphics(C_text, as.graphicsAnnot(x$label), x$x, x$y, :\n",
      "\"font family 'Arial' not found, will use 'sans' instead\"\n",
      "Warning message in grid.Call.graphics(C_text, as.graphicsAnnot(x$label), x$x, x$y, :\n",
      "\"font family 'Arial' not found, will use 'sans' instead\"\n",
      "Warning message in grid.Call.graphics(C_text, as.graphicsAnnot(x$label), x$x, x$y, :\n",
      "\"font family 'Arial' not found, will use 'sans' instead\"\n",
      "Warning message in grid.Call.graphics(C_text, as.graphicsAnnot(x$label), x$x, x$y, :\n",
      "\"font family 'Arial' not found, will use 'sans' instead\"\n",
      "Warning message in grid.Call.graphics(C_text, as.graphicsAnnot(x$label), x$x, x$y, :\n",
      "\"font family 'Arial' not found, will use 'sans' instead\"\n",
      "Warning message in grid.Call.graphics(C_text, as.graphicsAnnot(x$label), x$x, x$y, :\n",
      "\"font family 'Arial' not found, will use 'sans' instead\"\n",
      "Warning message in grid.Call.graphics(C_text, as.graphicsAnnot(x$label), x$x, x$y, :\n",
      "\"font family 'Arial' not found, will use 'sans' instead\"\n",
      "Warning message in grid.Call.graphics(C_text, as.graphicsAnnot(x$label), x$x, x$y, :\n",
      "\"font family 'Arial' not found, will use 'sans' instead\"\n",
      "Warning message in grid.Call.graphics(C_text, as.graphicsAnnot(x$label), x$x, x$y, :\n",
      "\"font family 'Arial' not found, will use 'sans' instead\"\n",
      "Warning message in grid.Call.graphics(C_text, as.graphicsAnnot(x$label), x$x, x$y, :\n",
      "\"font family 'Arial' not found, will use 'sans' instead\"\n",
      "Warning message in grid.Call.graphics(C_text, as.graphicsAnnot(x$label), x$x, x$y, :\n",
      "\"font family 'Arial' not found, will use 'sans' instead\"\n",
      "Warning message in grid.Call.graphics(C_text, as.graphicsAnnot(x$label), x$x, x$y, :\n",
      "\"font family 'Arial' not found, will use 'sans' instead\"\n",
      "Warning message in grid.Call.graphics(C_text, as.graphicsAnnot(x$label), x$x, x$y, :\n",
      "\"font family 'Arial' not found, will use 'sans' instead\"\n",
      "Warning message in grid.Call.graphics(C_text, as.graphicsAnnot(x$label), x$x, x$y, :\n",
      "\"font family 'Arial' not found, will use 'sans' instead\"\n",
      "Warning message in grid.Call.graphics(C_text, as.graphicsAnnot(x$label), x$x, x$y, :\n",
      "\"font family 'Arial' not found, will use 'sans' instead\"\n",
      "Warning message in grid.Call.graphics(C_text, as.graphicsAnnot(x$label), x$x, x$y, :\n",
      "\"font family 'Arial' not found, will use 'sans' instead\"\n",
      "Warning message in grid.Call.graphics(C_text, as.graphicsAnnot(x$label), x$x, x$y, :\n",
      "\"font family 'Arial' not found, will use 'sans' instead\"\n",
      "Warning message in grid.Call.graphics(C_text, as.graphicsAnnot(x$label), x$x, x$y, :\n",
      "\"font family 'Arial' not found, will use 'sans' instead\"\n",
      "Warning message in grid.Call.graphics(C_text, as.graphicsAnnot(x$label), x$x, x$y, :\n",
      "\"font family 'Arial' not found, will use 'sans' instead\"\n",
      "Warning message in grid.Call.graphics(C_text, as.graphicsAnnot(x$label), x$x, x$y, :\n",
      "\"font family 'Arial' not found, will use 'sans' instead\"\n",
      "Warning message in grid.Call(C_textBounds, as.graphicsAnnot(x$label), x$x, x$y, :\n",
      "\"font family 'Arial' not found, will use 'sans' instead\"\n",
      "Warning message in grid.Call(C_textBounds, as.graphicsAnnot(x$label), x$x, x$y, :\n",
      "\"font family 'Arial' not found, will use 'sans' instead\"\n",
      "Warning message in grid.Call(C_textBounds, as.graphicsAnnot(x$label), x$x, x$y, :\n",
      "\"font family 'Arial' not found, will use 'sans' instead\"\n",
      "Warning message in grid.Call(C_textBounds, as.graphicsAnnot(x$label), x$x, x$y, :\n",
      "\"font family 'Arial' not found, will use 'sans' instead\"\n",
      "Warning message in grid.Call(C_textBounds, as.graphicsAnnot(x$label), x$x, x$y, :\n",
      "\"font family 'Arial' not found, will use 'sans' instead\"\n",
      "Warning message in grid.Call(C_textBounds, as.graphicsAnnot(x$label), x$x, x$y, :\n",
      "\"font family 'Arial' not found, will use 'sans' instead\"\n",
      "Warning message in grid.Call(C_textBounds, as.graphicsAnnot(x$label), x$x, x$y, :\n",
      "\"font family 'Arial' not found, will use 'sans' instead\"\n",
      "Warning message in grid.Call.graphics(C_text, as.graphicsAnnot(x$label), x$x, x$y, :\n",
      "\"font family 'Arial' not found, will use 'sans' instead\"\n",
      "Warning message in grid.Call.graphics(C_text, as.graphicsAnnot(x$label), x$x, x$y, :\n",
      "\"font family 'Arial' not found, will use 'sans' instead\"\n",
      "Warning message in grid.Call.graphics(C_text, as.graphicsAnnot(x$label), x$x, x$y, :\n",
      "\"font family 'Arial' not found, will use 'sans' instead\"\n",
      "Warning message in grid.Call.graphics(C_text, as.graphicsAnnot(x$label), x$x, x$y, :\n",
      "\"font family 'Arial' not found, will use 'sans' instead\"\n",
      "Warning message in grid.Call.graphics(C_text, as.graphicsAnnot(x$label), x$x, x$y, :\n",
      "\"font family 'Arial' not found, will use 'sans' instead\"\n",
      "Warning message in grid.Call.graphics(C_text, as.graphicsAnnot(x$label), x$x, x$y, :\n",
      "\"font family 'Arial' not found, will use 'sans' instead\"\n",
      "Warning message in grid.Call.graphics(C_text, as.graphicsAnnot(x$label), x$x, x$y, :\n",
      "\"font family 'Arial' not found, will use 'sans' instead\"\n",
      "Warning message in grid.Call.graphics(C_text, as.graphicsAnnot(x$label), x$x, x$y, :\n",
      "\"font family 'Arial' not found, will use 'sans' instead\"\n",
      "Warning message in grid.Call.graphics(C_text, as.graphicsAnnot(x$label), x$x, x$y, :\n",
      "\"font family 'Arial' not found, will use 'sans' instead\"\n",
      "Warning message in grid.Call.graphics(C_text, as.graphicsAnnot(x$label), x$x, x$y, :\n",
      "\"font family 'Arial' not found, will use 'sans' instead\"\n",
      "Warning message in grid.Call.graphics(C_text, as.graphicsAnnot(x$label), x$x, x$y, :\n",
      "\"font family 'Arial' not found, will use 'sans' instead\"\n",
      "Warning message in grid.Call.graphics(C_text, as.graphicsAnnot(x$label), x$x, x$y, :\n",
      "\"font family 'Arial' not found, will use 'sans' instead\"\n",
      "Warning message in grid.Call.graphics(C_text, as.graphicsAnnot(x$label), x$x, x$y, :\n",
      "\"font family 'Arial' not found, will use 'sans' instead\"\n",
      "Warning message in grid.Call.graphics(C_text, as.graphicsAnnot(x$label), x$x, x$y, :\n",
      "\"font family 'Arial' not found, will use 'sans' instead\"\n",
      "Warning message in grid.Call.graphics(C_text, as.graphicsAnnot(x$label), x$x, x$y, :\n",
      "\"font family 'Arial' not found, will use 'sans' instead\"\n",
      "Warning message in grid.Call.graphics(C_text, as.graphicsAnnot(x$label), x$x, x$y, :\n",
      "\"font family 'Arial' not found, will use 'sans' instead\"\n",
      "Warning message in grid.Call.graphics(C_text, as.graphicsAnnot(x$label), x$x, x$y, :\n",
      "\"font family 'Arial' not found, will use 'sans' instead\"\n",
      "Warning message in grid.Call.graphics(C_text, as.graphicsAnnot(x$label), x$x, x$y, :\n",
      "\"font family 'Arial' not found, will use 'sans' instead\"\n",
      "Warning message in grid.Call.graphics(C_text, as.graphicsAnnot(x$label), x$x, x$y, :\n",
      "\"font family 'Arial' not found, will use 'sans' instead\"\n",
      "Warning message in grid.Call.graphics(C_text, as.graphicsAnnot(x$label), x$x, x$y, :\n",
      "\"font family 'Arial' not found, will use 'sans' instead\"\n",
      "Warning message in grid.Call.graphics(C_text, as.graphicsAnnot(x$label), x$x, x$y, :\n",
      "\"font family 'Arial' not found, will use 'sans' instead\"\n",
      "Warning message in grid.Call.graphics(C_text, as.graphicsAnnot(x$label), x$x, x$y, :\n",
      "\"font family 'Arial' not found, will use 'sans' instead\"\n",
      "Warning message in grid.Call.graphics(C_text, as.graphicsAnnot(x$label), x$x, x$y, :\n",
      "\"font family 'Arial' not found, will use 'sans' instead\"\n",
      "Warning message in grid.Call.graphics(C_text, as.graphicsAnnot(x$label), x$x, x$y, :\n",
      "\"font family 'Arial' not found, will use 'sans' instead\"\n",
      "Warning message in grid.Call.graphics(C_text, as.graphicsAnnot(x$label), x$x, x$y, :\n",
      "\"font family 'Arial' not found, will use 'sans' instead\"\n",
      "Warning message in grid.Call.graphics(C_text, as.graphicsAnnot(x$label), x$x, x$y, :\n",
      "\"font family 'Arial' not found, will use 'sans' instead\"\n",
      "Warning message in grid.Call.graphics(C_text, as.graphicsAnnot(x$label), x$x, x$y, :\n",
      "\"font family 'Arial' not found, will use 'sans' instead\"\n"
     ]
    },
    {
     "name": "stdout",
     "output_type": "stream",
     "text": [
      "  Year Expert_Accuracy Model_Accuracy   N\n",
      "1    5          62.50%         80.83% 120\n",
      "2    6          63.33%         84.17% 120\n",
      "3    7          63.33%         85.00% 120\n",
      "Patient count per year (N):\n",
      "  Year   N\n",
      "1    5 120\n",
      "2    6 120\n",
      "3    7 120\n"
     ]
    }
   ],
   "source": [
    "library(dplyr)\n",
    "library(ggplot2)\n",
    "library(cowplot)\n",
    "library(reshape2)\n",
    "\n",
    "merged_df <- merged_df %>%\n",
    "  filter(NID != \"NID\", NID != \"\", !is.na(NID)) %>%  \n",
    "  distinct(NID, year, .keep_all = TRUE)  \n",
    "\n",
    "cat(\"De-duplicated patient-year count:\", nrow(merged_df), \"\\n\")\n",
    "cat(\"Unique NID count:\", length(unique(merged_df$NID)), \"\\n\")\n",
    "\n",
    "plot_confmat <- function(cm_df, title, accuracy) {\n",
    "  ggplot(cm_df, aes(x=factor(Reference), y=factor(Prediction), fill=Freq)) +\n",
    "    geom_tile(color=\"white\", size=1, alpha=0.85) +\n",
    "    geom_text(aes(label=Freq), color=\"black\", size=6, fontface=\"bold\") +\n",
    "    scale_fill_gradient(low=\"#FEE5E0\", high=\"#A50F15\") + \n",
    "    labs(\n",
    "      x=\"True label\",\n",
    "      y=\"Predicted label\",\n",
    "      title=paste0(title, \"\\nAccuracy = \", sprintf(\"%.1f%%\", accuracy*100))\n",
    "    ) +\n",
    "    theme_minimal(base_size = 15, base_family = \"Arial\") +\n",
    "    theme(\n",
    "      plot.title = element_text(size=16, face=\"bold\", hjust=0.5),\n",
    "      axis.title = element_text(size=15),\n",
    "      axis.text = element_text(size=13),\n",
    "      legend.position = \"none\",\n",
    "      panel.grid = element_blank(),\n",
    "      panel.border = element_rect(colour = \"black\", fill=NA, size=1)\n",
    "    ) +\n",
    "    scale_x_discrete(labels=c(\"0\"=\"CIR\",\"1\"=\"IIR\")) +\n",
    "    scale_y_discrete(labels=c(\"0\"=\"CIR\",\"1\"=\"IIR\"))\n",
    "}\n",
    "\n",
    "plots_expert <- list()\n",
    "plots_model  <- list()\n",
    "acc_table    <- data.frame(Year=integer(0), Expert_Accuracy=double(0), Model_Accuracy=double(0), N=integer(0))\n",
    "\n",
    "for(y in c(\"5\", \"6\", \"7\")){\n",
    "  dfy <- merged_df %>%\n",
    "    filter(year == y & !is.na(true_label) & !is.na(Group_Assessment) & !is.na(predicted_label))\n",
    "\n",
    "  acc_expert <- mean(dfy$Group_Assessment == dfy$true_label)\n",
    "  acc_model  <- mean(dfy$predicted_label == dfy$true_label)\n",
    "\n",
    "  acc_table <- rbind(acc_table, data.frame(Year=y, Expert_Accuracy=acc_expert, Model_Accuracy=acc_model, N=nrow(dfy)))\n",
    "\n",
    "  cm_expert <- as.data.frame(table(Prediction=dfy$Group_Assessment, Reference=dfy$true_label))\n",
    "  plots_expert[[y]] <- plot_confmat(cm_expert, paste0(\"Expert prediction (Year \", y, \")\"), acc_expert)\n",
    "  \n",
    "  cm_model <- as.data.frame(table(Prediction=dfy$predicted_label, Reference=dfy$true_label))\n",
    "  plots_model[[y]] <- plot_confmat(cm_model, paste0(\"DJPSIIR prediction (Year \", y, \")\"), acc_model)\n",
    "}\n",
    "\n",
    "all_plots <- plot_grid(\n",
    "  plots_expert[[\"5\"]], plots_model[[\"5\"]],\n",
    "  plots_expert[[\"6\"]], plots_model[[\"6\"]],\n",
    "  plots_expert[[\"7\"]], plots_model[[\"7\"]],\n",
    "  nrow=3, ncol=2, labels = c(\"A1\",\"A2\",\"B1\",\"B2\",\"C1\",\"C2\")\n",
    ")\n",
    "\n",
    "ggsave(\"C:/path/expert_model_confusion_matrix_5_6_7year_en.svg\", all_plots, width=10, height=15, device=\"svg\", dpi=600)\n",
    "\n",
    "acc_table$Expert_Accuracy <- sprintf(\"%.2f%%\", acc_table$Expert_Accuracy*100)\n",
    "acc_table$Model_Accuracy <- sprintf(\"%.2f%%\", acc_table$Model_Accuracy*100)\n",
    "print(acc_table)\n",
    "cat(\"Patient count per year (N):\\n\")\n",
    "print(acc_table[c(\"Year\", \"N\")])"
   ]
  },
  {
   "cell_type": "markdown",
   "metadata": {},
   "source": [
    "# code for figure 5B-5E"
   ]
  },
  {
   "cell_type": "code",
   "execution_count": null,
   "metadata": {
    "vscode": {
     "languageId": "r"
    }
   },
   "outputs": [],
   "source": [
    "# xixi cohort\n",
    "# Data Preparation\n",
    "df_drug_merge1 <- read.csv(\"C:/path/df_drug_merge1.csv\")\n",
    "df_final_surv <- read.csv(\"C:/path/df_final_surv.csv\")\n",
    "\n",
    "breaks <- c(-Inf, 30, 60, 90, Inf)\n",
    "df_drug_merge1$B16_group <- cut(df_drug_merge1$B16, breaks = breaks, labels = FALSE, \n",
    "                                include.lowest = TRUE)\n",
    "df_drug_merge1$B16_group <- addNA(df_drug_merge1$B16_group)\n",
    "df_drug_merge1$B16_group <- as.integer(df_drug_merge1$B16_group)\n",
    "\n",
    "df_drug_merge1 <- df_drug_merge1 %>% \n",
    "   select(-B16)\n",
    "\n",
    "df_drug_long0 <- subset(df_drug_merge1, drug_trans == 0)\n",
    "df_drug_long1 <- subset(df_drug_merge1, drug_trans == 1)\n",
    "df_drug_surv0 <- dplyr::filter(df_final_surv, NID %in% df_drug_long0$NID)\n",
    "df_drug_long0 <- dplyr::filter(df_drug_long0, NID %in% df_drug_surv0$NID)\n",
    "df_drug_surv1 <- dplyr::filter(df_final_surv, NID %in% df_drug_long1$NID)\n",
    "df_drug_long1 <- dplyr::filter(df_drug_long1, NID %in% df_drug_surv1$NID)"
   ]
  },
  {
   "cell_type": "code",
   "execution_count": null,
   "metadata": {
    "vscode": {
     "languageId": "r"
    }
   },
   "outputs": [],
   "source": [
    "# Joint Model Fitting (non-switch group)\n",
    "CoxFit3 <- coxph(Surv(time1, IIR_3revi) ~ B9+B19_group+AGE_10, data = df_drug_surv0)\n",
    "lmeFit1 <- lme(F2 ~ ns(follow.up.years, 2, B = c(0, 6.7))+B9+B8+B12_group+B18_group+B10_group+AGE_10+B16_group, \n",
    "                 data = df_drug_long0, random = ~ ns(follow.up.years, 2, B = c(0, 6.7)) | NID,\n",
    "                 control = lmeControl(opt = \"optim\"))\n",
    "lmeFit2 <- lme(CD4CD8 ~ ns(follow.up.years, 2, B = c(0, 6.4))+B2+AGE_10+B25+B12_group+B16_group+B9+B8+B10_group, \n",
    "                 data = df_drug_long0, random = ~ ns(follow.up.years, 2, B = c(0, 6.4)) | NID,\n",
    "                 control = lmeControl(opt = \"optim\"))\n",
    "jmFitcox3.12 <- jm(CoxFit3, list(lmeFit1, lmeFit2), time_var = \"follow.up.years\")"
   ]
  },
  {
   "cell_type": "code",
   "execution_count": null,
   "metadata": {
    "vscode": {
     "languageId": "r"
    }
   },
   "outputs": [],
   "source": [
    "# Joint Model Fitting (switch group)\n",
    "CoxFit3 <- coxph(Surv(time1, IIR_3revi) ~ B9+B19_group+AGE_10, data = df_drug_surv1)\n",
    "lmeFit1 <- lme(F2 ~ ns(follow.up.years, 2, B = c(0, 6.7))+B9+B8+B12_group+B18_group+B10_group+AGE_10+B16_group, \n",
    "                 data = df_drug_long1, random = ~ ns(follow.up.years, 2, B = c(0, 6.7)) | NID,\n",
    "                 control = lmeControl(opt = \"optim\"))\n",
    "lmeFit2 <- lme(CD4CD8 ~ ns(follow.up.years, 2, B = c(0, 6.4))+B2+AGE_10+B25+B12_group+B16_group+B9+B8+B10_group, \n",
    "                 data = df_drug_long1, random = ~ ns(follow.up.years, 2, B = c(0, 6.4)) | NID,\n",
    "                 control = lmeControl(opt = \"optim\"))\n",
    "jmFitcox3.12 <- jm(CoxFit3, list(lmeFit1, lmeFit2), time_var = \"follow.up.years\")"
   ]
  },
  {
   "cell_type": "code",
   "execution_count": null,
   "metadata": {
    "vscode": {
     "languageId": "r"
    }
   },
   "outputs": [],
   "source": [
    "# 5-7 year AUC  (non-switch group)\n",
    "roc_result15 <- tvROC(jmFitcox3.12, newdata = df_drug_long0, Tstart = 1, Thoriz = 5)\n",
    "roc_result25 <- tvROC(jmFitcox3.12, newdata = df_drug_long0, Tstart = 2, Thoriz = 5)\n",
    "roc_result35 <- tvROC(jmFitcox3.12, newdata = df_drug_long0, Tstart = 3, Thoriz = 5)\n",
    "roc_result45 <- tvROC(jmFitcox3.12, newdata = df_drug_long0, Tstart = 4, Thoriz = 5)\n",
    "\n",
    "roc_result16 <- tvROC(jmFitcox3.12, newdata = df_drug_long0, Tstart = 1, Thoriz = 6)\n",
    "roc_result26 <- tvROC(jmFitcox3.12, newdata = df_drug_long0, Tstart = 2, Thoriz = 6)\n",
    "roc_result36 <- tvROC(jmFitcox3.12, newdata = df_drug_long0, Tstart = 3, Thoriz = 6)\n",
    "roc_result46 <- tvROC(jmFitcox3.12, newdata = df_drug_long0, Tstart = 4, Thoriz = 6)\n",
    "\n",
    "roc_result17 <- tvROC(jmFitcox3.12, newdata = df_drug_long0, Tstart = 1, Thoriz = 7)\n",
    "roc_result27 <- tvROC(jmFitcox3.12, newdata = df_drug_long0, Tstart = 2, Thoriz = 7)\n",
    "roc_result37 <- tvROC(jmFitcox3.12, newdata = df_drug_long0, Tstart = 3, Thoriz = 7)\n",
    "roc_result47 <- tvROC(jmFitcox3.12, newdata = df_drug_long0, Tstart = 4, Thoriz = 7)\n",
    "\n",
    "print(tvAUC(roc_result15))\n",
    "print(tvAUC(roc_result25))\n",
    "print(tvAUC(roc_result35))\n",
    "print(tvAUC(roc_result45))\n",
    "print(tvAUC(roc_result16))\n",
    "print(tvAUC(roc_result26))\n",
    "print(tvAUC(roc_result36))\n",
    "print(tvAUC(roc_result46))\n",
    "print(tvAUC(roc_result17))\n",
    "print(tvAUC(roc_result27))\n",
    "print(tvAUC(roc_result37))\n",
    "print(tvAUC(roc_result47))"
   ]
  },
  {
   "cell_type": "code",
   "execution_count": null,
   "metadata": {
    "vscode": {
     "languageId": "r"
    }
   },
   "outputs": [],
   "source": [
    "# 5-7 year AUC  (switch group)\n",
    "roc_result15 <- tvROC(jmFitcox3.12, newdata = df_drug_long1, Tstart = 1, Thoriz = 5)\n",
    "roc_result25 <- tvROC(jmFitcox3.12, newdata = df_drug_long1, Tstart = 2, Thoriz = 5)\n",
    "roc_result35 <- tvROC(jmFitcox3.12, newdata = df_drug_long1, Tstart = 3, Thoriz = 5)\n",
    "roc_result45 <- tvROC(jmFitcox3.12, newdata = df_drug_long1, Tstart = 4, Thoriz = 5)\n",
    "\n",
    "roc_result16 <- tvROC(jmFitcox3.12, newdata = df_drug_long1, Tstart = 1, Thoriz = 6)\n",
    "roc_result26 <- tvROC(jmFitcox3.12, newdata = df_drug_long1, Tstart = 2, Thoriz = 6)\n",
    "roc_result36 <- tvROC(jmFitcox3.12, newdata = df_drug_long1, Tstart = 3, Thoriz = 6)\n",
    "roc_result46 <- tvROC(jmFitcox3.12, newdata = df_drug_long1, Tstart = 4, Thoriz = 6)\n",
    "\n",
    "roc_result17 <- tvROC(jmFitcox3.12, newdata = df_drug_long1, Tstart = 1, Thoriz = 7)\n",
    "roc_result27 <- tvROC(jmFitcox3.12, newdata = df_drug_long1, Tstart = 2, Thoriz = 7)\n",
    "roc_result37 <- tvROC(jmFitcox3.12, newdata = df_drug_long1, Tstart = 3, Thoriz = 7)\n",
    "roc_result47 <- tvROC(jmFitcox3.12, newdata = df_drug_long1, Tstart = 4, Thoriz = 7)\n",
    "\n",
    "print(tvAUC(roc_result15))\n",
    "print(tvAUC(roc_result25))\n",
    "print(tvAUC(roc_result35))\n",
    "print(tvAUC(roc_result45))\n",
    "print(tvAUC(roc_result16))\n",
    "print(tvAUC(roc_result26))\n",
    "print(tvAUC(roc_result36))\n",
    "print(tvAUC(roc_result46))\n",
    "print(tvAUC(roc_result17))\n",
    "print(tvAUC(roc_result27))\n",
    "print(tvAUC(roc_result37))\n",
    "print(tvAUC(roc_result47))"
   ]
  },
  {
   "cell_type": "code",
   "execution_count": null,
   "metadata": {
    "vscode": {
     "languageId": "r"
    }
   },
   "outputs": [],
   "source": [
    "# ditan cohort\n",
    "# Data Preparation\n",
    "df_drug_ditan <- read.csv(\"C:/path/df_drug_ditan.csv\")\n",
    "ditan_final_surv <- read.csv(\"C:/path/ditan_final_surv.csv\")\n",
    "df_drug_long0 <- subset(df_drug_ditan, drug_trans == 0)\n",
    "df_drug_long1 <- subset(df_drug_ditan, drug_trans == 1)\n",
    "df_drug_surv0 <- dplyr::filter(ditan_final_surv, NID %in% df_drug_long0$NID)\n",
    "df_drug_long0 <- dplyr::filter(df_drug_long0, NID %in% df_drug_surv0$NID)\n",
    "df_drug_surv1 <- dplyr::filter(ditan_final_surv, NID %in% df_drug_long1$NID)\n",
    "df_drug_long1 <- dplyr::filter(df_drug_long1, NID %in% df_drug_surv1$NID)"
   ]
  },
  {
   "cell_type": "code",
   "execution_count": null,
   "metadata": {
    "vscode": {
     "languageId": "r"
    }
   },
   "outputs": [],
   "source": [
    "# Joint Model Fitting (non-switch group)\n",
    "CoxFit3 <- coxph(Surv(time1.new, IIR_3revi) ~ B9+B19_group+AGE_10, data = df_drug_surv0)\n",
    "lmeFit1 <- lme(F2 ~ ns(follow.up.years, 2, B = c(0, 6.7))+B9+B8+B12_group+B18_group+B10_group+AGE_10+B16_group, \n",
    "                 data = df_drug_long0, random = ~ ns(follow.up.years, 2, B = c(0, 6.7)) | NID,\n",
    "                 control = lmeControl(opt = \"optim\"))\n",
    "lmeFit2 <- lme(CD4CD8 ~ ns(follow.up.years, 2, B = c(0, 6.4))+B2+AGE_10+B25+B12_group+B16_group+B9+B8+B10_group, \n",
    "                 data = df_drug_long0, random = ~ ns(follow.up.years, 2, B = c(0, 6.4)) | NID,\n",
    "                 control = lmeControl(opt = \"optim\"))\n",
    "jmFitcox3.12 <- jm(CoxFit3, list(lmeFit1, lmeFit2), time_var = \"follow.up.years\")"
   ]
  },
  {
   "cell_type": "code",
   "execution_count": null,
   "metadata": {
    "vscode": {
     "languageId": "r"
    }
   },
   "outputs": [],
   "source": [
    "# Joint Model Fitting (switch group)\n",
    "CoxFit3 <- coxph(Surv(time1.new, IIR_3revi) ~ B9+B19_group+AGE_10, data = df_drug_surv1)\n",
    "lmeFit1 <- lme(F2 ~ ns(follow.up.years, 2, B = c(0, 6.7))+B9+B8+B12_group+B18_group+B10_group+AGE_10+B16_group, \n",
    "                 data = df_drug_long1, random = ~ ns(follow.up.years, 2, B = c(0, 6.7)) | NID,\n",
    "                 control = lmeControl(opt = \"optim\"))\n",
    "lmeFit2 <- lme(CD4CD8 ~ ns(follow.up.years, 2, B = c(0, 6.4))+B2+AGE_10+B25+B12_group+B16_group+B9+B8+B10_group, \n",
    "                 data = df_drug_long1, random = ~ ns(follow.up.years, 2, B = c(0, 6.4)) | NID,\n",
    "                 control = lmeControl(opt = \"optim\"))\n",
    "jmFitcox3.12 <- jm(CoxFit3, list(lmeFit1, lmeFit2), time_var = \"follow.up.years\")"
   ]
  },
  {
   "cell_type": "code",
   "execution_count": null,
   "metadata": {
    "vscode": {
     "languageId": "r"
    }
   },
   "outputs": [],
   "source": [
    "# 5-7 year AUC  (non-switch group)\n",
    "roc_result15 <- tvROC(jmFitcox3.12, newdata = df_drug_long0, Tstart = 1, Thoriz = 5)\n",
    "roc_result25 <- tvROC(jmFitcox3.12, newdata = df_drug_long0, Tstart = 2, Thoriz = 5)\n",
    "roc_result35 <- tvROC(jmFitcox3.12, newdata = df_drug_long0, Tstart = 3, Thoriz = 5)\n",
    "roc_result45 <- tvROC(jmFitcox3.12, newdata = df_drug_long0, Tstart = 4, Thoriz = 5)\n",
    "\n",
    "roc_result16 <- tvROC(jmFitcox3.12, newdata = df_drug_long0, Tstart = 1, Thoriz = 6)\n",
    "roc_result26 <- tvROC(jmFitcox3.12, newdata = df_drug_long0, Tstart = 2, Thoriz = 6)\n",
    "roc_result36 <- tvROC(jmFitcox3.12, newdata = df_drug_long0, Tstart = 3, Thoriz = 6)\n",
    "roc_result46 <- tvROC(jmFitcox3.12, newdata = df_drug_long0, Tstart = 4, Thoriz = 6)\n",
    "\n",
    "roc_result17 <- tvROC(jmFitcox3.12, newdata = df_drug_long0, Tstart = 1, Thoriz = 7)\n",
    "roc_result27 <- tvROC(jmFitcox3.12, newdata = df_drug_long0, Tstart = 2, Thoriz = 7)\n",
    "roc_result37 <- tvROC(jmFitcox3.12, newdata = df_drug_long0, Tstart = 3, Thoriz = 7)\n",
    "roc_result47 <- tvROC(jmFitcox3.12, newdata = df_drug_long0, Tstart = 4, Thoriz = 7)\n",
    "\n",
    "print(tvAUC(roc_result15))\n",
    "print(tvAUC(roc_result25))\n",
    "print(tvAUC(roc_result35))\n",
    "print(tvAUC(roc_result45))\n",
    "print(tvAUC(roc_result16))\n",
    "print(tvAUC(roc_result26))\n",
    "print(tvAUC(roc_result36))\n",
    "print(tvAUC(roc_result46))\n",
    "print(tvAUC(roc_result17))\n",
    "print(tvAUC(roc_result27))\n",
    "print(tvAUC(roc_result37))\n",
    "print(tvAUC(roc_result47))"
   ]
  },
  {
   "cell_type": "code",
   "execution_count": null,
   "metadata": {
    "vscode": {
     "languageId": "r"
    }
   },
   "outputs": [],
   "source": [
    "# 5-7 year AUC  (switch group)\n",
    "roc_result15 <- tvROC(jmFitcox3.12, newdata = df_drug_long1, Tstart = 1, Thoriz = 5)\n",
    "roc_result25 <- tvROC(jmFitcox3.12, newdata = df_drug_long1, Tstart = 2, Thoriz = 5)\n",
    "roc_result35 <- tvROC(jmFitcox3.12, newdata = df_drug_long1, Tstart = 3, Thoriz = 5)\n",
    "roc_result45 <- tvROC(jmFitcox3.12, newdata = df_drug_long1, Tstart = 4, Thoriz = 5)\n",
    "\n",
    "roc_result16 <- tvROC(jmFitcox3.12, newdata = df_drug_long1, Tstart = 1, Thoriz = 6)\n",
    "roc_result26 <- tvROC(jmFitcox3.12, newdata = df_drug_long1, Tstart = 2, Thoriz = 6)\n",
    "roc_result36 <- tvROC(jmFitcox3.12, newdata = df_drug_long1, Tstart = 3, Thoriz = 6)\n",
    "roc_result46 <- tvROC(jmFitcox3.12, newdata = df_drug_long1, Tstart = 4, Thoriz = 6)\n",
    "\n",
    "roc_result17 <- tvROC(jmFitcox3.12, newdata = df_drug_long1, Tstart = 1, Thoriz = 7)\n",
    "roc_result27 <- tvROC(jmFitcox3.12, newdata = df_drug_long1, Tstart = 2, Thoriz = 7)\n",
    "roc_result37 <- tvROC(jmFitcox3.12, newdata = df_drug_long1, Tstart = 3, Thoriz = 7)\n",
    "roc_result47 <- tvROC(jmFitcox3.12, newdata = df_drug_long1, Tstart = 4, Thoriz = 7)\n",
    "\n",
    "print(tvAUC(roc_result15))\n",
    "print(tvAUC(roc_result25))\n",
    "print(tvAUC(roc_result35))\n",
    "print(tvAUC(roc_result45))\n",
    "print(tvAUC(roc_result16))\n",
    "print(tvAUC(roc_result26))\n",
    "print(tvAUC(roc_result36))\n",
    "print(tvAUC(roc_result46))\n",
    "print(tvAUC(roc_result17))\n",
    "print(tvAUC(roc_result27))\n",
    "print(tvAUC(roc_result37))\n",
    "print(tvAUC(roc_result47))"
   ]
  },
  {
   "cell_type": "code",
   "execution_count": null,
   "metadata": {
    "vscode": {
     "languageId": "r"
    }
   },
   "outputs": [],
   "source": [
    "# youan cohort\n",
    "# Data Preparation\n",
    "df_drug_youan <- read.csv(\"C:/path/df_drug_youan.csv\")\n",
    "youan_final_surv <- read.csv(\"C:/path/youan_final_surv.csv\")\n",
    "df_drug_long0 <- subset(df_drug_youan, drug_trans == 0)\n",
    "df_drug_long1 <- subset(df_drug_youan, drug_trans == 1)\n",
    "df_drug_surv0 <- dplyr::filter(youan_final_surv, NID %in% df_drug_long0$NID)\n",
    "df_drug_long0 <- dplyr::filter(df_drug_long0, NID %in% df_drug_surv0$NID)\n",
    "df_drug_surv1 <- dplyr::filter(youan_final_surv, NID %in% df_drug_long1$NID)\n",
    "df_drug_long1 <- dplyr::filter(df_drug_long1, NID %in% df_drug_surv1$NID)\n",
    "\n",
    "df_drug_surv0 <- df_drug_surv0[order(df_drug_surv0$NID), ]\n",
    "df_drug_surv1 <- df_drug_surv1[order(df_drug_surv1$NID), ]\n",
    "df_drug_long0 <- df_drug_long0[order(df_drug_long0$NID, df_drug_long0$follow.up.years), ]\n",
    "df_drug_long1 <- df_drug_long1[order(df_drug_long1$NID, df_drug_long1$follow.up.years), ]"
   ]
  },
  {
   "cell_type": "code",
   "execution_count": null,
   "metadata": {
    "vscode": {
     "languageId": "r"
    }
   },
   "outputs": [],
   "source": [
    "# Joint Model Fitting (non-switch group)\n",
    "CoxFit3 <- coxph(Surv(time1.new, IIR_3revi) ~ B9+B19_group+AGE_10, data = df_drug_surv0)\n",
    "lmeFit1 <- lme(F2 ~ ns(follow.up.years, 2, B = c(0, 6.7))+B9+B8+B12_group+B18_group+B10_group+AGE_10+B16_group, \n",
    "                 data = df_drug_long0, random = ~ ns(follow.up.years, 2, B = c(0, 6.7)) | NID,\n",
    "                 control = lmeControl(opt = \"nlminb\", maxIter = 1000, msMaxIter = 1000, msMaxEval = 2000))\n",
    "lmeFit2 <- lme(CD4CD8 ~ ns(follow.up.years, 2, B = c(0, 6.4))+B2+AGE_10+B25+B12_group+B16_group+B9+B8+B10_group, \n",
    "                 data = df_drug_long0, random = ~ ns(follow.up.years, 2, B = c(0, 6.4)) | NID,\n",
    "                 control = lmeControl(opt = \"nlminb\", maxIter = 1000, msMaxIter = 1000, msMaxEval = 2000))\n",
    "jmFitcox3.12 <- jm(CoxFit3, list(lmeFit1, lmeFit2), time_var = \"follow.up.years\")"
   ]
  },
  {
   "cell_type": "code",
   "execution_count": null,
   "metadata": {
    "vscode": {
     "languageId": "r"
    }
   },
   "outputs": [],
   "source": [
    "# Joint Model Fitting (switch group)\n",
    "CoxFit3 <- coxph(Surv(time1.new, IIR_3revi) ~ B9+B19_group+AGE_10, data = df_drug_surv1)\n",
    "lmeFit1 <- lme(F2 ~ ns(follow.up.years, 2, B = c(0, 6.7))+B9+B8+B12_group+B18_group+B10_group+AGE_10+B16_group, \n",
    "                 data = df_drug_long1, random = ~ ns(follow.up.years, 2, B = c(0, 6.7)) | NID,\n",
    "                 control = lmeControl(opt = \"optim\"))\n",
    "lmeFit2 <- lme(CD4CD8 ~ ns(follow.up.years, 2, B = c(0, 6.4))+B2+AGE_10+B25+B12_group+B16_group+B9+B8+B10_group, \n",
    "                 data = df_drug_long1, random = ~ ns(follow.up.years, 2, B = c(0, 6.4)) | NID,\n",
    "                 control = lmeControl(opt = \"optim\"))\n",
    "jmFitcox3.12 <- jm(CoxFit3, list(lmeFit1, lmeFit2), time_var = \"follow.up.years\")"
   ]
  },
  {
   "cell_type": "code",
   "execution_count": null,
   "metadata": {
    "vscode": {
     "languageId": "r"
    }
   },
   "outputs": [],
   "source": [
    "# 5-7 year AUC  (non-switch group)\n",
    "roc_result15 <- tvROC(jmFitcox3.12, newdata = df_drug_long0, Tstart = 1, Thoriz = 5)\n",
    "roc_result25 <- tvROC(jmFitcox3.12, newdata = df_drug_long0, Tstart = 2, Thoriz = 5)\n",
    "roc_result35 <- tvROC(jmFitcox3.12, newdata = df_drug_long0, Tstart = 3, Thoriz = 5)\n",
    "roc_result45 <- tvROC(jmFitcox3.12, newdata = df_drug_long0, Tstart = 4, Thoriz = 5)\n",
    "\n",
    "roc_result16 <- tvROC(jmFitcox3.12, newdata = df_drug_long0, Tstart = 1, Thoriz = 6)\n",
    "roc_result26 <- tvROC(jmFitcox3.12, newdata = df_drug_long0, Tstart = 2, Thoriz = 6)\n",
    "roc_result36 <- tvROC(jmFitcox3.12, newdata = df_drug_long0, Tstart = 3, Thoriz = 6)\n",
    "roc_result46 <- tvROC(jmFitcox3.12, newdata = df_drug_long0, Tstart = 4, Thoriz = 6)\n",
    "\n",
    "roc_result17 <- tvROC(jmFitcox3.12, newdata = df_drug_long0, Tstart = 1, Thoriz = 7)\n",
    "roc_result27 <- tvROC(jmFitcox3.12, newdata = df_drug_long0, Tstart = 2, Thoriz = 7)\n",
    "roc_result37 <- tvROC(jmFitcox3.12, newdata = df_drug_long0, Tstart = 3, Thoriz = 7)\n",
    "roc_result47 <- tvROC(jmFitcox3.12, newdata = df_drug_long0, Tstart = 4, Thoriz = 7)\n",
    "\n",
    "print(tvAUC(roc_result15))\n",
    "print(tvAUC(roc_result25))\n",
    "print(tvAUC(roc_result35))\n",
    "print(tvAUC(roc_result45))\n",
    "print(tvAUC(roc_result16))\n",
    "print(tvAUC(roc_result26))\n",
    "print(tvAUC(roc_result36))\n",
    "print(tvAUC(roc_result46))\n",
    "print(tvAUC(roc_result17))\n",
    "print(tvAUC(roc_result27))\n",
    "print(tvAUC(roc_result37))\n",
    "print(tvAUC(roc_result47))"
   ]
  },
  {
   "cell_type": "code",
   "execution_count": null,
   "metadata": {
    "vscode": {
     "languageId": "r"
    }
   },
   "outputs": [],
   "source": [
    "# 5-7 year AUC  (switch group)\n",
    "roc_result15 <- tvROC(jmFitcox3.12, newdata = df_drug_long1, Tstart = 1, Thoriz = 5)\n",
    "roc_result25 <- tvROC(jmFitcox3.12, newdata = df_drug_long1, Tstart = 2, Thoriz = 5)\n",
    "roc_result35 <- tvROC(jmFitcox3.12, newdata = df_drug_long1, Tstart = 3, Thoriz = 5)\n",
    "roc_result45 <- tvROC(jmFitcox3.12, newdata = df_drug_long1, Tstart = 4, Thoriz = 5)\n",
    "\n",
    "roc_result16 <- tvROC(jmFitcox3.12, newdata = df_drug_long1, Tstart = 1, Thoriz = 6)\n",
    "roc_result26 <- tvROC(jmFitcox3.12, newdata = df_drug_long1, Tstart = 2, Thoriz = 6)\n",
    "roc_result36 <- tvROC(jmFitcox3.12, newdata = df_drug_long1, Tstart = 3, Thoriz = 6)\n",
    "roc_result46 <- tvROC(jmFitcox3.12, newdata = df_drug_long1, Tstart = 4, Thoriz = 6)\n",
    "\n",
    "roc_result17 <- tvROC(jmFitcox3.12, newdata = df_drug_long1, Tstart = 1, Thoriz = 7)\n",
    "roc_result27 <- tvROC(jmFitcox3.12, newdata = df_drug_long1, Tstart = 2, Thoriz = 7)\n",
    "roc_result37 <- tvROC(jmFitcox3.12, newdata = df_drug_long1, Tstart = 3, Thoriz = 7)\n",
    "roc_result47 <- tvROC(jmFitcox3.12, newdata = df_drug_long1, Tstart = 4, Thoriz = 7)\n",
    "\n",
    "print(tvAUC(roc_result15))\n",
    "print(tvAUC(roc_result25))\n",
    "print(tvAUC(roc_result35))\n",
    "print(tvAUC(roc_result45))\n",
    "print(tvAUC(roc_result16))\n",
    "print(tvAUC(roc_result26))\n",
    "print(tvAUC(roc_result36))\n",
    "print(tvAUC(roc_result46))\n",
    "print(tvAUC(roc_result17))\n",
    "print(tvAUC(roc_result27))\n",
    "print(tvAUC(roc_result37))\n",
    "print(tvAUC(roc_result47))"
   ]
  },
  {
   "cell_type": "code",
   "execution_count": null,
   "metadata": {
    "vscode": {
     "languageId": "r"
    }
   },
   "outputs": [],
   "source": [
    "# xixi cohort\n",
    "# Data Preparation\n",
    "df_drug_merge2 <- read.csv(\"C:/path/df_drug_merge2.csv\")\n",
    "df_final_surv <- read.csv(\"C:/path/df_final_surv.csv\")\n",
    "\n",
    "breaks <- c(-Inf, 30, 60, 90, Inf)\n",
    "df_drug_merge2$B16_group <- cut(df_drug_merge2$B16, breaks = breaks, labels = FALSE, \n",
    "                                include.lowest = TRUE)\n",
    "df_drug_merge2$B16_group <- addNA(df_drug_merge2$B16_group)\n",
    "df_drug_merge2$B16_group <- as.integer(df_drug_merge2$B16_group)\n",
    "\n",
    "df_drug_merge2 <- df_drug_merge2 %>% \n",
    "   select(-B16)\n",
    "\n",
    "df_drug_longn15 <- subset(df_drug_merge2, F.anti_drug != 15)\n",
    "df_drug_long15 <- subset(df_drug_merge2, F.anti_drug == 15)\n",
    "df_drug_longn15 <- na.omit(df_drug_longn15)\n",
    "df_drug_long15 <- na.omit(df_drug_long15)\n",
    "df_drug_survn15 <- dplyr::filter(df_final_surv, NID %in% df_drug_longn15$NID)\n",
    "df_drug_longn15 <- dplyr::filter(df_drug_longn15, NID %in% df_drug_survn15$NID)\n",
    "df_drug_surv15 <- dplyr::filter(df_final_surv, NID %in% df_drug_long15$NID)\n",
    "df_drug_long15 <- dplyr::filter(df_drug_long15, NID %in% df_drug_surv15$NID)\n"
   ]
  },
  {
   "cell_type": "code",
   "execution_count": null,
   "metadata": {
    "vscode": {
     "languageId": "r"
    }
   },
   "outputs": [],
   "source": [
    "# Joint Model Fitting (non-EFV+TDF+3TC drug group)\n",
    "CoxFit3 <- coxph(Surv(time1, IIR_3revi) ~ B9+B19_group+AGE_10, data = df_drug_survn15)\n",
    "lmeFit1 <- lme(F2 ~ ns(follow.up.years, 2, B = c(0, 6.7))+B9+B8+B12_group+B18_group+B10_group+AGE_10+B16_group, \n",
    "                 data = df_drug_longn15, random = ~ ns(follow.up.years, 2, B = c(0, 6.7)) | NID,\n",
    "                 control = lmeControl(opt = \"optim\"))\n",
    "lmeFit2 <- lme(CD4CD8 ~ ns(follow.up.years, 2, B = c(0, 6.4))+B2+AGE_10+B25+B12_group+B16_group+B9+B8+B10_group, \n",
    "                 data = df_drug_longn15, random = ~ ns(follow.up.years, 2, B = c(0, 6.4)) | NID,\n",
    "                 control = lmeControl(opt = \"optim\"))\n",
    "jmFitcox3.12 <- jm(CoxFit3, list(lmeFit1, lmeFit2), time_var = \"follow.up.years\")"
   ]
  },
  {
   "cell_type": "code",
   "execution_count": null,
   "metadata": {
    "vscode": {
     "languageId": "r"
    }
   },
   "outputs": [],
   "source": [
    "# Joint Model Fitting (EFV+TDF+3TC drug group)\n",
    "CoxFit3 <- coxph(Surv(time1, IIR_3revi) ~ B9+B19_group+AGE_10, data = df_drug_surv15)\n",
    "lmeFit1 <- lme(F2 ~ ns(follow.up.years, 2, B = c(0, 6.7))+B9+B8+B12_group+B18_group+B10_group+AGE_10+B16_group, \n",
    "                 data = df_drug_long15, random = ~ ns(follow.up.years, 2, B = c(0, 6.7)) | NID,\n",
    "                 control = lmeControl(opt = \"optim\"))\n",
    "lmeFit2 <- lme(CD4CD8 ~ ns(follow.up.years, 2, B = c(0, 6.4))+B2+AGE_10+B25+B12_group+B16_group+B9+B8+B10_group, \n",
    "                 data = df_drug_long15, random = ~ ns(follow.up.years, 2, B = c(0, 6.4)) | NID,\n",
    "                 control = lmeControl(opt = \"optim\"))\n",
    "jmFitcox3.12 <- jm(CoxFit3, list(lmeFit1, lmeFit2), time_var = \"follow.up.years\")"
   ]
  },
  {
   "cell_type": "code",
   "execution_count": null,
   "metadata": {
    "vscode": {
     "languageId": "r"
    }
   },
   "outputs": [],
   "source": [
    "# 5-7 year AUC  (non-EFV+TDF+3TC group)\n",
    "roc_result15 <- tvROC(jmFitcox3.12, newdata = df_drug_longn15, Tstart = 1, Thoriz = 5)\n",
    "roc_result25 <- tvROC(jmFitcox3.12, newdata = df_drug_longn15, Tstart = 2, Thoriz = 5)\n",
    "roc_result35 <- tvROC(jmFitcox3.12, newdata = df_drug_longn15, Tstart = 3, Thoriz = 5)\n",
    "roc_result45 <- tvROC(jmFitcox3.12, newdata = df_drug_longn15, Tstart = 4, Thoriz = 5)\n",
    "\n",
    "roc_result16 <- tvROC(jmFitcox3.12, newdata = df_drug_longn15, Tstart = 1, Thoriz = 6)\n",
    "roc_result26 <- tvROC(jmFitcox3.12, newdata = df_drug_longn15, Tstart = 2, Thoriz = 6)\n",
    "roc_result36 <- tvROC(jmFitcox3.12, newdata = df_drug_longn15, Tstart = 3, Thoriz = 6)\n",
    "roc_result46 <- tvROC(jmFitcox3.12, newdata = df_drug_longn15, Tstart = 4, Thoriz = 6)\n",
    "\n",
    "roc_result17 <- tvROC(jmFitcox3.12, newdata = df_drug_longn15, Tstart = 1, Thoriz = 7)\n",
    "roc_result27 <- tvROC(jmFitcox3.12, newdata = df_drug_longn15, Tstart = 2, Thoriz = 7)\n",
    "roc_result37 <- tvROC(jmFitcox3.12, newdata = df_drug_longn15, Tstart = 3, Thoriz = 7)\n",
    "roc_result47 <- tvROC(jmFitcox3.12, newdata = df_drug_longn15, Tstart = 4, Thoriz = 7)\n",
    "\n",
    "print(tvAUC(roc_result15))\n",
    "print(tvAUC(roc_result25))\n",
    "print(tvAUC(roc_result35))\n",
    "print(tvAUC(roc_result45))\n",
    "print(tvAUC(roc_result16))\n",
    "print(tvAUC(roc_result26))\n",
    "print(tvAUC(roc_result36))\n",
    "print(tvAUC(roc_result46))\n",
    "print(tvAUC(roc_result17))\n",
    "print(tvAUC(roc_result27))\n",
    "print(tvAUC(roc_result37))\n",
    "print(tvAUC(roc_result47))"
   ]
  },
  {
   "cell_type": "code",
   "execution_count": null,
   "metadata": {
    "vscode": {
     "languageId": "r"
    }
   },
   "outputs": [],
   "source": [
    "# 5-7 year AUC  (EFV+TDF+3TC group)\n",
    "roc_result15 <- tvROC(jmFitcox3.12, newdata = df_drug_long15, Tstart = 1, Thoriz = 5)\n",
    "roc_result25 <- tvROC(jmFitcox3.12, newdata = df_drug_long15, Tstart = 2, Thoriz = 5)\n",
    "roc_result35 <- tvROC(jmFitcox3.12, newdata = df_drug_long15, Tstart = 3, Thoriz = 5)\n",
    "roc_result45 <- tvROC(jmFitcox3.12, newdata = df_drug_long15, Tstart = 4, Thoriz = 5)\n",
    "\n",
    "roc_result16 <- tvROC(jmFitcox3.12, newdata = df_drug_long15, Tstart = 1, Thoriz = 6)\n",
    "roc_result26 <- tvROC(jmFitcox3.12, newdata = df_drug_long15, Tstart = 2, Thoriz = 6)\n",
    "roc_result36 <- tvROC(jmFitcox3.12, newdata = df_drug_long15, Tstart = 3, Thoriz = 6)\n",
    "roc_result46 <- tvROC(jmFitcox3.12, newdata = df_drug_long15, Tstart = 4, Thoriz = 6)\n",
    "\n",
    "roc_result17 <- tvROC(jmFitcox3.12, newdata = df_drug_long15, Tstart = 1, Thoriz = 7)\n",
    "roc_result27 <- tvROC(jmFitcox3.12, newdata = df_drug_long15, Tstart = 2, Thoriz = 7)\n",
    "roc_result37 <- tvROC(jmFitcox3.12, newdata = df_drug_long15, Tstart = 3, Thoriz = 7)\n",
    "roc_result47 <- tvROC(jmFitcox3.12, newdata = df_drug_long15, Tstart = 4, Thoriz = 7)\n",
    "\n",
    "print(tvAUC(roc_result15))\n",
    "print(tvAUC(roc_result25))\n",
    "print(tvAUC(roc_result35))\n",
    "print(tvAUC(roc_result45))\n",
    "print(tvAUC(roc_result16))\n",
    "print(tvAUC(roc_result26))\n",
    "print(tvAUC(roc_result36))\n",
    "print(tvAUC(roc_result46))\n",
    "print(tvAUC(roc_result17))\n",
    "print(tvAUC(roc_result27))\n",
    "print(tvAUC(roc_result37))\n",
    "print(tvAUC(roc_result47))"
   ]
  },
  {
   "cell_type": "code",
   "execution_count": null,
   "metadata": {
    "vscode": {
     "languageId": "r"
    }
   },
   "outputs": [],
   "source": [
    "# ditan cohort\n",
    "# Data Preparation\n",
    "df_drug_ditan <- read.csv(\"C:/path/df_drug_ditan.csv\")\n",
    "ditan_final_surv <- read.csv(\"C:/path/ditan_final_surv.csv\")\n",
    "df_drug_longn15 <- subset(df_drug_ditan, F34 != 15)\n",
    "df_drug_long15 <- subset(df_drug_ditan, F34 == 15)\n",
    "df_drug_longn15 <- na.omit(df_drug_longn15)\n",
    "df_drug_long15 <- na.omit(df_drug_long15)\n",
    "df_drug_survn15 <- dplyr::filter(ditan_final_surv, NID %in% df_drug_longn15$NID)\n",
    "df_drug_longn15 <- dplyr::filter(df_drug_longn15, NID %in% df_drug_survn15$NID)\n",
    "df_drug_surv15 <- dplyr::filter(ditan_final_surv, NID %in% df_drug_long15$NID)\n",
    "df_drug_long15 <- dplyr::filter(df_drug_long15, NID %in% df_drug_surv15$NID)"
   ]
  },
  {
   "cell_type": "code",
   "execution_count": null,
   "metadata": {
    "vscode": {
     "languageId": "r"
    }
   },
   "outputs": [],
   "source": [
    "# Joint Model Fitting (non-EFV+TDF+3TC drug group)\n",
    "CoxFit3 <- coxph(Surv(time1.new, IIR_3revi) ~ B9+B19_group+AGE_10, data = df_drug_survn15)\n",
    "lmeFit1 <- lme(F2 ~ ns(follow.up.years, 2, B = c(0, 6.7))+B9+B8+B12_group+B18_group+B10_group+AGE_10+B16_group, \n",
    "                 data = df_drug_longn15, random = ~ ns(follow.up.years, 2, B = c(0, 6.7)) | NID,\n",
    "                 control = lmeControl(opt = \"optim\"))\n",
    "lmeFit2 <- lme(CD4CD8 ~ ns(follow.up.years, 2, B = c(0, 6.4))+B2+AGE_10+B25+B12_group+B16_group+B9+B8+B10_group, \n",
    "                 data = df_drug_longn15, random = ~ ns(follow.up.years, 2, B = c(0, 6.4)) | NID,\n",
    "                 control = lmeControl(opt = \"optim\"))\n",
    "jmFitcox3.12 <- jm(CoxFit3, list(lmeFit1, lmeFit2), time_var = \"follow.up.years\")"
   ]
  },
  {
   "cell_type": "code",
   "execution_count": null,
   "metadata": {
    "vscode": {
     "languageId": "r"
    }
   },
   "outputs": [],
   "source": [
    "# Joint Model Fitting (EFV+TDF+3TC drug group)\n",
    "CoxFit3 <- coxph(Surv(time1.new, IIR_3revi) ~ B9+B19_group+AGE_10, data = df_drug_surv15)\n",
    "lmeFit1 <- lme(F2 ~ ns(follow.up.years, 2, B = c(0, 6.7))+B9+B8+B12_group+B18_group+B10_group+AGE_10+B16_group, \n",
    "                 data = df_drug_long15, random = ~ ns(follow.up.years, 2, B = c(0, 6.7)) | NID,\n",
    "                 control = lmeControl(opt = \"optim\"))\n",
    "lmeFit2 <- lme(CD4CD8 ~ ns(follow.up.years, 2, B = c(0, 6.4))+B2+AGE_10+B25+B12_group+B16_group+B9+B8+B10_group, \n",
    "                 data = df_drug_long15, random = ~ ns(follow.up.years, 2, B = c(0, 6.4)) | NID,\n",
    "                 control = lmeControl(opt = \"optim\"))\n",
    "jmFitcox3.12 <- jm(CoxFit3, list(lmeFit1, lmeFit2), time_var = \"follow.up.years\")"
   ]
  },
  {
   "cell_type": "code",
   "execution_count": null,
   "metadata": {
    "vscode": {
     "languageId": "r"
    }
   },
   "outputs": [],
   "source": [
    "# 5-7 year AUC  (non-EFV+TDF+3TC group)\n",
    "roc_result15 <- tvROC(jmFitcox3.12, newdata = df_drug_longn15, Tstart = 1, Thoriz = 5)\n",
    "roc_result25 <- tvROC(jmFitcox3.12, newdata = df_drug_longn15, Tstart = 2, Thoriz = 5)\n",
    "roc_result35 <- tvROC(jmFitcox3.12, newdata = df_drug_longn15, Tstart = 3, Thoriz = 5)\n",
    "roc_result45 <- tvROC(jmFitcox3.12, newdata = df_drug_longn15, Tstart = 4, Thoriz = 5)\n",
    "\n",
    "roc_result16 <- tvROC(jmFitcox3.12, newdata = df_drug_longn15, Tstart = 1, Thoriz = 6)\n",
    "roc_result26 <- tvROC(jmFitcox3.12, newdata = df_drug_longn15, Tstart = 2, Thoriz = 6)\n",
    "roc_result36 <- tvROC(jmFitcox3.12, newdata = df_drug_longn15, Tstart = 3, Thoriz = 6)\n",
    "roc_result46 <- tvROC(jmFitcox3.12, newdata = df_drug_longn15, Tstart = 4, Thoriz = 6)\n",
    "\n",
    "roc_result17 <- tvROC(jmFitcox3.12, newdata = df_drug_longn15, Tstart = 1, Thoriz = 7)\n",
    "roc_result27 <- tvROC(jmFitcox3.12, newdata = df_drug_longn15, Tstart = 2, Thoriz = 7)\n",
    "roc_result37 <- tvROC(jmFitcox3.12, newdata = df_drug_longn15, Tstart = 3, Thoriz = 7)\n",
    "roc_result47 <- tvROC(jmFitcox3.12, newdata = df_drug_longn15, Tstart = 4, Thoriz = 7)\n",
    "\n",
    "print(tvAUC(roc_result15))\n",
    "print(tvAUC(roc_result25))\n",
    "print(tvAUC(roc_result35))\n",
    "print(tvAUC(roc_result45))\n",
    "print(tvAUC(roc_result16))\n",
    "print(tvAUC(roc_result26))\n",
    "print(tvAUC(roc_result36))\n",
    "print(tvAUC(roc_result46))\n",
    "print(tvAUC(roc_result17))\n",
    "print(tvAUC(roc_result27))\n",
    "print(tvAUC(roc_result37))\n",
    "print(tvAUC(roc_result47))"
   ]
  },
  {
   "cell_type": "code",
   "execution_count": null,
   "metadata": {
    "vscode": {
     "languageId": "r"
    }
   },
   "outputs": [],
   "source": [
    "# 5-7 year AUC  (EFV+TDF+3TC group)\n",
    "roc_result15 <- tvROC(jmFitcox3.12, newdata = df_drug_long15, Tstart = 1, Thoriz = 5)\n",
    "roc_result25 <- tvROC(jmFitcox3.12, newdata = df_drug_long15, Tstart = 2, Thoriz = 5)\n",
    "roc_result35 <- tvROC(jmFitcox3.12, newdata = df_drug_long15, Tstart = 3, Thoriz = 5)\n",
    "roc_result45 <- tvROC(jmFitcox3.12, newdata = df_drug_long15, Tstart = 4, Thoriz = 5)\n",
    "\n",
    "roc_result16 <- tvROC(jmFitcox3.12, newdata = df_drug_long15, Tstart = 1, Thoriz = 6)\n",
    "roc_result26 <- tvROC(jmFitcox3.12, newdata = df_drug_long15, Tstart = 2, Thoriz = 6)\n",
    "roc_result36 <- tvROC(jmFitcox3.12, newdata = df_drug_long15, Tstart = 3, Thoriz = 6)\n",
    "roc_result46 <- tvROC(jmFitcox3.12, newdata = df_drug_long15, Tstart = 4, Thoriz = 6)\n",
    "\n",
    "roc_result17 <- tvROC(jmFitcox3.12, newdata = df_drug_long15, Tstart = 1, Thoriz = 7)\n",
    "roc_result27 <- tvROC(jmFitcox3.12, newdata = df_drug_long15, Tstart = 2, Thoriz = 7)\n",
    "roc_result37 <- tvROC(jmFitcox3.12, newdata = df_drug_long15, Tstart = 3, Thoriz = 7)\n",
    "roc_result47 <- tvROC(jmFitcox3.12, newdata = df_drug_long15, Tstart = 4, Thoriz = 7)\n",
    "\n",
    "print(tvAUC(roc_result15))\n",
    "print(tvAUC(roc_result25))\n",
    "print(tvAUC(roc_result35))\n",
    "print(tvAUC(roc_result45))\n",
    "print(tvAUC(roc_result16))\n",
    "print(tvAUC(roc_result26))\n",
    "print(tvAUC(roc_result36))\n",
    "print(tvAUC(roc_result46))\n",
    "print(tvAUC(roc_result17))\n",
    "print(tvAUC(roc_result27))\n",
    "print(tvAUC(roc_result37))\n",
    "print(tvAUC(roc_result47))"
   ]
  },
  {
   "cell_type": "code",
   "execution_count": null,
   "metadata": {
    "vscode": {
     "languageId": "r"
    }
   },
   "outputs": [],
   "source": [
    "# youan cohort\n",
    "# Data Preparation\n",
    "df_drug_youan <- read.csv(\"C:/path/df_drug_youan.csv\")\n",
    "youan_final_surv <- read.csv(\"C:/path/youan_final_surv.csv\")\n",
    "df_drug_longn15 <- subset(df_drug_youan, F34 != 15)\n",
    "df_drug_long15 <- subset(df_drug_youan, F34 == 15)\n",
    "df_drug_longn15 <- na.omit(df_drug_longn15)\n",
    "df_drug_long15 <- na.omit(df_drug_long15)\n",
    "df_drug_survn15 <- dplyr::filter(youan_final_surv, NID %in% df_drug_longn15$NID)\n",
    "df_drug_longn15 <- dplyr::filter(df_drug_longn15, NID %in% df_drug_survn15$NID)\n",
    "df_drug_surv15 <- dplyr::filter(youan_final_surv, NID %in% df_drug_long15$NID)\n",
    "df_drug_long15 <- dplyr::filter(df_drug_long15, NID %in% df_drug_surv15$NID)\n",
    "\n",
    "df_drug_survn15 <- df_drug_survn15[order(df_drug_survn15$NID), ]\n",
    "df_drug_surv15 <- df_drug_surv15[order(df_drug_surv15$NID), ]\n",
    "df_drug_longn15 <- df_drug_longn15[order(df_drug_longn15$NID, df_drug_longn15$follow.up.years), ]\n",
    "df_drug_long15 <- df_drug_long15[order(df_drug_long15$NID, df_drug_long15$follow.up.years), ]"
   ]
  },
  {
   "cell_type": "code",
   "execution_count": null,
   "metadata": {
    "vscode": {
     "languageId": "r"
    }
   },
   "outputs": [],
   "source": [
    "# Joint Model Fitting (non-EFV+TDF+3TC drug group)\n",
    "CoxFit3 <- coxph(Surv(time1.new, IIR_3revi) ~ B9+B19_group+AGE_10, data = df_drug_survn15)\n",
    "lmeFit1 <- lme(F2 ~ ns(follow.up.years, 2, B = c(0, 6.7))+B9+B8+B12_group+B18_group+B10_group+AGE_10+B16_group, \n",
    "                 data = df_drug_longn15, random = ~ ns(follow.up.years, 2, B = c(0, 6.7)) | NID,\n",
    "                 control = lmeControl(opt = \"optim\"))\n",
    "lmeFit2 <- lme(CD4CD8 ~ ns(follow.up.years, 2, B = c(0, 6.4))+B2+AGE_10+B25+B12_group+B16_group+B9+B8+B10_group, \n",
    "                 data = df_drug_longn15, random = ~ ns(follow.up.years, 2, B = c(0, 6.4)) | NID,\n",
    "                 control = lmeControl(opt = \"optim\"))\n",
    "jmFitcox3.12 <- jm(CoxFit3, list(lmeFit1, lmeFit2), time_var = \"follow.up.years\")"
   ]
  },
  {
   "cell_type": "code",
   "execution_count": null,
   "metadata": {
    "vscode": {
     "languageId": "r"
    }
   },
   "outputs": [],
   "source": [
    "# Joint Model Fitting (EFV+TDF+3TC drug group)\n",
    "CoxFit3 <- coxph(Surv(time1.new, IIR_3revi) ~ B9+B19_group+AGE_10, data = df_drug_surv15)\n",
    "lmeFit1 <- lme(F2 ~ ns(follow.up.years, 2, B = c(0, 6.7))+B9+B8+B12_group+B18_group+B10_group+AGE_10+B16_group, \n",
    "                 data = df_drug_long15, random = ~ ns(follow.up.years, 2, B = c(0, 6.7)) | NID,\n",
    "                 control = lmeControl(opt = \"optim\"))\n",
    "lmeFit2 <- lme(CD4CD8 ~ ns(follow.up.years, 2, B = c(0, 6.4))+B2+AGE_10+B25+B12_group+B16_group+B9+B8+B10_group, \n",
    "                 data = df_drug_long15, random = ~ ns(follow.up.years, 2, B = c(0, 6.4)) | NID,\n",
    "                 control = lmeControl(opt = \"optim\"))\n",
    "jmFitcox3.12 <- jm(CoxFit3, list(lmeFit1, lmeFit2), time_var = \"follow.up.years\")"
   ]
  },
  {
   "cell_type": "code",
   "execution_count": null,
   "metadata": {
    "vscode": {
     "languageId": "r"
    }
   },
   "outputs": [],
   "source": [
    "# 5-7 year AUC  (non-EFV+TDF+3TC group)\n",
    "roc_result15 <- tvROC(jmFitcox3.12, newdata = df_drug_longn15, Tstart = 1, Thoriz = 5)\n",
    "roc_result25 <- tvROC(jmFitcox3.12, newdata = df_drug_longn15, Tstart = 2, Thoriz = 5)\n",
    "roc_result35 <- tvROC(jmFitcox3.12, newdata = df_drug_longn15, Tstart = 3, Thoriz = 5)\n",
    "roc_result45 <- tvROC(jmFitcox3.12, newdata = df_drug_longn15, Tstart = 4, Thoriz = 5)\n",
    "\n",
    "roc_result16 <- tvROC(jmFitcox3.12, newdata = df_drug_longn15, Tstart = 1, Thoriz = 6)\n",
    "roc_result26 <- tvROC(jmFitcox3.12, newdata = df_drug_longn15, Tstart = 2, Thoriz = 6)\n",
    "roc_result36 <- tvROC(jmFitcox3.12, newdata = df_drug_longn15, Tstart = 3, Thoriz = 6)\n",
    "roc_result46 <- tvROC(jmFitcox3.12, newdata = df_drug_longn15, Tstart = 4, Thoriz = 6)\n",
    "\n",
    "roc_result17 <- tvROC(jmFitcox3.12, newdata = df_drug_longn15, Tstart = 1, Thoriz = 7)\n",
    "roc_result27 <- tvROC(jmFitcox3.12, newdata = df_drug_longn15, Tstart = 2, Thoriz = 7)\n",
    "roc_result37 <- tvROC(jmFitcox3.12, newdata = df_drug_longn15, Tstart = 3, Thoriz = 7)\n",
    "roc_result47 <- tvROC(jmFitcox3.12, newdata = df_drug_longn15, Tstart = 4, Thoriz = 7)\n",
    "\n",
    "print(tvAUC(roc_result15))\n",
    "print(tvAUC(roc_result25))\n",
    "print(tvAUC(roc_result35))\n",
    "print(tvAUC(roc_result45))\n",
    "print(tvAUC(roc_result16))\n",
    "print(tvAUC(roc_result26))\n",
    "print(tvAUC(roc_result36))\n",
    "print(tvAUC(roc_result46))\n",
    "print(tvAUC(roc_result17))\n",
    "print(tvAUC(roc_result27))\n",
    "print(tvAUC(roc_result37))\n",
    "print(tvAUC(roc_result47))"
   ]
  },
  {
   "cell_type": "code",
   "execution_count": null,
   "metadata": {
    "vscode": {
     "languageId": "r"
    }
   },
   "outputs": [],
   "source": [
    "# 5-7 year AUC  (EFV+TDF+3TC group)\n",
    "roc_result15 <- tvROC(jmFitcox3.12, newdata = df_drug_long15, Tstart = 1, Thoriz = 5)\n",
    "roc_result25 <- tvROC(jmFitcox3.12, newdata = df_drug_long15, Tstart = 2, Thoriz = 5)\n",
    "roc_result35 <- tvROC(jmFitcox3.12, newdata = df_drug_long15, Tstart = 3, Thoriz = 5)\n",
    "roc_result45 <- tvROC(jmFitcox3.12, newdata = df_drug_long15, Tstart = 4, Thoriz = 5)\n",
    "\n",
    "roc_result16 <- tvROC(jmFitcox3.12, newdata = df_drug_long15, Tstart = 1, Thoriz = 6)\n",
    "roc_result26 <- tvROC(jmFitcox3.12, newdata = df_drug_long15, Tstart = 2, Thoriz = 6)\n",
    "roc_result36 <- tvROC(jmFitcox3.12, newdata = df_drug_long15, Tstart = 3, Thoriz = 6)\n",
    "roc_result46 <- tvROC(jmFitcox3.12, newdata = df_drug_long15, Tstart = 4, Thoriz = 6)\n",
    "\n",
    "roc_result17 <- tvROC(jmFitcox3.12, newdata = df_drug_long15, Tstart = 1, Thoriz = 7)\n",
    "roc_result27 <- tvROC(jmFitcox3.12, newdata = df_drug_long15, Tstart = 2, Thoriz = 7)\n",
    "roc_result37 <- tvROC(jmFitcox3.12, newdata = df_drug_long15, Tstart = 3, Thoriz = 7)\n",
    "roc_result47 <- tvROC(jmFitcox3.12, newdata = df_drug_long15, Tstart = 4, Thoriz = 7)\n",
    "\n",
    "print(tvAUC(roc_result15))\n",
    "print(tvAUC(roc_result25))\n",
    "print(tvAUC(roc_result35))\n",
    "print(tvAUC(roc_result45))\n",
    "print(tvAUC(roc_result16))\n",
    "print(tvAUC(roc_result26))\n",
    "print(tvAUC(roc_result36))\n",
    "print(tvAUC(roc_result46))\n",
    "print(tvAUC(roc_result17))\n",
    "print(tvAUC(roc_result27))\n",
    "print(tvAUC(roc_result37))\n",
    "print(tvAUC(roc_result47))"
   ]
  },
  {
   "cell_type": "markdown",
   "metadata": {},
   "source": [
    "# code for figure 6"
   ]
  },
  {
   "cell_type": "code",
   "execution_count": null,
   "metadata": {
    "vscode": {
     "languageId": "r"
    }
   },
   "outputs": [],
   "source": [
    "load(\"data9.Rdata\")"
   ]
  },
  {
   "cell_type": "code",
   "execution_count": null,
   "metadata": {
    "vscode": {
     "languageId": "r"
    }
   },
   "outputs": [],
   "source": [
    "# data preparation\n",
    "breaks <- c(-Inf, 30, 60, 90, Inf)\n",
    "df_final_long$B16_group <- cut(df_final_long$B16, breaks = breaks, labels = FALSE, include.lowest = TRUE)\n",
    "df_final_long$B16_group <- addNA(df_final_long$B16_group)\n",
    "df_final_long$B16_group <- as.integer(df_final_long$B16_group)\n",
    "\n",
    "df_final_long <- df_final_long %>% \n",
    "   select(-B16)\n",
    "\n",
    "df_final_surv$IIR_3revi <- as.numeric(df_final_surv$IIR_3revi)\n",
    "df_final_surv$time1 <- as.numeric(df_final_surv$time1)\n",
    "df_final_surv$B19_group <- as.factor(df_final_surv$B19_group)\n",
    "df_final_long$B12_group <- as.factor(df_final_long$B12_group)\n",
    "df_final_long$B18_group <- as.factor(df_final_long$B18_group)\n",
    "df_final_long$B10_group <- as.factor(df_final_long$B10_group)\n",
    "df_final_long$B16_group <- as.factor(df_final_long$B16_group)"
   ]
  },
  {
   "cell_type": "code",
   "execution_count": null,
   "metadata": {
    "vscode": {
     "languageId": "r"
    }
   },
   "outputs": [],
   "source": [
    "# Joint Model Fitting (based on xixi data)\n",
    "CoxFit3 <- coxph(Surv(time1, IIR_3revi) ~ B9+B19_group+AGE_10, data = df_final_surv)\n",
    "lmeFit1 <- lme(F2 ~ ns(follow.up.years, 2, B = c(0, 6.7))+B9+B8+B12_group+B18_group+B10_group+AGE_10+B16_group, \n",
    "                data = df_final_long, random = ~ ns(follow.up.years, 2, B = c(0, 6.7)) | NID,\n",
    "                control = lmeControl(opt = \"optim\"))\n",
    "lmeFit2 <- lme(CD4CD8 ~ ns(follow.up.years, 2, B = c(0, 6.4))+B2+AGE_10+B25+B12_group+B16_group+B9+B8+B10_group, \n",
    "                data = df_final_long, random = ~ ns(follow.up.years, 2, B = c(0, 6.4)) | NID,\n",
    "                control = lmeControl(opt = \"optim\"))\n",
    "jmFitcox3.12 <- jm(CoxFit3, list(lmeFit1, lmeFit2), time_var = \"follow.up.years\")\n",
    "summary(jmFitcox3.12)"
   ]
  },
  {
   "cell_type": "code",
   "execution_count": null,
   "metadata": {
    "vscode": {
     "languageId": "r"
    }
   },
   "outputs": [],
   "source": [
    "# Extract Posterior Sample Moments (Final Joint Model)\n",
    "posterior_means <- c(\n",
    "  B9 = -0.0008,\n",
    "  B19_group2 = -0.0328,\n",
    "  B19_group3 = -0.1259,\n",
    "  B19_group4 = 0.2300,\n",
    "  B19_group5 = -0.0535,\n",
    "  AGE_10 = -0.0657,\n",
    "  value_F2 = -0.0135,\n",
    "  value_CD4CD8 = 0.4436\n",
    ")\n",
    "\n",
    "posterior_stds <- c(\n",
    "  B9 = 0.0006,\n",
    "  B19_group2 = 0.1255,\n",
    "  B19_group3 = 0.2087,\n",
    "  B19_group4 = 0.3708,\n",
    "  B19_group5 = 0.2826,\n",
    "  AGE_10 = 0.0373,\n",
    "  value_F2 = 0.0007,\n",
    "  value_CD4CD8 = 0.1527\n",
    ")\n",
    "\n",
    "# Standardized Coefficient Calculation\n",
    "standardized_coefficients <- posterior_means / posterior_stds\n",
    "\n",
    "standardized_coefficients_df <- data.frame(\n",
    "  Variable = names(standardized_coefficients),\n",
    "  Standardized_Coefficient = standardized_coefficients\n",
    ")\n",
    "\n",
    "# Display the standardized coefficients\n",
    "standardized_coefficients_df"
   ]
  },
  {
   "cell_type": "code",
   "execution_count": null,
   "metadata": {
    "vscode": {
     "languageId": "r"
    }
   },
   "outputs": [],
   "source": [
    "# Extract Posterior Sample Moments (CD4 Trajectory Fitting Model)\n",
    "posterior_means <- c(\n",
    "  Intercept = 247.8694,\n",
    "  n_2_B_0_6_7_1 = 326.8433,\n",
    "  n_2_B_0_6_7_2 = 124.3215,\n",
    "  B9 = 0.8212,\n",
    "  B82 = -38.9098,\n",
    "  B12_group2 = 8.8016,\n",
    "  B12_group3 = 4.2106,\n",
    "  B12_group4 = 31.1392,\n",
    "  B12_group5 = -1.7701,\n",
    "  B18_group2 = 22.1619,\n",
    "  B18_group3 = 15.7406,\n",
    "  B18_group4 = 38.9550,\n",
    "  B10_group2 = 11.8426,\n",
    "  B10_group3 = 9.8343,\n",
    "  B10_group4 = -20.0427,\n",
    "  AGE_10 = -9.0825,\n",
    "  B16_group2 = -56.5071,\n",
    "  B16_group3 = -65.9217,\n",
    "  sigma = 105.1390\n",
    ")\n",
    "posterior_stds <- c(\n",
    "  Intercept = 20.2085,\n",
    "  n_2_B_0_6_7_1 = 5.2841,\n",
    "  n_2_B_0_6_7_2 = 2.5863,\n",
    "  B9 = 0.0141,\n",
    "  B82 = 5.5190,\n",
    "  B12_group2 = 7.5803,\n",
    "  B12_group3 = 7.0999,\n",
    "  B12_group4 = 7.0200,\n",
    "  B12_group5 = 6.7995,\n",
    "  B18_group2 = 5.4264,\n",
    "  B18_group3 = 5.6499,\n",
    "  B18_group4 = 15.3728,\n",
    "  B10_group2 = 6.2980,\n",
    "  B10_group3 = 7.8467,\n",
    "  B10_group4 = 8.3420,\n",
    "  AGE_10 = 1.6995,\n",
    "  B16_group2 = 22.4738,\n",
    "  B16_group3 = 19.5666,\n",
    "  sigma = 0.2988\n",
    ")\n",
    "# Standardized Coefficient Calculation\n",
    "standardized_coefficients <- posterior_means / posterior_stds\n",
    "standardized_coefficients_df <- data.frame(\n",
    "  Variable = names(standardized_coefficients),\n",
    "  Standardized_Coefficient = standardized_coefficients\n",
    ")\n",
    "# Display the standardized coefficients\n",
    "standardized_coefficients_df"
   ]
  },
  {
   "cell_type": "code",
   "execution_count": null,
   "metadata": {
    "vscode": {
     "languageId": "r"
    }
   },
   "outputs": [],
   "source": [
    "# Extract Posterior Sample Moments (CD4/CD8 Trajectory Fitting Model)\n",
    "posterior_means <- c(\n",
    "  Intercept = 0.0961,\n",
    "  n_2_B_0_6_4_1 = 0.6427,\n",
    "  n_2_B_0_6_4_2 = 0.2598,\n",
    "  B22 = 0.0854,\n",
    "  AGE_10 = 0.0139,\n",
    "  B252 = 0.0545,\n",
    "  B253 = 0.0526,\n",
    "  B12_group2 = -0.0120,\n",
    "  B12_group3 = 0.0239,\n",
    "  B12_group4 = 0.0572,\n",
    "  B12_group5 = -0.0058,\n",
    "  B16_group2 = 0.1707,\n",
    "  B16_group3 = 0.1572,\n",
    "  B9 = 0.0010,\n",
    "  B82 = -0.1011,\n",
    "  B10_group2 = -0.1815,\n",
    "  B10_group3 = -0.4025,\n",
    "  B10_group4 = -0.2456,\n",
    "  sigma = 0.1550\n",
    ")\n",
    "posterior_stds <- c(\n",
    "  Intercept = 0.2147,\n",
    "  n_2_B_0_6_4_1 = 0.0083,\n",
    "  n_2_B_0_6_4_2 = 0.0042,\n",
    "  B22 = 0.0160,\n",
    "  AGE_10 = 0.0035,\n",
    "  B252 = 0.0366,\n",
    "  B253 = 0.0382,\n",
    "  B12_group2 = 0.0164,\n",
    "  B12_group3 = 0.0155,\n",
    "  B12_group4 = 0.0153,\n",
    "  B12_group5 = 0.0151,\n",
    "  B16_group2 = 0.2129,\n",
    "  B16_group3 = 0.2092,\n",
    "  B9 = 0.0000,\n",
    "  B82 = 0.0112,\n",
    "  B10_group2 = 0.0131,\n",
    "  B10_group3 = 0.0166,\n",
    "  B10_group4 = 0.0176,\n",
    "  sigma = 0.0004\n",
    ")\n",
    "# Standardized Coefficient Calculation\n",
    "standardized_coefficients <- posterior_means / posterior_stds\n",
    "standardized_coefficients_df <- data.frame(\n",
    "  Variable = names(standardized_coefficients),\n",
    "  Standardized_Coefficient = standardized_coefficients\n",
    ")\n",
    "# Display the standardized coefficients\n",
    "standardized_coefficients_df"
   ]
  },
  {
   "cell_type": "code",
   "execution_count": null,
   "metadata": {
    "vscode": {
     "languageId": "r"
    }
   },
   "outputs": [],
   "source": [
    "# figure 6D-6G\n",
    "# example ID: NID1012971238371722386 from xixi cohort\n",
    "\n",
    "# 1 year trajectory\n",
    "t0 <- 1\n",
    "ND <- df_final_long[df_final_long$NID %in% c(\"NID1012971238371722386\"), ]\n",
    "ND <- ND[ND$follow.up.years < t0, ]\n",
    "ND$IIR_3revi <- 0\n",
    "ND$time1 <- t0\n",
    "\n",
    "# predictions\n",
    "predLong1 <- predict(jmFitcox3.12, newdata = ND, return_newdata = TRUE)\n",
    "predLong2 <- predict(jmFitcox3.12, newdata = ND,\n",
    "                     times = seq(t0, 8.48, length.out = 51),\n",
    "                     return_newdata = TRUE)\n",
    "predSurv <- predict(jmFitcox3.12, newdata = ND, process = \"event\",\n",
    "                    times = seq(t0, 8.48, length.out = 51),\n",
    "                    return_newdata = TRUE)\n",
    "# plotting\n",
    "cols <- c('#1f1090', '#080005')\n",
    "p <- plot(predLong2, predSurv, outcomes = 1:2, subject = \"NID1012971238371722386\",\n",
    "     fun_long = list(identity, identity),\n",
    "     fun_event = function (x) 1 - x,\n",
    "     ylab_event = \"Survival Probabilities\",\n",
    "     ylab_long = c(\"CD4\", \"CD4/CD8\"),\n",
    "     bg = '#fdfdfe', col_points = cols, col_line_long = cols,\n",
    "     col_line_event = '#f80404', col_axis = \"#080808\", \n",
    "     fill_CI_long = NULL,\n",
    "     fill_CI_event = NULL, \n",
    "     pos_ylab_long = c(1000, 2.5))\n",
    "\n",
    "print(p)"
   ]
  },
  {
   "cell_type": "code",
   "execution_count": 7,
   "metadata": {
    "vscode": {
     "languageId": "r"
    }
   },
   "outputs": [
    {
     "name": "stderr",
     "output_type": "stream",
     "text": [
      "Warning message in rep(fill_CI_long, length.out = n_outcomes):\n",
      "\"'x' is NULL so the result will be NULL\"\n",
      "Warning message in rep(fill_CI_event, length.out = length(unq_strata)):\n",
      "\"'x' is NULL so the result will be NULL\"\n"
     ]
    },
    {
     "name": "stdout",
     "output_type": "stream",
     "text": [
      "NULL\n"
     ]
    },
    {
     "data": {
      "image/png": "[encoded data removed]",
      "text/plain": [
       "plot without title"
      ]
     },
     "metadata": {
      "image/png": {
       "height": 420,
       "width": 420
      }
     },
     "output_type": "display_data"
    }
   ],
   "source": [
    "# example ID: NID1012971238371722386 from xixi cohort\n",
    "\n",
    "# 2 year trajectory\n",
    "t0 <- 2\n",
    "ND <- df_final_long[df_final_long$NID %in% c(\"NID1012971238371722386\"), ]\n",
    "ND <- ND[ND$follow.up.years < t0, ]\n",
    "ND$IIR_3revi <- 0\n",
    "ND$time1 <- t0\n",
    "\n",
    "# predictions\n",
    "predLong1 <- predict(jmFitcox3.12, newdata = ND, return_newdata = TRUE)\n",
    "predLong2 <- predict(jmFitcox3.12, newdata = ND,\n",
    "                     times = seq(t0, 8.48, length.out = 51),\n",
    "                     return_newdata = TRUE)\n",
    "predSurv <- predict(jmFitcox3.12, newdata = ND, process = \"event\",\n",
    "                    times = seq(t0, 8.48, length.out = 51),\n",
    "                    return_newdata = TRUE)\n",
    "# plotting\n",
    "cols <- c('#1f1090', '#080005')\n",
    "p <- plot(predLong2, predSurv, outcomes = 1:2, subject = \"NID1012971238371722386\",\n",
    "     fun_long = list(identity, identity),\n",
    "     fun_event = function (x) 1 - x,\n",
    "     ylab_event = \"Survival Probabilities\",\n",
    "     ylab_long = c(\"CD4\", \"CD4/CD8\"),\n",
    "     bg = '#fdfdfe', col_points = cols, col_line_long = cols,\n",
    "     col_line_event = '#f80404', col_axis = \"#080808\", \n",
    "     fill_CI_long = NULL,\n",
    "     fill_CI_event = NULL, \n",
    "     pos_ylab_long = c(1000, 2.5))\n",
    "\n",
    "print(p)"
   ]
  },
  {
   "cell_type": "code",
   "execution_count": 8,
   "metadata": {
    "vscode": {
     "languageId": "r"
    }
   },
   "outputs": [
    {
     "name": "stderr",
     "output_type": "stream",
     "text": [
      "Warning message in rep(fill_CI_long, length.out = n_outcomes):\n",
      "\"'x' is NULL so the result will be NULL\"\n",
      "Warning message in rep(fill_CI_event, length.out = length(unq_strata)):\n",
      "\"'x' is NULL so the result will be NULL\"\n"
     ]
    },
    {
     "name": "stdout",
     "output_type": "stream",
     "text": [
      "NULL\n"
     ]
    },
    {
     "data": {
      "image/png": "[encoded data removed]",
      "text/plain": [
       "plot without title"
      ]
     },
     "metadata": {
      "image/png": {
       "height": 420,
       "width": 420
      }
     },
     "output_type": "display_data"
    }
   ],
   "source": [
    "# example ID: NID1012971238371722386 from xixi cohort\n",
    "\n",
    "# 3 year trajectory\n",
    "t0 <- 3\n",
    "ND <- df_final_long[df_final_long$NID %in% c(\"NID1012971238371722386\"), ]\n",
    "ND <- ND[ND$follow.up.years < t0, ]\n",
    "ND$IIR_3revi <- 0\n",
    "ND$time1 <- t0\n",
    "\n",
    "# predictions\n",
    "predLong1 <- predict(jmFitcox3.12, newdata = ND, return_newdata = TRUE)\n",
    "predLong2 <- predict(jmFitcox3.12, newdata = ND,\n",
    "                     times = seq(t0, 8.48, length.out = 51),\n",
    "                     return_newdata = TRUE)\n",
    "predSurv <- predict(jmFitcox3.12, newdata = ND, process = \"event\",\n",
    "                    times = seq(t0, 8.48, length.out = 51),\n",
    "                    return_newdata = TRUE)\n",
    "# plotting\n",
    "cols <- c('#1f1090', '#080005')\n",
    "p <- plot(predLong2, predSurv, outcomes = 1:2, subject = \"NID1012971238371722386\",\n",
    "     fun_long = list(identity, identity),\n",
    "     fun_event = function (x) 1 - x,\n",
    "     ylab_event = \"Survival Probabilities\",\n",
    "     ylab_long = c(\"CD4\", \"CD4/CD8\"),\n",
    "     bg = '#fdfdfe', col_points = cols, col_line_long = cols,\n",
    "     col_line_event = '#f80404', col_axis = \"#080808\", \n",
    "     fill_CI_long = NULL,\n",
    "     fill_CI_event = NULL, \n",
    "     pos_ylab_long = c(1000, 2.5))\n",
    "\n",
    "print(p)"
   ]
  },
  {
   "cell_type": "code",
   "execution_count": 9,
   "metadata": {
    "vscode": {
     "languageId": "r"
    }
   },
   "outputs": [
    {
     "name": "stderr",
     "output_type": "stream",
     "text": [
      "Warning message in rep(fill_CI_long, length.out = n_outcomes):\n",
      "\"'x' is NULL so the result will be NULL\"\n",
      "Warning message in rep(fill_CI_event, length.out = length(unq_strata)):\n",
      "\"'x' is NULL so the result will be NULL\"\n"
     ]
    },
    {
     "name": "stdout",
     "output_type": "stream",
     "text": [
      "NULL\n"
     ]
    },
    {
     "data": {
      "image/png": "[encoded data removed]",
      "text/plain": [
       "plot without title"
      ]
     },
     "metadata": {
      "image/png": {
       "height": 420,
       "width": 420
      }
     },
     "output_type": "display_data"
    }
   ],
   "source": [
    "# example ID: NID1012971238371722386 from xixi cohort\n",
    "\n",
    "# 4 year trajectory\n",
    "t0 <- 4\n",
    "ND <- df_final_long[df_final_long$NID %in% c(\"NID1012971238371722386\"), ]\n",
    "ND <- ND[ND$follow.up.years < t0, ]\n",
    "ND$IIR_3revi <- 0\n",
    "ND$time1 <- t0\n",
    "\n",
    "# predictions\n",
    "predLong1 <- predict(jmFitcox3.12, newdata = ND, return_newdata = TRUE)\n",
    "predLong2 <- predict(jmFitcox3.12, newdata = ND,\n",
    "                     times = seq(t0, 8.48, length.out = 51),\n",
    "                     return_newdata = TRUE)\n",
    "predSurv <- predict(jmFitcox3.12, newdata = ND, process = \"event\",\n",
    "                    times = seq(t0, 8.48, length.out = 51),\n",
    "                    return_newdata = TRUE)\n",
    "# plotting\n",
    "cols <- c('#1f1090', '#080005')\n",
    "p <- plot(predLong2, predSurv, outcomes = 1:2, subject = \"NID1012971238371722386\",\n",
    "     fun_long = list(identity, identity),\n",
    "     fun_event = function (x) 1 - x,\n",
    "     ylab_event = \"Survival Probabilities\",\n",
    "     ylab_long = c(\"CD4\", \"CD4/CD8\"),\n",
    "     bg = '#fdfdfe', col_points = cols, col_line_long = cols,\n",
    "     col_line_event = '#f80404', col_axis = \"#080808\", \n",
    "     fill_CI_long = NULL,\n",
    "     fill_CI_event = NULL, \n",
    "     pos_ylab_long = c(1000, 2.5))\n",
    "\n",
    "print(p)"
   ]
  },
  {
   "cell_type": "markdown",
   "metadata": {},
   "source": [
    "# code for supplementary table 2 and figure 1"
   ]
  },
  {
   "cell_type": "code",
   "execution_count": null,
   "metadata": {
    "vscode": {
     "languageId": "r"
    }
   },
   "outputs": [],
   "source": [
    "# update models(AUROC and calibration curve calculations are similar to the code in Figure 3)\n",
    "# all recorded values\n",
    "jmFitcox3.12.value <- update(jmFitcox3.12, functional_forms = ~ value(F2) + value(CD4CD8))\n",
    "# slopes derived from cumulative observations\n",
    "jmFitcox3.12.slope <- update(jmFitcox3.12, functional_forms = ~ slope(F2) + slope(CD4CD8))\n",
    "# combination of values and slopes\n",
    "jmFitcox3.12.slope1 <- update(jmFitcox3.12, functional_forms = ~ value(F2) + slope(F2) \n",
    "                             + value(CD4CD8) + slope(CD4CD8))\n",
    "# area under the curve (AUC) representing cumulative effects\n",
    "jmFitcox3.12.area1 <- update(jmFitcox3.12, functional_forms = ~ area(F2) + area(CD4CD8))\n",
    "# combination of values and AUC\n",
    "jmFitcox3.12.area <- update(jmFitcox3.12, functional_forms = ~ value(F2) + area(F2) \n",
    "                         + value(CD4CD8) + area(CD4CD8))\n",
    "# cross-sectional values at 4-year follow-up\n",
    "# data preparation\n",
    "df_surv_4 <- read.csv(\"C:/path/df_surv_4.csv\")\n",
    "df_long_4 <- read.csv(\"C:/path/df_long_4.csv\")\n",
    "\n",
    "df_surv_4$IIR_3revi <- as.numeric(df_surv_4$IIR_3revi)\n",
    "df_surv_4$time1 <- as.numeric(df_surv_4$time1)\n",
    "# model fitting\n",
    "CoxFit3 <- coxph(Surv(time1, IIR_3revi) ~ B9+B19_group+BMI_group+AGE_10, data = df_surv_4)\n",
    "lmeFit1 <- lme(F2 ~ ns(follow.up.years, 2, B = c(0, 6.7))+B9+B8+B12_group+BMI_group+B18_group\n",
    "                +B10_group+AGE_10+B16+F2_4+CD4CD8_4, \n",
    "                data = df_long_4, random = ~ ns(follow.up.years, 2, B = c(0, 6.7)) | NID,\n",
    "                control = lmeControl(opt = \"optim\"))\n",
    "lmeFit2 <- lme(CD4CD8 ~ ns(follow.up.years, 2, B = c(0, 6.4))+B2+AGE_10+B25+B12_group+B16+B9\n",
    "                +B8+B10_group+F2_4+CD4CD8_4, \n",
    "                data = df_long_4, random = ~ ns(follow.up.years, 2, B = c(0, 6.4)) | NID,\n",
    "                control = lmeControl(opt = \"optim\"))\n",
    "jmFitcox3.12 <- jm(CoxFit3, list(lmeFit1, lmeFit2), time_var = \"follow.up.years\")\n"
   ]
  },
  {
   "cell_type": "markdown",
   "metadata": {},
   "source": [
    "# code for supplementary table 5"
   ]
  },
  {
   "cell_type": "code",
   "execution_count": null,
   "metadata": {
    "vscode": {
     "languageId": "r"
    }
   },
   "outputs": [],
   "source": [
    "# xixi cohort\n",
    "# Data Preparation\n",
    "df_final_long <- read.csv(\"C:/path/df_final_long_TC.csv\")\n",
    "df_final_surv <- read.csv(\"C:/path/df_final_surv_TC.csv\")\n",
    "df_final_long <- df_final_long[!is.na(df_final_long$B19), ]\n",
    "\n",
    "df_final_surv <- df_final_surv[!is.na(df_final_surv$B19), ]\n",
    "\n",
    "breaks <- c(-Inf, 30, 60, 90, Inf)\n",
    "df_final_long$B16_group <- cut(df_final_long$B16, breaks = breaks, labels = FALSE, include.lowest = TRUE)\n",
    "df_final_long$B16_group <- addNA(df_final_long$B16_group)\n",
    "df_final_long$B16_group <- as.integer(df_final_long$B16_group)\n",
    "\n",
    "df_final_surv$IIR_3revi <- as.numeric(df_final_surv$IIR_3revi)\n",
    "df_final_surv$time1 <- as.numeric(df_final_surv$time1)  \n",
    "\n",
    "# Joint Model Fitting (based on xixi data)\n",
    "CoxFit3 <- coxph(Surv(time1, IIR_3revi) ~ B9+B19+AGE_10, data = df_final_surv)\n",
    "\n",
    "lmeFit1 <- lme(F2 ~ ns(follow.up.years, 2, B = c(0, 6.7))+B9+B8+B12_group+B18_group+B10_group+AGE_10+B16_group, \n",
    "                data = df_final_long, random = ~ ns(follow.up.years, 2, B = c(0, 6.7)) | NID,\n",
    "                control = lmeControl(opt = \"optim\"))\n",
    "lmeFit2 <- lme(CD4CD8 ~ ns(follow.up.years, 2, B = c(0, 6.4))+B2+AGE_10+B25+B12_group+B16_group+B9+B8+B10_group, \n",
    "                data = df_final_long, random = ~ ns(follow.up.years, 2, B = c(0, 6.4)) | NID,\n",
    "                control = lmeControl(opt = \"optim\"))\n",
    "jmFitcox3.12 <- jm(CoxFit3, list(lmeFit1, lmeFit2), time_var = \"follow.up.years\")"
   ]
  },
  {
   "cell_type": "code",
   "execution_count": null,
   "metadata": {
    "vscode": {
     "languageId": "r"
    }
   },
   "outputs": [],
   "source": [
    "# tvROC,jmFitcox3.12,Thoriz = 5\n",
    "jmFitcox3.12_roc15 <- tvROC(jmFitcox3.12, newdata = df_final_long, Tstart = 1, Thoriz = 5)\n",
    "jmFitcox3.12_roc25 <- tvROC(jmFitcox3.12, newdata = df_final_long, Tstart = 2, Thoriz = 5)\n",
    "jmFitcox3.12_roc35 <- tvROC(jmFitcox3.12, newdata = df_final_long, Tstart = 3, Thoriz = 5)\n",
    "jmFitcox3.12_roc45 <- tvROC(jmFitcox3.12, newdata = df_final_long, Tstart = 4, Thoriz = 5)\n",
    "\n",
    "print(tvAUC(jmFitcox3.12_roc15))\n",
    "print(tvAUC(jmFitcox3.12_roc25))\n",
    "print(tvAUC(jmFitcox3.12_roc35))\n",
    "print(tvAUC(jmFitcox3.12_roc45))"
   ]
  },
  {
   "cell_type": "code",
   "execution_count": null,
   "metadata": {
    "vscode": {
     "languageId": "r"
    }
   },
   "outputs": [],
   "source": [
    "# tvROC,jmFitcox3.12,Thoriz = 6\n",
    "jmFitcox3.12_roc16 <- tvROC(jmFitcox3.12, newdata = df_final_long, Tstart = 1, Thoriz = 6)\n",
    "jmFitcox3.12_roc26 <- tvROC(jmFitcox3.12, newdata = df_final_long, Tstart = 2, Thoriz = 6)\n",
    "jmFitcox3.12_roc36 <- tvROC(jmFitcox3.12, newdata = df_final_long, Tstart = 3, Thoriz = 6)\n",
    "jmFitcox3.12_roc46 <- tvROC(jmFitcox3.12, newdata = df_final_long, Tstart = 4, Thoriz = 6)\n",
    "\n",
    "print(tvAUC(jmFitcox3.12_roc16))\n",
    "print(tvAUC(jmFitcox3.12_roc26))\n",
    "print(tvAUC(jmFitcox3.12_roc36))\n",
    "print(tvAUC(jmFitcox3.12_roc46))"
   ]
  },
  {
   "cell_type": "code",
   "execution_count": null,
   "metadata": {
    "vscode": {
     "languageId": "r"
    }
   },
   "outputs": [],
   "source": [
    "# tvROC,jmFitcox3.12,Thoriz = 7\n",
    "jmFitcox3.12_roc17 <- tvROC(jmFitcox3.12, newdata = df_final_long, Tstart = 1, Thoriz = 7)\n",
    "jmFitcox3.12_roc27 <- tvROC(jmFitcox3.12, newdata = df_final_long, Tstart = 2, Thoriz = 7)\n",
    "jmFitcox3.12_roc37 <- tvROC(jmFitcox3.12, newdata = df_final_long, Tstart = 3, Thoriz = 7)\n",
    "jmFitcox3.12_roc47 <- tvROC(jmFitcox3.12, newdata = df_final_long, Tstart = 4, Thoriz = 7)\n",
    "\n",
    "print(tvAUC(jmFitcox3.12_roc17))\n",
    "print(tvAUC(jmFitcox3.12_roc27))\n",
    "print(tvAUC(jmFitcox3.12_roc37))\n",
    "print(tvAUC(jmFitcox3.12_roc47))"
   ]
  },
  {
   "cell_type": "code",
   "execution_count": null,
   "metadata": {
    "vscode": {
     "languageId": "r"
    }
   },
   "outputs": [],
   "source": [
    "# ditan cohort\n",
    "# Data Preparation\n",
    "df_final_long <- read.csv(\"C:/path/ditan_final_long_TC.csv\")\n",
    "df_final_surv <- read.csv(\"C:/path/ditan_final_surv_TC.csv\")\n",
    "\n",
    "df_final_surv$IIR_3revi <- as.numeric(df_final_surv$IIR_3revi)\n",
    "df_final_surv$time1.new <- as.numeric(df_final_surv$time1.new) \n",
    "\n",
    "# Joint Model Fitting (based on ditan data)\n",
    "CoxFit3 <- coxph(Surv(time1.new, IIR_3revi) ~ B9+B19+AGE_10, data = df_final_surv)\n",
    "\n",
    "lmeFit1 <- lme(F2 ~ ns(follow.up.years, 2, B = c(0, 6.7))+B9+B8+B12_group+B18_group+B10_group+AGE_10+B16_group, \n",
    "                data = df_final_long, random = ~ ns(follow.up.years, 2, B = c(0, 6.7)) | NID,\n",
    "                control = lmeControl(opt = \"optim\"))\n",
    "lmeFit2 <- lme(CD4CD8 ~ ns(follow.up.years, 2, B = c(0, 6.4))+B2+AGE_10+B25+B12_group+B16_group+B9+B8+B10_group, \n",
    "                data = df_final_long, random = ~ ns(follow.up.years, 2, B = c(0, 6.4)) | NID,\n",
    "                control = lmeControl(opt = \"optim\"))\n",
    "jmFitcox3.12_ditan <- jm(CoxFit3, list(lmeFit1, lmeFit2), time_var = \"follow.up.years\")\n"
   ]
  },
  {
   "cell_type": "code",
   "execution_count": null,
   "metadata": {
    "vscode": {
     "languageId": "r"
    }
   },
   "outputs": [],
   "source": [
    "# tvROC,jmFitcox3.12,Thoriz = 5\n",
    "jmFitcox3.12_ditan_roc15 <- tvROC(jmFitcox3.12_ditan, newdata = df_final_long, Tstart = 1, Thoriz = 5)\n",
    "jmFitcox3.12_ditan_roc25 <- tvROC(jmFitcox3.12_ditan, newdata = df_final_long, Tstart = 2, Thoriz = 5)\n",
    "jmFitcox3.12_ditan_roc35 <- tvROC(jmFitcox3.12_ditan, newdata = df_final_long, Tstart = 3, Thoriz = 5)\n",
    "jmFitcox3.12_ditan_roc45 <- tvROC(jmFitcox3.12_ditan, newdata = df_final_long, Tstart = 4, Thoriz = 5)\n",
    "\n",
    "print(tvAUC(jmFitcox3.12_ditan_roc15))\n",
    "print(tvAUC(jmFitcox3.12_ditan_roc25))\n",
    "print(tvAUC(jmFitcox3.12_ditan_roc35))\n",
    "print(tvAUC(jmFitcox3.12_ditan_roc45))"
   ]
  },
  {
   "cell_type": "code",
   "execution_count": null,
   "metadata": {
    "vscode": {
     "languageId": "r"
    }
   },
   "outputs": [],
   "source": [
    "# tvROC,jmFitcox3.12,Thoriz = 6\n",
    "jmFitcox3.12_ditan_roc16 <- tvROC(jmFitcox3.12_ditan, newdata = df_final_long, Tstart = 1, Thoriz = 6)\n",
    "jmFitcox3.12_ditan_roc26 <- tvROC(jmFitcox3.12_ditan, newdata = df_final_long, Tstart = 2, Thoriz = 6)\n",
    "jmFitcox3.12_ditan_roc36 <- tvROC(jmFitcox3.12_ditan, newdata = df_final_long, Tstart = 3, Thoriz = 6)\n",
    "jmFitcox3.12_ditan_roc46 <- tvROC(jmFitcox3.12_ditan, newdata = df_final_long, Tstart = 4, Thoriz = 6)\n",
    "\n",
    "print(tvAUC(jmFitcox3.12_ditan_roc16))\n",
    "print(tvAUC(jmFitcox3.12_ditan_roc26))\n",
    "print(tvAUC(jmFitcox3.12_ditan_roc36))\n",
    "print(tvAUC(jmFitcox3.12_ditan_roc46))"
   ]
  },
  {
   "cell_type": "code",
   "execution_count": null,
   "metadata": {
    "vscode": {
     "languageId": "r"
    }
   },
   "outputs": [],
   "source": [
    "# tvROC,jmFitcox3.12,Thoriz = 7\n",
    "jmFitcox3.12_ditan_roc17 <- tvROC(jmFitcox3.12_ditan, newdata = df_final_long, Tstart = 1, Thoriz = 7)\n",
    "jmFitcox3.12_ditan_roc27 <- tvROC(jmFitcox3.12_ditan, newdata = df_final_long, Tstart = 2, Thoriz = 7)\n",
    "jmFitcox3.12_ditan_roc37 <- tvROC(jmFitcox3.12_ditan, newdata = df_final_long, Tstart = 3, Thoriz = 7)\n",
    "jmFitcox3.12_ditan_roc47 <- tvROC(jmFitcox3.12_ditan, newdata = df_final_long, Tstart = 4, Thoriz = 7)\n",
    "\n",
    "print(tvAUC(jmFitcox3.12_ditan_roc17))\n",
    "print(tvAUC(jmFitcox3.12_ditan_roc27))\n",
    "print(tvAUC(jmFitcox3.12_ditan_roc37))\n",
    "print(tvAUC(jmFitcox3.12_ditan_roc47))"
   ]
  },
  {
   "cell_type": "code",
   "execution_count": null,
   "metadata": {
    "vscode": {
     "languageId": "r"
    }
   },
   "outputs": [],
   "source": [
    "# youan cohort\n",
    "# Data Preparation\n",
    "df_final_long <- read.csv(\"C:/path/youan_final_long_TC.csv\")\n",
    "df_final_surv <- read.csv(\"C:/path/youan_final_surv_TC.csv\")\n",
    "\n",
    "df_final_surv$IIR_3revi <- as.numeric(df_final_surv$IIR_3revi)\n",
    "df_final_surv$time1.new <- as.numeric(df_final_surv$time1.new) \n",
    "\n",
    "# Joint Model Fitting (based on youan data)\n",
    "CoxFit3 <- coxph(Surv(time1.new, IIR_3revi) ~ B9+B19+AGE_10, data = df_final_surv)\n",
    "\n",
    "lmeFit1 <- lme(F2 ~ ns(follow.up.years, 2, B = c(0, 6.7))+B9+B8+B12_group+B18_group+B10_group+AGE_10+B16_group, \n",
    "                data = df_final_long, random = ~ ns(follow.up.years, 2, B = c(0, 6.7)) | NID,\n",
    "                control = lmeControl(opt = \"optim\"))\n",
    "lmeFit2 <- lme(CD4CD8 ~ ns(follow.up.years, 2, B = c(0, 6.4))+B2+AGE_10+B25+B12_group+B16_group+B9+B8+B10_group, \n",
    "                data = df_final_long, random = ~ ns(follow.up.years, 2, B = c(0, 6.4)) | NID,\n",
    "                control = lmeControl(opt = \"optim\"))\n",
    "jmFitcox3.12_youan <- jm(CoxFit3, list(lmeFit1, lmeFit2), time_var = \"follow.up.years\")"
   ]
  },
  {
   "cell_type": "code",
   "execution_count": null,
   "metadata": {
    "vscode": {
     "languageId": "r"
    }
   },
   "outputs": [],
   "source": [
    "# tvROC,jmFitcox3.12,Thoriz = 5\n",
    "jmFitcox3.12_youan_roc15 <- tvROC(jmFitcox3.12_youan, newdata = df_final_long, Tstart = 1, Thoriz = 5)\n",
    "jmFitcox3.12_youan_roc25 <- tvROC(jmFitcox3.12_youan, newdata = df_final_long, Tstart = 2, Thoriz = 5)\n",
    "jmFitcox3.12_youan_roc35 <- tvROC(jmFitcox3.12_youan, newdata = df_final_long, Tstart = 3, Thoriz = 5)\n",
    "jmFitcox3.12_youan_roc45 <- tvROC(jmFitcox3.12_youan, newdata = df_final_long, Tstart = 4, Thoriz = 5)\n",
    "\n",
    "print(tvAUC(jmFitcox3.12_youan_roc15))\n",
    "print(tvAUC(jmFitcox3.12_youan_roc25))\n",
    "print(tvAUC(jmFitcox3.12_youan_roc35))\n",
    "print(tvAUC(jmFitcox3.12_youan_roc45))"
   ]
  },
  {
   "cell_type": "code",
   "execution_count": null,
   "metadata": {
    "vscode": {
     "languageId": "r"
    }
   },
   "outputs": [],
   "source": [
    "# tvROC,jmFitcox3.12,Thoriz = 6\n",
    "jmFitcox3.12_youan_roc16 <- tvROC(jmFitcox3.12_youan, newdata = df_final_long, Tstart = 1, Thoriz = 6)\n",
    "jmFitcox3.12_youan_roc26 <- tvROC(jmFitcox3.12_youan, newdata = df_final_long, Tstart = 2, Thoriz = 6)\n",
    "jmFitcox3.12_youan_roc36 <- tvROC(jmFitcox3.12_youan, newdata = df_final_long, Tstart = 3, Thoriz = 6)\n",
    "jmFitcox3.12_youan_roc46 <- tvROC(jmFitcox3.12_youan, newdata = df_final_long, Tstart = 4, Thoriz = 6)\n",
    "\n",
    "print(tvAUC(jmFitcox3.12_youan_roc16))\n",
    "print(tvAUC(jmFitcox3.12_youan_roc26))\n",
    "print(tvAUC(jmFitcox3.12_youan_roc36))\n",
    "print(tvAUC(jmFitcox3.12_youan_roc46))"
   ]
  },
  {
   "cell_type": "code",
   "execution_count": null,
   "metadata": {
    "vscode": {
     "languageId": "r"
    }
   },
   "outputs": [],
   "source": [
    "# tvROC,jmFitcox3.12,Thoriz = 7\n",
    "jmFitcox3.12_youan_roc17 <- tvROC(jmFitcox3.12_youan, newdata = df_final_long, Tstart = 1, Thoriz = 7)\n",
    "jmFitcox3.12_youan_roc27 <- tvROC(jmFitcox3.12_youan, newdata = df_final_long, Tstart = 2, Thoriz = 7)\n",
    "jmFitcox3.12_youan_roc37 <- tvROC(jmFitcox3.12_youan, newdata = df_final_long, Tstart = 3, Thoriz = 7)\n",
    "jmFitcox3.12_youan_roc47 <- tvROC(jmFitcox3.12_youan, newdata = df_final_long, Tstart = 4, Thoriz = 7)\n",
    "\n",
    "print(tvAUC(jmFitcox3.12_youan_roc17))\n",
    "print(tvAUC(jmFitcox3.12_youan_roc27))\n",
    "print(tvAUC(jmFitcox3.12_youan_roc37))\n",
    "print(tvAUC(jmFitcox3.12_youan_roc47))"
   ]
  }
 ],
 "metadata": {
  "kernelspec": {
   "display_name": "R",
   "language": "R",
   "name": "ir"
  },
  "language_info": {
   "codemirror_mode": "r",
   "file_extension": ".r",
   "mimetype": "text/x-r-source",
   "name": "R",
   "pygments_lexer": "r",
   "version": "4.3.3"
  }
 },
 "nbformat": 4,
 "nbformat_minor": 2
}
