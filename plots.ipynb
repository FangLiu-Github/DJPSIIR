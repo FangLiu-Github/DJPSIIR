{
 "cells": [
  {
   "cell_type": "code",
   "execution_count": 20,
   "metadata": {
    "vscode": {
     "languageId": "r"
    }
   },
   "outputs": [],
   "source": [
    "# trajecotry plot for a single case\n",
    "library(dplyr)\n",
    "library(JMbayes2)\n",
    "library(ggplot2)\n",
    "\n",
    "# case from Ditan cohort\n",
    "t0 <- 4\n",
    "ND <- df_final_long[df_final_long$NID %in% c(\"S000906121003\"), ]\n",
    "ND <- ND[ND$follow.up.years < t0, ]\n",
    "ND$IIR_3revi <- 0\n",
    "ND$time1 <- t0\n",
    "# test 1\n",
    "predLong1 <- predict(jmFitcox3.12, newdata = ND, return_newdata = TRUE)\n",
    "plot(predLong1)\n",
    "# test 2\n",
    "predLong2 <- predict(jmFitcox3.12, newdata = ND,\n",
    "                     times = seq(t0, 6, length.out = 51),\n",
    "                     return_newdata = TRUE)\n",
    "\n",
    "plot(predLong2, outcomes = 1, subject = \"NID3371721687854169587\")\n",
    "# test 3\n",
    "predSurv <- predict(jmFitcox3.12, newdata = ND, process = \"event\",\n",
    "                    times = seq(t0, 6, length.out = 51),\n",
    "                    return_newdata = TRUE)\n",
    "\n",
    "plot(predLong2, predSurv)\n",
    "# case plot\n",
    "cols <- c('#1f1090', '#080005')\n",
    "p <- plot(predLong2, predSurv, outcomes = 1:2, subject = \"NID1012971238371722386\",\n",
    "     fun_long = list(identity, identity),\n",
    "     fun_event = function (x) 1 - x,\n",
    "     ylab_event = \"Survival Probabilities\",\n",
    "     ylab_long = c(\"CD4\", \"CD4/CD8\"),\n",
    "     bg = '#fdfdfe', col_points = cols, col_line_long = cols,\n",
    "     col_line_event = '#f80404', col_axis = \"#080808\", \n",
    "     fill_CI_long = NULL,\n",
    "     fill_CI_event = NULL, \n",
    "     pos_ylab_long = c(1000, 2.5))\n",
    "\n",
    "print(p)"
   ]
  },
  {
   "cell_type": "code",
   "execution_count": null,
   "metadata": {
    "vscode": {
     "languageId": "r"
    }
   },
   "outputs": [],
   "source": [
    "# Distribution plot of variables\n",
    "library(graphics)\n",
    "library(grDevices)\n",
    "\n",
    "df_final_long <- read.csv(\"..\")\n",
    "df_final_surv <- read.csv(\"..\")\n",
    "\n",
    "selected_cols_long <- c(\"F2\", \"CD4CD8\")\n",
    "\n",
    "par(mfrow = c(ceiling(length(selected_cols_long)/2), 2), mar = c(4, 4, 2, 1))\n",
    "\n",
    "lapply(selected_cols_long, function(col) {\n",
    "  data <- df_final_long[[col]]\n",
    "  if (all(is.na(data))) {\n",
    "    warning(paste(\"Column\", col, \"contains only NA values. Skipping this column.\"))\n",
    "  } else {\n",
    "    hist(data, main = paste(\"Histogram of\", col), xlab = col, col = \"skyblue\", \n",
    "    border = \"black\", breaks = 50)\n",
    "    lines(density(data, na.rm = TRUE), col = \"red\")\n",
    "  }\n",
    "})\n",
    "\n",
    "pdf(\"df_final_long_distributions.pdf\", width = 20, height = 6)\n",
    "par(mfrow = c(ceiling(length(selected_cols_long)/2), 2), mar = c(4, 4, 2, 1))\n",
    "\n",
    "lapply(selected_cols_long, function(col) {\n",
    "  data <- df_final_long[[col]]\n",
    "  if (all(is.na(data))) {\n",
    "    warning(paste(\"Column\", col, \"contains only NA values. Skipping this column.\"))\n",
    "  } else {\n",
    "    hist(data, main = paste(\"Histogram of\", col), xlab = col, col = \"skyblue\", \n",
    "    border = \"black\", breaks = 50)\n",
    "    lines(density(data, na.rm = TRUE), col = \"red\")\n",
    "  }\n",
    "})\n",
    "\n",
    "dev.off()"
   ]
  }
 ],
 "metadata": {
  "kernelspec": {
   "display_name": "R",
   "language": "R",
   "name": "ir"
  },
  "language_info": {
   "codemirror_mode": "r",
   "file_extension": ".r",
   "mimetype": "text/x-r-source",
   "name": "R",
   "pygments_lexer": "r",
   "version": "4.3.3"
  }
 },
 "nbformat": 4,
 "nbformat_minor": 2
}
