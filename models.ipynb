{
 "cells": [
  {
   "cell_type": "code",
   "execution_count": null,
   "metadata": {
    "vscode": {
     "languageId": "r"
    }
   },
   "outputs": [],
   "source": [
    "# base model for the training process, external testing process, and drug stratified analysis\n",
    "library(survival)\n",
    "library(nlme)\n",
    "library(splines)\n",
    "library(JMbayes2)\n",
    "# replace \"..\" with the training, external testing, and drug stratified dataset as needed\n",
    "df_final_surv <- read.csv(\"..\")\n",
    "df_final_long <- read.csv(\"..\")\n",
    "\n",
    "CoxFit3 <- coxph(Surv(time1, IIR_3revi) ~ B9 + B19_group + AGE_10, data = df_final_surv)\n",
    "summary(CoxFit3)\n",
    "\n",
    "lmeFit1 <- lme(F2 ~ ns(follow.up.years, 2, B = c(0, 6.7)) + B9 + B8 + B12_group + B18_group + B10_group + AGE_10 + B16_group, \n",
    "               data = df_final_long, random = ~ ns(follow.up.years, 2, B = c(0, 6.7)) | NID,\n",
    "               control = lmeControl(opt = \"optim\"))\n",
    "\n",
    "lmeFit2 <- lme(CD4CD8 ~ ns(follow.up.years, 2, B = c(0, 6.4)) + B2 + AGE_10 + B25 + B12_group + B16_group + B9 + B8 + B10_group, \n",
    "               data = df_final_long, random = ~ ns(follow.up.years, 2, B = c(0, 6.4)) | NID,\n",
    "               control = lmeControl(opt = \"optim\"))\n",
    "\n",
    "jmFitcox3.12 <- jm(CoxFit3, list(lmeFit1, lmeFit2), time_var = \"follow.up.years\")"
   ]
  },
  {
   "cell_type": "code",
   "execution_count": null,
   "metadata": {
    "vscode": {
     "languageId": "r"
    }
   },
   "outputs": [],
   "source": [
    "# model ROAUC\n",
    "library(JMbayes2)\n",
    "library(timeROC)\n",
    "\n",
    "jmFitcox3.12_roc <- tvROC(jmFitcox3.12, newdata = df_final_long, Tstart = .., Thoriz = ..)\n",
    "# Tstart = 1, 2, 3, 4; Thoriz = 5\n",
    "# Tstart = 1, 2, 3, 4, 5; Thoriz = 6\n",
    "# Tstart = 1, 2, 3, 4, 5, 6; Thoriz = 7\n",
    "print(tvAUC(jmFitcox3.12_roc))\n"
   ]
  },
  {
   "cell_type": "code",
   "execution_count": null,
   "metadata": {
    "vscode": {
     "languageId": "r"
    }
   },
   "outputs": [],
   "source": [
    "# model calibration\n",
    "library(JMbayes2)\n",
    "library(ggplot2)\n",
    "\n",
    "jmFitcox3.12_cp <- calibration_plot(jmFitcox3.12, newdata = df_final_long, Tstart = .., Thoriz = ..)\n",
    "# Tstart = 1, 2, 3, 4; Thoriz = 5\n",
    "# Tstart = 1, 2, 3, 4, 5; Thoriz = 6\n",
    "# Tstart = 1, 2, 3, 4, 5, 6; Thoriz = 7"
   ]
  },
  {
   "cell_type": "code",
   "execution_count": null,
   "metadata": {
    "vscode": {
     "languageId": "r"
    }
   },
   "outputs": [],
   "source": [
    "# base model for internal validation\n",
    "library(splitstackshape)\n",
    "library(dplyr)\n",
    "library(survival)\n",
    "library(nlme)\n",
    "library(splines)\n",
    "library(JMbayes2)\n",
    "library(timeROC)\n",
    "\n",
    "df_total <- data.frame()\n",
    "\n",
    "for (i in 1:50) {\n",
    "  bootstrap_index <- as.integer(rownames(stratified(df_final_surv, \"IIR_3revi\", size = nrow(df_final_surv) * 0.5)))\n",
    "  \n",
    "  valid_data_surv <- df_final_surv[bootstrap_index, ]\n",
    "  valid_data_long <- dplyr::filter(df_final_long, NID %in% valid_data_surv$NID)\n",
    "  valid_data_surv <- dplyr::filter(valid_data_surv, NID %in% valid_data_long$NID)\n",
    "  # Tstart = 1, 2, 3, 4, 5; Thoriz = 6\n",
    "  CoxFit3 <- coxph(Surv(time1, IIR_3revi) ~ B9+B19_group+BMI_group+AGE_10, data = valid_data_surv)\n",
    "  lmeFit1 <- lme(F2 ~ ns(follow.up.years, 2, B = c(0, 6.7))+B9+B8+B12_group+BMI_group+B18_group+B10_group+AGE_10+B16_group, \n",
    "                 data = valid_data_long, random = ~ ns(follow.up.years, 2, B = c(0, 6.7)) | NID,\n",
    "                 control = lmeControl(opt = \"optim\"))\n",
    "  lmeFit2 <- lme(CD4CD8 ~ ns(follow.up.years, 2, B = c(0, 6.4))+B2+AGE_10+B25+B12_group+B16_group+B9+B8+B10_group, \n",
    "                 data = valid_data_long, random = ~ ns(follow.up.years, 2, B = c(0, 6.4)) | NID,\n",
    "                 control = lmeControl(opt = \"optim\"))\n",
    "  jmFitcox3.12 <- jm(CoxFit3, list(lmeFit1, lmeFit2), time_var = \"follow.up.years\")\n",
    "  \n",
    "  roc_result16 <- tvROC(jmFitcox3.12, newdata = valid_data_long, Tstart = 1, Thoriz = 6)\n",
    "  roc_result26 <- tvROC(jmFitcox3.12, newdata = valid_data_long, Tstart = 2, Thoriz = 6)\n",
    "  roc_result36 <- tvROC(jmFitcox3.12, newdata = valid_data_long, Tstart = 3, Thoriz = 6)\n",
    "  roc_result46 <- tvROC(jmFitcox3.12, newdata = valid_data_long, Tstart = 4, Thoriz = 6)\n",
    "  roc_result56 <- tvROC(jmFitcox3.12, newdata = valid_data_long, Tstart = 5, Thoriz = 6)\n",
    "  \n",
    "  result1 <- tvAUC(roc_result16)\n",
    "  result2 <- tvAUC(roc_result26)\n",
    "  result3 <- tvAUC(roc_result36)\n",
    "  result4 <- tvAUC(roc_result46)\n",
    "  result5 <- tvAUC(roc_result56)\n",
    "\n",
    "  df1 <- data.frame(\n",
    "  Estimated_AUC = result1$auc,\n",
    "  At_time = result1$Tstart,\n",
    "  Subjects = result1$nr\n",
    ")\n",
    "  df2 <- data.frame(\n",
    "  Estimated_AUC = result2$auc,\n",
    "  At_time = result2$Tstart,\n",
    "  Subjects = result2$nr\n",
    ")\n",
    "  df3 <- data.frame(\n",
    "  Estimated_AUC = result3$auc,\n",
    "  At_time = result3$Tstart,\n",
    "  Subjects = result3$nr\n",
    ")\n",
    "  df4 <- data.frame(\n",
    "  Estimated_AUC = result4$auc,\n",
    "  At_time = result4$Tstart,\n",
    "  Subjects = result4$nr\n",
    ")\n",
    "  df5 <- data.frame(\n",
    "  Estimated_AUC = result5$auc,\n",
    "  At_time = result5$Tstart,\n",
    "  Subjects = result5$nr\n",
    ")\n",
    "  df_total <- rbind(df_total, df1, df2, df3, df4, df5)\n",
    "}"
   ]
  },
  {
   "cell_type": "code",
   "execution_count": 119,
   "metadata": {
    "vscode": {
     "languageId": "r"
    }
   },
   "outputs": [],
   "source": [
    "# update models\n",
    "library(JMbayes2)\n",
    "\n",
    "jmFitcox3.12.value <- update(jmFitcox3.12, functional_forms = ~ value(F2) + value(CD4CD8))\n",
    "jmFitcox3.12.slope <- update(jmFitcox3.12, functional_forms = ~ slope(F2) + slope(CD4CD8))\n",
    "jmFitcox3.12.slope1 <- update(jmFitcox3.12, functional_forms = ~ value(F2) + slope(F2) \n",
    "                             + value(CD4CD8) + slope(CD4CD8))\n",
    "jmFitcox3.12.area <- update(jmFitcox3.12, functional_forms = ~ area(F2) + area(CD4CD8))\n",
    "jmFitcox3.12.area1 <- update(jmFitcox3.12, functional_forms = ~ value(F2) + area(F2) \n",
    "                         + value(CD4CD8) + area(CD4CD8))"
   ]
  },
  {
   "cell_type": "code",
   "execution_count": 22,
   "metadata": {
    "vscode": {
     "languageId": "r"
    }
   },
   "outputs": [],
   "source": [
    "# model updated by adding cross-sectional values at 4-year follow-up\n",
    "library(survival)\n",
    "library(nlme)\n",
    "library(splines)\n",
    "library(JMbayes2)\n",
    "\n",
    "df_surv_4 <- read.csv(\"..\")\n",
    "df_long_4 <- read.csv(\"..\")\n",
    "\n",
    "CoxFit3 <- coxph(Surv(time1, IIR_3revi) ~ B9+B19_group+BMI_group+AGE_10, data = df_surv_4)\n",
    "lmeFit1 <- lme(F2 ~ ns(follow.up.years, 2, B = c(0, 6.7))+B9+B8+B12_group+BMI_group+B18_group\n",
    "                +B10_group+AGE_10+B16_group+F2_4+CD4CD8_4, \n",
    "                data = df_long_4, random = ~ ns(follow.up.years, 2, B = c(0, 6.7)) | NID,\n",
    "                control = lmeControl(opt = \"optim\"))\n",
    "lmeFit2 <- lme(CD4CD8 ~ ns(follow.up.years, 2, B = c(0, 6.4))+B2+AGE_10+B25+B12_group+B16_group+B9\n",
    "                +B8+B10_group+F2_4+CD4CD8_4, \n",
    "                data = df_long_4, random = ~ ns(follow.up.years, 2, B = c(0, 6.4)) | NID,\n",
    "                control = lmeControl(opt = \"optim\"))\n",
    "jmFitcox3.12 <- jm(CoxFit3, list(lmeFit1, lmeFit2), time_var = \"follow.up.years\")"
   ]
  }
 ],
 "metadata": {
  "kernelspec": {
   "display_name": "R",
   "language": "R",
   "name": "ir"
  },
  "language_info": {
   "codemirror_mode": "r",
   "file_extension": ".r",
   "mimetype": "text/x-r-source",
   "name": "R",
   "pygments_lexer": "r",
   "version": "4.3.3"
  }
 },
 "nbformat": 4,
 "nbformat_minor": 2
}
